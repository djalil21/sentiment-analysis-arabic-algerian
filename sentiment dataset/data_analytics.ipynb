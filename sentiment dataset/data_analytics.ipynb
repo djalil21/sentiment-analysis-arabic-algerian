{
  "cells": [
    {
      "cell_type": "markdown",
      "metadata": {
        "id": "g0-UiSIraXzL"
      },
      "source": [
        "# install and import"
      ]
    },
    {
      "cell_type": "code",
      "execution_count": null,
      "metadata": {
        "colab": {
          "base_uri": "https://localhost:8080/"
        },
        "id": "OixjCKPnbvwg",
        "outputId": "3b182b4c-cfa8-4411-b174-cb5604340dad"
      },
      "outputs": [
        {
          "name": "stdout",
          "output_type": "stream",
          "text": [
            "Looking in indexes: https://pypi.org/simple, https://us-python.pkg.dev/colab-wheels/public/simple/\n",
            "Collecting emoji\n",
            "  Downloading emoji-2.5.1.tar.gz (356 kB)\n",
            "\u001b[2K     \u001b[90m━━━━━━━━━━━━━━━━━━━━━━━━━━━━━━━━━━━━━━━\u001b[0m \u001b[32m356.3/356.3 kB\u001b[0m \u001b[31m7.2 MB/s\u001b[0m eta \u001b[36m0:00:00\u001b[0m\n",
            "\u001b[?25h  Preparing metadata (setup.py) ... \u001b[?25l\u001b[?25hdone\n",
            "Building wheels for collected packages: emoji\n",
            "  Building wheel for emoji (setup.py) ... \u001b[?25l\u001b[?25hdone\n",
            "  Created wheel for emoji: filename=emoji-2.5.1-py2.py3-none-any.whl size=351210 sha256=e486c1ee532be25a5f67697d63e4117082d21adec96dc265246d9274c86eda48\n",
            "  Stored in directory: /root/.cache/pip/wheels/51/92/44/e2ef13f803aa08711819357e6de0c5fe67b874671141413565\n",
            "Successfully built emoji\n",
            "Installing collected packages: emoji\n",
            "Successfully installed emoji-2.5.1\n"
          ]
        }
      ],
      "source": [
        "!pip install emoji"
      ]
    },
    {
      "cell_type": "code",
      "execution_count": null,
      "metadata": {
        "colab": {
          "base_uri": "https://localhost:8080/"
        },
        "id": "7CbDn0HFldfT",
        "outputId": "f257d8d4-0129-412e-f584-52900abe7d7a"
      },
      "outputs": [
        {
          "name": "stdout",
          "output_type": "stream",
          "text": [
            "Mounted at /content/drive\n"
          ]
        }
      ],
      "source": [
        "from google.colab import drive\n",
        "drive.mount('/content/drive')"
      ]
    },
    {
      "cell_type": "code",
      "execution_count": null,
      "metadata": {
        "id": "n4oedIrgrFw_"
      },
      "outputs": [],
      "source": [
        "import pandas as pd\n",
        "import re\n",
        "import numpy as np\n",
        "import matplotlib.pyplot as plt\n",
        "import emoji\n",
        "import nltk"
      ]
    },
    {
      "cell_type": "code",
      "execution_count": null,
      "metadata": {
        "colab": {
          "base_uri": "https://localhost:8080/",
          "height": 52
        },
        "id": "fKex8aCrN1Ws",
        "outputId": "64a52cdf-d0b3-484c-ad86-7ed8f4677547"
      },
      "outputs": [
        {
          "data": {
            "text/plain": [
              "<Figure size 1920x1440 with 0 Axes>"
            ]
          },
          "execution_count": 4,
          "metadata": {},
          "output_type": "execute_result"
        },
        {
          "data": {
            "text/plain": [
              "<Figure size 1920x1440 with 0 Axes>"
            ]
          },
          "metadata": {},
          "output_type": "display_data"
        }
      ],
      "source": [
        "plt.rcdefaults() #defaults values for plt\n",
        "plt.figure(dpi=300) #increase quality for plt"
      ]
    },
    {
      "cell_type": "markdown",
      "metadata": {
        "id": "ijTr5N9QYsTu"
      },
      "source": [
        "# DATA"
      ]
    },
    {
      "cell_type": "code",
      "execution_count": null,
      "metadata": {
        "id": "oflAnBkowvAs"
      },
      "outputs": [],
      "source": [
        "df = pd.read_csv('/content/drive/MyDrive/Colab Notebooks/Final.csv') # Read Final dataset"
      ]
    },
    {
      "cell_type": "code",
      "execution_count": null,
      "metadata": {
        "colab": {
          "base_uri": "https://localhost:8080/"
        },
        "id": "yeAn1WlZ9obg",
        "outputId": "fe7351d0-ca9d-4e0e-8260-5c0599244171"
      },
      "outputs": [
        {
          "data": {
            "text/plain": [
              "(27774, 2)"
            ]
          },
          "execution_count": 6,
          "metadata": {},
          "output_type": "execute_result"
        }
      ],
      "source": [
        "df.shape #dataset dimentions"
      ]
    },
    {
      "cell_type": "code",
      "execution_count": null,
      "metadata": {
        "colab": {
          "base_uri": "https://localhost:8080/",
          "height": 206
        },
        "id": "POxPRdgj-ekO",
        "outputId": "ab4e6f7e-99af-49ba-9696-5498990a1e33"
      },
      "outputs": [
        {
          "data": {
            "text/html": [
              "\n",
              "  <div id=\"df-8121621e-a17a-4a52-8994-ba3ed85c2fe6\">\n",
              "    <div class=\"colab-df-container\">\n",
              "      <div>\n",
              "<style scoped>\n",
              "    .dataframe tbody tr th:only-of-type {\n",
              "        vertical-align: middle;\n",
              "    }\n",
              "\n",
              "    .dataframe tbody tr th {\n",
              "        vertical-align: top;\n",
              "    }\n",
              "\n",
              "    .dataframe thead th {\n",
              "        text-align: right;\n",
              "    }\n",
              "</style>\n",
              "<table border=\"1\" class=\"dataframe\">\n",
              "  <thead>\n",
              "    <tr style=\"text-align: right;\">\n",
              "      <th></th>\n",
              "      <th>sentiment</th>\n",
              "      <th>text</th>\n",
              "    </tr>\n",
              "  </thead>\n",
              "  <tbody>\n",
              "    <tr>\n",
              "      <th>0</th>\n",
              "      <td>negative</td>\n",
              "      <td>فرنسيه تاعك طربڨ  😅  😅فات شهر والو</td>\n",
              "    </tr>\n",
              "    <tr>\n",
              "      <th>1</th>\n",
              "      <td>negative</td>\n",
              "      <td>واش انتم ولاد فرنسا</td>\n",
              "    </tr>\n",
              "    <tr>\n",
              "      <th>2</th>\n",
              "      <td>negative</td>\n",
              "      <td>قنوات الجزاير بدون ترجمه نتوما خير سبوره والله...</td>\n",
              "    </tr>\n",
              "    <tr>\n",
              "      <th>3</th>\n",
              "      <td>negative</td>\n",
              "      <td>جاز شهر ماكانش الاسعار كيما قلتو علاه تكذبو</td>\n",
              "    </tr>\n",
              "    <tr>\n",
              "      <th>4</th>\n",
              "      <td>negative</td>\n",
              "      <td>اللغه الفرنسيه تجري عروقهم لاحول قوه الا بالله</td>\n",
              "    </tr>\n",
              "  </tbody>\n",
              "</table>\n",
              "</div>\n",
              "      <button class=\"colab-df-convert\" onclick=\"convertToInteractive('df-8121621e-a17a-4a52-8994-ba3ed85c2fe6')\"\n",
              "              title=\"Convert this dataframe to an interactive table.\"\n",
              "              style=\"display:none;\">\n",
              "        \n",
              "  <svg xmlns=\"http://www.w3.org/2000/svg\" height=\"24px\"viewBox=\"0 0 24 24\"\n",
              "       width=\"24px\">\n",
              "    <path d=\"M0 0h24v24H0V0z\" fill=\"none\"/>\n",
              "    <path d=\"M18.56 5.44l.94 2.06.94-2.06 2.06-.94-2.06-.94-.94-2.06-.94 2.06-2.06.94zm-11 1L8.5 8.5l.94-2.06 2.06-.94-2.06-.94L8.5 2.5l-.94 2.06-2.06.94zm10 10l.94 2.06.94-2.06 2.06-.94-2.06-.94-.94-2.06-.94 2.06-2.06.94z\"/><path d=\"M17.41 7.96l-1.37-1.37c-.4-.4-.92-.59-1.43-.59-.52 0-1.04.2-1.43.59L10.3 9.45l-7.72 7.72c-.78.78-.78 2.05 0 2.83L4 21.41c.39.39.9.59 1.41.59.51 0 1.02-.2 1.41-.59l7.78-7.78 2.81-2.81c.8-.78.8-2.07 0-2.86zM5.41 20L4 18.59l7.72-7.72 1.47 1.35L5.41 20z\"/>\n",
              "  </svg>\n",
              "      </button>\n",
              "      \n",
              "  <style>\n",
              "    .colab-df-container {\n",
              "      display:flex;\n",
              "      flex-wrap:wrap;\n",
              "      gap: 12px;\n",
              "    }\n",
              "\n",
              "    .colab-df-convert {\n",
              "      background-color: #E8F0FE;\n",
              "      border: none;\n",
              "      border-radius: 50%;\n",
              "      cursor: pointer;\n",
              "      display: none;\n",
              "      fill: #1967D2;\n",
              "      height: 32px;\n",
              "      padding: 0 0 0 0;\n",
              "      width: 32px;\n",
              "    }\n",
              "\n",
              "    .colab-df-convert:hover {\n",
              "      background-color: #E2EBFA;\n",
              "      box-shadow: 0px 1px 2px rgba(60, 64, 67, 0.3), 0px 1px 3px 1px rgba(60, 64, 67, 0.15);\n",
              "      fill: #174EA6;\n",
              "    }\n",
              "\n",
              "    [theme=dark] .colab-df-convert {\n",
              "      background-color: #3B4455;\n",
              "      fill: #D2E3FC;\n",
              "    }\n",
              "\n",
              "    [theme=dark] .colab-df-convert:hover {\n",
              "      background-color: #434B5C;\n",
              "      box-shadow: 0px 1px 3px 1px rgba(0, 0, 0, 0.15);\n",
              "      filter: drop-shadow(0px 1px 2px rgba(0, 0, 0, 0.3));\n",
              "      fill: #FFFFFF;\n",
              "    }\n",
              "  </style>\n",
              "\n",
              "      <script>\n",
              "        const buttonEl =\n",
              "          document.querySelector('#df-8121621e-a17a-4a52-8994-ba3ed85c2fe6 button.colab-df-convert');\n",
              "        buttonEl.style.display =\n",
              "          google.colab.kernel.accessAllowed ? 'block' : 'none';\n",
              "\n",
              "        async function convertToInteractive(key) {\n",
              "          const element = document.querySelector('#df-8121621e-a17a-4a52-8994-ba3ed85c2fe6');\n",
              "          const dataTable =\n",
              "            await google.colab.kernel.invokeFunction('convertToInteractive',\n",
              "                                                     [key], {});\n",
              "          if (!dataTable) return;\n",
              "\n",
              "          const docLinkHtml = 'Like what you see? Visit the ' +\n",
              "            '<a target=\"_blank\" href=https://colab.research.google.com/notebooks/data_table.ipynb>data table notebook</a>'\n",
              "            + ' to learn more about interactive tables.';\n",
              "          element.innerHTML = '';\n",
              "          dataTable['output_type'] = 'display_data';\n",
              "          await google.colab.output.renderOutput(dataTable, element);\n",
              "          const docLink = document.createElement('div');\n",
              "          docLink.innerHTML = docLinkHtml;\n",
              "          element.appendChild(docLink);\n",
              "        }\n",
              "      </script>\n",
              "    </div>\n",
              "  </div>\n",
              "  "
            ],
            "text/plain": [
              "  sentiment                                               text\n",
              "0  negative                 فرنسيه تاعك طربڨ  😅  😅فات شهر والو\n",
              "1  negative                                واش انتم ولاد فرنسا\n",
              "2  negative  قنوات الجزاير بدون ترجمه نتوما خير سبوره والله...\n",
              "3  negative        جاز شهر ماكانش الاسعار كيما قلتو علاه تكذبو\n",
              "4  negative     اللغه الفرنسيه تجري عروقهم لاحول قوه الا بالله"
            ]
          },
          "execution_count": 7,
          "metadata": {},
          "output_type": "execute_result"
        }
      ],
      "source": [
        "df.head() #first five"
      ]
    },
    {
      "cell_type": "code",
      "execution_count": null,
      "metadata": {
        "id": "U93hB1eWCKx8"
      },
      "outputs": [],
      "source": [
        "df=df.dropna() #drop null values"
      ]
    },
    {
      "cell_type": "code",
      "execution_count": null,
      "metadata": {
        "colab": {
          "base_uri": "https://localhost:8080/"
        },
        "id": "Ha1MzZsMqu7S",
        "outputId": "c4b3cb76-0829-45d9-a269-ece2c3b6e3a1"
      },
      "outputs": [
        {
          "name": "stderr",
          "output_type": "stream",
          "text": [
            "<ipython-input-9-8a4fbac2d75a>:1: SettingWithCopyWarning: \n",
            "A value is trying to be set on a copy of a slice from a DataFrame.\n",
            "Try using .loc[row_indexer,col_indexer] = value instead\n",
            "\n",
            "See the caveats in the documentation: https://pandas.pydata.org/pandas-docs/stable/user_guide/indexing.html#returning-a-view-versus-a-copy\n",
            "  df.text=df.text.astype(str) #text column to string\n"
          ]
        }
      ],
      "source": [
        "df.text=df.text.astype(str) #text column to string"
      ]
    },
    {
      "cell_type": "code",
      "execution_count": null,
      "metadata": {
        "id": "j2lkE_Od9qzW"
      },
      "outputs": [],
      "source": [
        "df = df.drop_duplicates() #keep only one sentence"
      ]
    },
    {
      "cell_type": "code",
      "execution_count": null,
      "metadata": {
        "colab": {
          "base_uri": "https://localhost:8080/"
        },
        "id": "ANH7tUnLydFY",
        "outputId": "e08c4ac2-d645-4e6b-e401-19be15aad8de"
      },
      "outputs": [
        {
          "data": {
            "text/plain": [
              "(27571, 2)"
            ]
          },
          "execution_count": 11,
          "metadata": {},
          "output_type": "execute_result"
        }
      ],
      "source": [
        "df.shape"
      ]
    },
    {
      "cell_type": "code",
      "execution_count": null,
      "metadata": {
        "colab": {
          "base_uri": "https://localhost:8080/"
        },
        "id": "t6sS0oN4u5z6",
        "outputId": "8c9cef95-132f-47de-af2d-2d7f0aa1ae0e"
      },
      "outputs": [
        {
          "data": {
            "text/plain": [
              "negative    12081\n",
              "neutral      8186\n",
              "positive     7304\n",
              "Name: sentiment, dtype: int64"
            ]
          },
          "execution_count": 12,
          "metadata": {},
          "output_type": "execute_result"
        }
      ],
      "source": [
        "df['sentiment'].value_counts()"
      ]
    },
    {
      "cell_type": "code",
      "execution_count": null,
      "metadata": {
        "colab": {
          "base_uri": "https://localhost:8080/"
        },
        "id": "jMXz6dCxQA21",
        "outputId": "e4176cf7-653e-44be-9c03-7c2185d03155"
      },
      "outputs": [
        {
          "data": {
            "text/plain": [
              "27571"
            ]
          },
          "execution_count": 13,
          "metadata": {},
          "output_type": "execute_result"
        }
      ],
      "source": [
        "total = len(df[\"text\"].values)\n",
        "total"
      ]
    },
    {
      "cell_type": "markdown",
      "metadata": {
        "id": "pvtgP7kfaHht"
      },
      "source": [
        "# Sentiment distribution"
      ]
    },
    {
      "cell_type": "code",
      "execution_count": null,
      "metadata": {
        "colab": {
          "base_uri": "https://localhost:8080/",
          "height": 551
        },
        "id": "VCCJAYOCaMpd",
        "outputId": "7ba7d672-b7be-4fae-b1a3-c460951d10fa"
      },
      "outputs": [
        {
          "name": "stdout",
          "output_type": "stream",
          "text": [
            "43.817779421806335\n",
            "29.690617322921753\n",
            "26.49160325527191\n"
          ]
        },
        {
          "data": {
            "image/png": "[encoded data removed]",
            "text/plain": [
              "<Figure size 600x600 with 1 Axes>"
            ]
          },
          "metadata": {},
          "output_type": "display_data"
        }
      ],
      "source": [
        "plt.figure(figsize=(6, 6))\n",
        "def my_fmt(x):\n",
        "    print(x)\n",
        "    return '{:.1f}%\\n({:.0f})'.format(x, total*x/100)\n",
        "\n",
        "colors =[\"#0077b6\",\"#48cae4\",\"#caf0f8\"]\n",
        "plt.pie(df['sentiment'].value_counts() , labels=df['sentiment'].value_counts().index , colors=colors, autopct=my_fmt,wedgeprops={'linewidth': 1, 'edgecolor': '#03045e'} , startangle=90)\n",
        "plt.axis('equal')\n",
        "plt.savefig('sentiment_distribution.png',dpi=300)\n",
        "plt.show()\n",
        "plt.close()"
      ]
    },
    {
      "cell_type": "markdown",
      "metadata": {
        "id": "wXKtcFri9Xbk"
      },
      "source": [
        "# balanced data"
      ]
    },
    {
      "cell_type": "code",
      "execution_count": null,
      "metadata": {
        "id": "ePAeplHe9aOw"
      },
      "outputs": [],
      "source": [
        "positive_sentences = df[df['sentiment'] == \"positive\"]\n",
        "negative_sentences = df[df['sentiment'] == \"negative\"]\n",
        "neutral_sentences = df[df['sentiment'] == \"neutral\"]"
      ]
    },
    {
      "cell_type": "code",
      "execution_count": null,
      "metadata": {
        "id": "5TuxYquI-nYZ"
      },
      "outputs": [],
      "source": [
        "min_sentences = min(len(positive_sentences), len(negative_sentences), len(neutral_sentences))"
      ]
    },
    {
      "cell_type": "code",
      "execution_count": null,
      "metadata": {
        "colab": {
          "base_uri": "https://localhost:8080/"
        },
        "id": "nttI8dZf-p4s",
        "outputId": "304855db-07fd-4f11-ad5c-152e172adc0f"
      },
      "outputs": [
        {
          "data": {
            "text/plain": [
              "7304"
            ]
          },
          "execution_count": 17,
          "metadata": {},
          "output_type": "execute_result"
        }
      ],
      "source": [
        "min_sentences"
      ]
    },
    {
      "cell_type": "code",
      "execution_count": null,
      "metadata": {
        "colab": {
          "base_uri": "https://localhost:8080/"
        },
        "id": "IiOf_XueCjQA",
        "outputId": "1e778d95-c426-4cb8-a98b-d13eeaf782e1"
      },
      "outputs": [
        {
          "name": "stderr",
          "output_type": "stream",
          "text": [
            "<ipython-input-18-f93ac7b0ac5d>:1: SettingWithCopyWarning: \n",
            "A value is trying to be set on a copy of a slice from a DataFrame.\n",
            "Try using .loc[row_indexer,col_indexer] = value instead\n",
            "\n",
            "See the caveats in the documentation: https://pandas.pydata.org/pandas-docs/stable/user_guide/indexing.html#returning-a-view-versus-a-copy\n",
            "  positive_sentences['length'] = positive_sentences['text'].str.len()\n",
            "<ipython-input-18-f93ac7b0ac5d>:2: SettingWithCopyWarning: \n",
            "A value is trying to be set on a copy of a slice from a DataFrame.\n",
            "Try using .loc[row_indexer,col_indexer] = value instead\n",
            "\n",
            "See the caveats in the documentation: https://pandas.pydata.org/pandas-docs/stable/user_guide/indexing.html#returning-a-view-versus-a-copy\n",
            "  negative_sentences['length'] = negative_sentences['text'].str.len()\n",
            "<ipython-input-18-f93ac7b0ac5d>:3: SettingWithCopyWarning: \n",
            "A value is trying to be set on a copy of a slice from a DataFrame.\n",
            "Try using .loc[row_indexer,col_indexer] = value instead\n",
            "\n",
            "See the caveats in the documentation: https://pandas.pydata.org/pandas-docs/stable/user_guide/indexing.html#returning-a-view-versus-a-copy\n",
            "  neutral_sentences['length'] = neutral_sentences['text'].str.len()\n"
          ]
        }
      ],
      "source": [
        "positive_sentences['length'] = positive_sentences['text'].str.len()\n",
        "negative_sentences['length'] = negative_sentences['text'].str.len()\n",
        "neutral_sentences['length'] = neutral_sentences['text'].str.len()"
      ]
    },
    {
      "cell_type": "code",
      "execution_count": null,
      "metadata": {
        "colab": {
          "base_uri": "https://localhost:8080/"
        },
        "id": "SrB0OojZETnt",
        "outputId": "7de78584-f27b-4916-c940-5430d30f3e7c"
      },
      "outputs": [
        {
          "name": "stderr",
          "output_type": "stream",
          "text": [
            "<ipython-input-19-c4d3a7e1780b>:1: SettingWithCopyWarning: \n",
            "A value is trying to be set on a copy of a slice from a DataFrame\n",
            "\n",
            "See the caveats in the documentation: https://pandas.pydata.org/pandas-docs/stable/user_guide/indexing.html#returning-a-view-versus-a-copy\n",
            "  positive_sentences.sort_values('length', ascending=False, inplace=True)\n",
            "<ipython-input-19-c4d3a7e1780b>:2: SettingWithCopyWarning: \n",
            "A value is trying to be set on a copy of a slice from a DataFrame\n",
            "\n",
            "See the caveats in the documentation: https://pandas.pydata.org/pandas-docs/stable/user_guide/indexing.html#returning-a-view-versus-a-copy\n",
            "  negative_sentences.sort_values('length', ascending=False, inplace=True)\n",
            "<ipython-input-19-c4d3a7e1780b>:3: SettingWithCopyWarning: \n",
            "A value is trying to be set on a copy of a slice from a DataFrame\n",
            "\n",
            "See the caveats in the documentation: https://pandas.pydata.org/pandas-docs/stable/user_guide/indexing.html#returning-a-view-versus-a-copy\n",
            "  neutral_sentences.sort_values('length', ascending=False, inplace=True)\n"
          ]
        }
      ],
      "source": [
        "positive_sentences.sort_values('length', ascending=False, inplace=True)\n",
        "negative_sentences.sort_values('length', ascending=False, inplace=True)\n",
        "neutral_sentences.sort_values('length', ascending=False, inplace=True)"
      ]
    },
    {
      "cell_type": "code",
      "execution_count": null,
      "metadata": {
        "id": "fIltRVMQFXwX"
      },
      "outputs": [],
      "source": [
        "positive_balanced = positive_sentences[:min_sentences]\n",
        "negative_balanced = negative_sentences[:min_sentences]\n",
        "neutral_balanced = neutral_sentences[:min_sentences]"
      ]
    },
    {
      "cell_type": "code",
      "execution_count": null,
      "metadata": {
        "id": "e6s-M-dRFqrK"
      },
      "outputs": [],
      "source": [
        "balanced_dataset = pd.concat([positive_balanced, negative_balanced, neutral_balanced])"
      ]
    },
    {
      "cell_type": "code",
      "execution_count": null,
      "metadata": {
        "id": "Rk2ZICU_GcuD"
      },
      "outputs": [],
      "source": [
        "df = balanced_dataset.drop(['length'], axis=1)"
      ]
    },
    {
      "cell_type": "code",
      "execution_count": null,
      "metadata": {
        "colab": {
          "base_uri": "https://localhost:8080/"
        },
        "id": "wJ2mTPrQFuGl",
        "outputId": "93ce85d9-1b3d-4d9d-a909-68d5ba8cb9f1"
      },
      "outputs": [
        {
          "data": {
            "text/plain": [
              "positive    7304\n",
              "negative    7304\n",
              "neutral     7304\n",
              "Name: sentiment, dtype: int64"
            ]
          },
          "execution_count": 23,
          "metadata": {},
          "output_type": "execute_result"
        }
      ],
      "source": [
        "df.sentiment.value_counts()"
      ]
    },
    {
      "cell_type": "code",
      "execution_count": null,
      "metadata": {
        "id": "dNpAPPHfR6TB"
      },
      "outputs": [],
      "source": [
        "total = len(df[\"text\"].values)"
      ]
    },
    {
      "cell_type": "code",
      "execution_count": null,
      "metadata": {
        "colab": {
          "base_uri": "https://localhost:8080/",
          "height": 559
        },
        "id": "iXhOBzW4yK1F",
        "outputId": "db3456f5-c8f8-4bf6-a01e-a9a4ffbb8227"
      },
      "outputs": [
        {
          "name": "stdout",
          "output_type": "stream",
          "text": [
            "33.33333432674408\n",
            "33.33333432674408\n",
            "33.33333432674408\n"
          ]
        },
        {
          "data": {
            "image/png": "[encoded data removed]",
            "text/plain": [
              "<Figure size 600x600 with 1 Axes>"
            ]
          },
          "metadata": {},
          "output_type": "display_data"
        }
      ],
      "source": [
        "plt.figure(figsize=(6, 6))\n",
        "def my_fmt(x):\n",
        "    print(x)\n",
        "    return '{:.1f}%\\n({:.0f})'.format(x, total*x/100)\n",
        "\n",
        "colors =[\"#0077b6\",\"#48cae4\",\"#caf0f8\"]\n",
        "plt.pie(df['sentiment'].value_counts() , labels=df['sentiment'].value_counts().index , colors=colors, autopct=my_fmt,wedgeprops={'linewidth': 1, 'edgecolor': '#03045e'} , startangle=90)\n",
        "plt.axis('equal')\n",
        "plt.savefig('balanced.png',dpi=300)\n",
        "plt.show()"
      ]
    },
    {
      "cell_type": "code",
      "execution_count": null,
      "metadata": {
        "id": "OH8zjuEJyK1F"
      },
      "outputs": [],
      "source": [
        "# Saving the pie chart as an image file\n",
        "plt.savefig('sentiment_distribution.jpg',dpi=300)\n",
        "plt.close()"
      ]
    },
    {
      "cell_type": "code",
      "execution_count": null,
      "metadata": {
        "id": "-qGWEXCTyPTN"
      },
      "outputs": [],
      "source": [
        "df.to_csv(\"/content/drive/MyDrive/Colab Notebooks/FinalBalanced.csv\", encoding='utf-8',index=False)"
      ]
    },
    {
      "cell_type": "markdown",
      "metadata": {
        "id": "eX-Lh-L1bh5r"
      },
      "source": [
        "# Emoji"
      ]
    },
    {
      "cell_type": "code",
      "execution_count": null,
      "metadata": {
        "id": "xSzlG8xyblAn"
      },
      "outputs": [],
      "source": [
        "# Count the sentences containing emojis\n",
        "sentences_with_emojis = df[\"text\"].apply(lambda x: any(char in emoji.EMOJI_DATA for char in x))\n",
        "# Calculate the percentage\n",
        "emoji_percentage = sentences_with_emojis.mean() * 100"
      ]
    },
    {
      "cell_type": "code",
      "execution_count": null,
      "metadata": {
        "colab": {
          "base_uri": "https://localhost:8080/"
        },
        "id": "tupcJpDZcYca",
        "outputId": "ebfaac8f-92a8-4ff5-a8d1-0d7b71a90657"
      },
      "outputs": [
        {
          "data": {
            "text/plain": [
              "False    19630\n",
              "True      2282\n",
              "Name: text, dtype: int64"
            ]
          },
          "execution_count": 225,
          "metadata": {},
          "output_type": "execute_result"
        }
      ],
      "source": [
        "sentences_with_emojis.value_counts()"
      ]
    },
    {
      "cell_type": "code",
      "execution_count": null,
      "metadata": {
        "colab": {
          "base_uri": "https://localhost:8080/"
        },
        "id": "kqNyhkZlcFEi",
        "outputId": "84486d04-1fb7-437f-fe45-a3d8c5241ba0"
      },
      "outputs": [
        {
          "data": {
            "text/plain": [
              "10.414384811975173"
            ]
          },
          "execution_count": 222,
          "metadata": {},
          "output_type": "execute_result"
        }
      ],
      "source": [
        "emoji_percentage"
      ]
    },
    {
      "cell_type": "code",
      "execution_count": null,
      "metadata": {
        "colab": {
          "base_uri": "https://localhost:8080/",
          "height": 534
        },
        "id": "JqtfwalJcnrS",
        "outputId": "8ad57428-1d64-4030-a008-c2114fb017af"
      },
      "outputs": [
        {
          "name": "stdout",
          "output_type": "stream",
          "text": [
            "89.58561420440674\n",
            "10.414385050535202\n"
          ]
        },
        {
          "data": {
            "image/png": "[encoded data removed]",
            "text/plain": [
              "<Figure size 600x600 with 1 Axes>"
            ]
          },
          "metadata": {},
          "output_type": "display_data"
        }
      ],
      "source": [
        "plt.figure(figsize=(6, 6))\n",
        "def my_fmt(x):\n",
        "    print(x)\n",
        "    return '{:.1f}%\\n({:.0f})'.format(x, total*x/100)\n",
        "\n",
        "colors =[\"#0077b6\",\"#48cae4\",\"#caf0f8\"]\n",
        "plt.pie(sentences_with_emojis.value_counts() , labels=[\"without\",\" with\"], colors=colors, autopct=my_fmt,wedgeprops={'linewidth': 1, 'edgecolor': '#03045e'} , startangle=90)\n",
        "plt.axis('equal')\n",
        "plt.savefig('emoji_percentage.png',dpi=300)\n",
        "\n",
        "plt.show()"
      ]
    },
    {
      "cell_type": "markdown",
      "metadata": {
        "id": "CKdfoS7ShCfR"
      },
      "source": [
        "# Letters"
      ]
    },
    {
      "cell_type": "code",
      "execution_count": null,
      "metadata": {
        "id": "w4q01mt7hFZx"
      },
      "outputs": [],
      "source": [
        "# Initialize counters\n",
        "arabic_count = 0\n",
        "latin_count = 0\n",
        "mixed_count = 0\n",
        "\n",
        "texts = df['text'].values\n",
        "\n",
        "# Count the occurrence of each letter type\n",
        "for text in texts:\n",
        "    if any(char.isalpha() and char.isascii() for char in text):\n",
        "        latin_count += 1\n",
        "    elif any(char.isalpha() and not char.isascii() for char in text):\n",
        "        arabic_count += 1\n",
        "    else:\n",
        "        mixed_count += 1\n",
        "\n",
        "# Calculate the percentage\n",
        "total_count = len(texts)\n",
        "arabic_percentage = (arabic_count / total_count) * 100\n",
        "latin_percentage = (latin_count / total_count) * 100\n",
        "mixed_percentage = (mixed_count / total_count) * 100\n"
      ]
    },
    {
      "cell_type": "code",
      "execution_count": null,
      "metadata": {
        "colab": {
          "base_uri": "https://localhost:8080/",
          "height": 559
        },
        "id": "mifI1IhNWAsd",
        "outputId": "17b328ea-ac15-4908-d09b-552d273f25e6"
      },
      "outputs": [
        {
          "name": "stdout",
          "output_type": "stream",
          "text": [
            "75.41073560714722\n",
            "24.105513095855713\n",
            "0.4837532062083483\n"
          ]
        },
        {
          "data": {
            "image/png": "[encoded data removed]",
            "text/plain": [
              "<Figure size 600x600 with 1 Axes>"
            ]
          },
          "metadata": {},
          "output_type": "display_data"
        }
      ],
      "source": [
        "plt.figure(figsize=(6, 6))\n",
        "def my_fmt(x):\n",
        "    print(x)\n",
        "    return '{:.1f}%\\n({:.0f})'.format(x, total*x/100)\n",
        "\n",
        "colors =[\"#0077b6\",\"#48cae4\",\"#caf0f8\"]\n",
        "plt.pie([arabic_count, latin_count, mixed_count] , labels=labels, colors=colors, autopct=my_fmt,wedgeprops={'linewidth': 1, 'edgecolor': '#03045e'} , startangle=90)\n",
        "plt.axis('equal')\n",
        "plt.savefig('letter_percentage.png',dpi=300)\n",
        "plt.show()"
      ]
    },
    {
      "cell_type": "markdown",
      "metadata": {
        "id": "mCntj1nkjP7S"
      },
      "source": [
        "# unigrams"
      ]
    },
    {
      "cell_type": "code",
      "execution_count": null,
      "metadata": {
        "id": "7tivUPYojRrX"
      },
      "outputs": [],
      "source": [
        "all_tokens = [word for text in df['text'] for word in text.split()]"
      ]
    },
    {
      "cell_type": "code",
      "execution_count": null,
      "metadata": {
        "id": "MB4Lb16fj19y"
      },
      "outputs": [],
      "source": [
        "# Generate unigrams for each label\n",
        "label_unigrams = {}\n",
        "for label in df['sentiment'].unique():\n",
        "    label_tokens = [word for text in df.loc[df['sentiment'] == label, 'text'] for word in text.split()]\n",
        "    label_unigrams[label] = nltk.FreqDist(label_tokens)"
      ]
    },
    {
      "cell_type": "code",
      "execution_count": null,
      "metadata": {
        "id": "yUlKkbjHkOno"
      },
      "outputs": [],
      "source": [
        "all_unigrams = nltk.FreqDist(all_tokens)"
      ]
    },
    {
      "cell_type": "code",
      "execution_count": null,
      "metadata": {
        "id": "-yF4L1RkkR3H"
      },
      "outputs": [],
      "source": [
        "top_unigrams_df = pd.DataFrame(index=range(10))  # Set the index range\n",
        "for label, unigrams in label_unigrams.items():\n",
        "    top_unigrams = unigrams.most_common(10)\n",
        "    unigram_column = [unigram for unigram, _ in top_unigrams]\n",
        "    frequency_column = [freq for _, freq in top_unigrams]\n",
        "    top_unigrams_df[label] = unigram_column\n",
        "    top_unigrams_df[label + ' Frequency'] = frequency_column"
      ]
    },
    {
      "cell_type": "code",
      "execution_count": null,
      "metadata": {
        "id": "Tj0JGkNokXpB"
      },
      "outputs": [],
      "source": [
        "# Add a column for the unigrams of the entire dataset\n",
        "top_unigrams_df['Entire Dataset'] = [unigram for unigram, _ in all_unigrams.most_common(10)]\n",
        "top_unigrams_df['Entire Dataset Frequency'] = [freq for _, freq in all_unigrams.most_common(10)]"
      ]
    },
    {
      "cell_type": "code",
      "execution_count": null,
      "metadata": {
        "colab": {
          "base_uri": "https://localhost:8080/",
          "height": 363
        },
        "id": "nTBgRiKZk0Uq",
        "outputId": "98c8015c-b792-4204-987d-49ffca72e636"
      },
      "outputs": [
        {
          "data": {
            "text/html": [
              "\n",
              "  <div id=\"df-fb629d50-635f-443f-a315-e39e01979a62\">\n",
              "    <div class=\"colab-df-container\">\n",
              "      <div>\n",
              "<style scoped>\n",
              "    .dataframe tbody tr th:only-of-type {\n",
              "        vertical-align: middle;\n",
              "    }\n",
              "\n",
              "    .dataframe tbody tr th {\n",
              "        vertical-align: top;\n",
              "    }\n",
              "\n",
              "    .dataframe thead th {\n",
              "        text-align: right;\n",
              "    }\n",
              "</style>\n",
              "<table border=\"1\" class=\"dataframe\">\n",
              "  <thead>\n",
              "    <tr style=\"text-align: right;\">\n",
              "      <th></th>\n",
              "      <th>positive</th>\n",
              "      <th>positive Frequency</th>\n",
              "      <th>negative</th>\n",
              "      <th>negative Frequency</th>\n",
              "      <th>neutral</th>\n",
              "      <th>neutral Frequency</th>\n",
              "      <th>Entire Dataset</th>\n",
              "      <th>Entire Dataset Frequency</th>\n",
              "    </tr>\n",
              "  </thead>\n",
              "  <tbody>\n",
              "    <tr>\n",
              "      <th>0</th>\n",
              "      <td>الله</td>\n",
              "      <td>2764</td>\n",
              "      <td>الله</td>\n",
              "      <td>1218</td>\n",
              "      <td>علي</td>\n",
              "      <td>800</td>\n",
              "      <td>الله</td>\n",
              "      <td>4763</td>\n",
              "    </tr>\n",
              "    <tr>\n",
              "      <th>1</th>\n",
              "      <td>ربي</td>\n",
              "      <td>1677</td>\n",
              "      <td>مليون</td>\n",
              "      <td>1126</td>\n",
              "      <td>الله</td>\n",
              "      <td>781</td>\n",
              "      <td>علي</td>\n",
              "      <td>2802</td>\n",
              "    </tr>\n",
              "    <tr>\n",
              "      <th>2</th>\n",
              "      <td>خويا</td>\n",
              "      <td>1353</td>\n",
              "      <td>علي</td>\n",
              "      <td>1104</td>\n",
              "      <td>؟</td>\n",
              "      <td>703</td>\n",
              "      <td>ربي</td>\n",
              "      <td>2354</td>\n",
              "    </tr>\n",
              "    <tr>\n",
              "      <th>3</th>\n",
              "      <td>فيك</td>\n",
              "      <td>987</td>\n",
              "      <td>سياره</td>\n",
              "      <td>836</td>\n",
              "      <td>مليون</td>\n",
              "      <td>625</td>\n",
              "      <td>خويا</td>\n",
              "      <td>2114</td>\n",
              "    </tr>\n",
              "    <tr>\n",
              "      <th>4</th>\n",
              "      <td>علي</td>\n",
              "      <td>898</td>\n",
              "      <td>والله</td>\n",
              "      <td>664</td>\n",
              "      <td>خويا</td>\n",
              "      <td>622</td>\n",
              "      <td>مليون</td>\n",
              "      <td>1868</td>\n",
              "    </tr>\n",
              "    <tr>\n",
              "      <th>5</th>\n",
              "      <td>يحفظك</td>\n",
              "      <td>795</td>\n",
              "      <td>هه</td>\n",
              "      <td>659</td>\n",
              "      <td>سياره</td>\n",
              "      <td>476</td>\n",
              "      <td>سياره</td>\n",
              "      <td>1549</td>\n",
              "    </tr>\n",
              "    <tr>\n",
              "      <th>6</th>\n",
              "      <td>اخي</td>\n",
              "      <td>621</td>\n",
              "      <td>السيارات</td>\n",
              "      <td>639</td>\n",
              "      <td>اخي</td>\n",
              "      <td>359</td>\n",
              "      <td>؟</td>\n",
              "      <td>1301</td>\n",
              "    </tr>\n",
              "    <tr>\n",
              "      <th>7</th>\n",
              "      <td>بارك</td>\n",
              "      <td>621</td>\n",
              "      <td>الشعب</td>\n",
              "      <td>574</td>\n",
              "      <td>السيارات</td>\n",
              "      <td>327</td>\n",
              "      <td>فيك</td>\n",
              "      <td>1143</td>\n",
              "    </tr>\n",
              "    <tr>\n",
              "      <th>8</th>\n",
              "      <td>يبارك</td>\n",
              "      <td>569</td>\n",
              "      <td>؟</td>\n",
              "      <td>556</td>\n",
              "      <td>الجزاءر</td>\n",
              "      <td>287</td>\n",
              "      <td>السيارات</td>\n",
              "      <td>1094</td>\n",
              "    </tr>\n",
              "    <tr>\n",
              "      <th>9</th>\n",
              "      <td>شكرا</td>\n",
              "      <td>525</td>\n",
              "      <td>السوق</td>\n",
              "      <td>522</td>\n",
              "      <td>?</td>\n",
              "      <td>286</td>\n",
              "      <td>اخي</td>\n",
              "      <td>1092</td>\n",
              "    </tr>\n",
              "  </tbody>\n",
              "</table>\n",
              "</div>\n",
              "      <button class=\"colab-df-convert\" onclick=\"convertToInteractive('df-fb629d50-635f-443f-a315-e39e01979a62')\"\n",
              "              title=\"Convert this dataframe to an interactive table.\"\n",
              "              style=\"display:none;\">\n",
              "        \n",
              "  <svg xmlns=\"http://www.w3.org/2000/svg\" height=\"24px\"viewBox=\"0 0 24 24\"\n",
              "       width=\"24px\">\n",
              "    <path d=\"M0 0h24v24H0V0z\" fill=\"none\"/>\n",
              "    <path d=\"M18.56 5.44l.94 2.06.94-2.06 2.06-.94-2.06-.94-.94-2.06-.94 2.06-2.06.94zm-11 1L8.5 8.5l.94-2.06 2.06-.94-2.06-.94L8.5 2.5l-.94 2.06-2.06.94zm10 10l.94 2.06.94-2.06 2.06-.94-2.06-.94-.94-2.06-.94 2.06-2.06.94z\"/><path d=\"M17.41 7.96l-1.37-1.37c-.4-.4-.92-.59-1.43-.59-.52 0-1.04.2-1.43.59L10.3 9.45l-7.72 7.72c-.78.78-.78 2.05 0 2.83L4 21.41c.39.39.9.59 1.41.59.51 0 1.02-.2 1.41-.59l7.78-7.78 2.81-2.81c.8-.78.8-2.07 0-2.86zM5.41 20L4 18.59l7.72-7.72 1.47 1.35L5.41 20z\"/>\n",
              "  </svg>\n",
              "      </button>\n",
              "      \n",
              "  <style>\n",
              "    .colab-df-container {\n",
              "      display:flex;\n",
              "      flex-wrap:wrap;\n",
              "      gap: 12px;\n",
              "    }\n",
              "\n",
              "    .colab-df-convert {\n",
              "      background-color: #E8F0FE;\n",
              "      border: none;\n",
              "      border-radius: 50%;\n",
              "      cursor: pointer;\n",
              "      display: none;\n",
              "      fill: #1967D2;\n",
              "      height: 32px;\n",
              "      padding: 0 0 0 0;\n",
              "      width: 32px;\n",
              "    }\n",
              "\n",
              "    .colab-df-convert:hover {\n",
              "      background-color: #E2EBFA;\n",
              "      box-shadow: 0px 1px 2px rgba(60, 64, 67, 0.3), 0px 1px 3px 1px rgba(60, 64, 67, 0.15);\n",
              "      fill: #174EA6;\n",
              "    }\n",
              "\n",
              "    [theme=dark] .colab-df-convert {\n",
              "      background-color: #3B4455;\n",
              "      fill: #D2E3FC;\n",
              "    }\n",
              "\n",
              "    [theme=dark] .colab-df-convert:hover {\n",
              "      background-color: #434B5C;\n",
              "      box-shadow: 0px 1px 3px 1px rgba(0, 0, 0, 0.15);\n",
              "      filter: drop-shadow(0px 1px 2px rgba(0, 0, 0, 0.3));\n",
              "      fill: #FFFFFF;\n",
              "    }\n",
              "  </style>\n",
              "\n",
              "      <script>\n",
              "        const buttonEl =\n",
              "          document.querySelector('#df-fb629d50-635f-443f-a315-e39e01979a62 button.colab-df-convert');\n",
              "        buttonEl.style.display =\n",
              "          google.colab.kernel.accessAllowed ? 'block' : 'none';\n",
              "\n",
              "        async function convertToInteractive(key) {\n",
              "          const element = document.querySelector('#df-fb629d50-635f-443f-a315-e39e01979a62');\n",
              "          const dataTable =\n",
              "            await google.colab.kernel.invokeFunction('convertToInteractive',\n",
              "                                                     [key], {});\n",
              "          if (!dataTable) return;\n",
              "\n",
              "          const docLinkHtml = 'Like what you see? Visit the ' +\n",
              "            '<a target=\"_blank\" href=https://colab.research.google.com/notebooks/data_table.ipynb>data table notebook</a>'\n",
              "            + ' to learn more about interactive tables.';\n",
              "          element.innerHTML = '';\n",
              "          dataTable['output_type'] = 'display_data';\n",
              "          await google.colab.output.renderOutput(dataTable, element);\n",
              "          const docLink = document.createElement('div');\n",
              "          docLink.innerHTML = docLinkHtml;\n",
              "          element.appendChild(docLink);\n",
              "        }\n",
              "      </script>\n",
              "    </div>\n",
              "  </div>\n",
              "  "
            ],
            "text/plain": [
              "  positive  positive Frequency  negative  negative Frequency   neutral  \\\n",
              "0     الله                2764      الله                1218       علي   \n",
              "1      ربي                1677     مليون                1126      الله   \n",
              "2     خويا                1353       علي                1104         ؟   \n",
              "3      فيك                 987     سياره                 836     مليون   \n",
              "4      علي                 898     والله                 664      خويا   \n",
              "5    يحفظك                 795        هه                 659     سياره   \n",
              "6      اخي                 621  السيارات                 639       اخي   \n",
              "7     بارك                 621     الشعب                 574  السيارات   \n",
              "8    يبارك                 569         ؟                 556   الجزاءر   \n",
              "9     شكرا                 525     السوق                 522         ?   \n",
              "\n",
              "   neutral Frequency Entire Dataset  Entire Dataset Frequency  \n",
              "0                800           الله                      4763  \n",
              "1                781            علي                      2802  \n",
              "2                703            ربي                      2354  \n",
              "3                625           خويا                      2114  \n",
              "4                622          مليون                      1868  \n",
              "5                476          سياره                      1549  \n",
              "6                359              ؟                      1301  \n",
              "7                327            فيك                      1143  \n",
              "8                287       السيارات                      1094  \n",
              "9                286            اخي                      1092  "
            ]
          },
          "execution_count": 39,
          "metadata": {},
          "output_type": "execute_result"
        }
      ],
      "source": [
        "top_unigrams_df"
      ]
    },
    {
      "cell_type": "code",
      "execution_count": null,
      "metadata": {
        "id": "nBa0BbSc-f62"
      },
      "outputs": [],
      "source": [
        "top_unigrams_df.to_excel('unigrams.xlsx', index=False)"
      ]
    },
    {
      "cell_type": "markdown",
      "metadata": {
        "id": "ExTf8CYymT6A"
      },
      "source": [
        "# Bigrams"
      ]
    },
    {
      "cell_type": "code",
      "execution_count": null,
      "metadata": {
        "id": "9R3kQZjKmWVX"
      },
      "outputs": [],
      "source": [
        "# Tokenize the entire dataset\n",
        "all_tokens = [word for text in df['text'] for word in text.split()]\n",
        "\n",
        "# Generate bigrams for each label\n",
        "label_bigrams = {}\n",
        "for label in df['sentiment'].unique():\n",
        "    label_tokens = [word.lower() for text in df.loc[df['sentiment'] == label, 'text'] for word in text.split()]\n",
        "    label_bigrams[label] = nltk.FreqDist(nltk.bigrams(label_tokens))\n",
        "\n",
        "# Generate bigrams for the entire dataset\n",
        "all_bigrams = nltk.FreqDist(nltk.bigrams(all_tokens))\n",
        "\n",
        "# Create a DataFrame with labels as columns and top bigrams as rows\n",
        "top_bigrams_df = pd.DataFrame(index=range(10))  # Set the index range\n",
        "for label, bigrams in label_bigrams.items():\n",
        "    top_bigrams = bigrams.most_common(10)\n",
        "    bigram_column = [\" \".join(bigram) for bigram, _ in top_bigrams]\n",
        "    frequency_column = [freq for _, freq in top_bigrams]\n",
        "    top_bigrams_df[label] = bigram_column\n",
        "    top_bigrams_df[label + ' Frequency'] = frequency_column\n",
        "\n",
        "# Add a column for the bigrams of the entire dataset\n",
        "top_bigrams_df['Entire Dataset'] = [\" \".join(bigram) for bigram, _ in all_bigrams.most_common(10)]\n",
        "top_bigrams_df['Entire Dataset Frequency'] = [freq for _, freq in all_bigrams.most_common(10)]"
      ]
    },
    {
      "cell_type": "code",
      "execution_count": null,
      "metadata": {
        "colab": {
          "base_uri": "https://localhost:8080/"
        },
        "id": "ylLlqUVLmhc2",
        "outputId": "a879b0cd-0e5b-4e95-bd1b-fe6fd4a79877"
      },
      "outputs": [
        {
          "data": {
            "text/html": [
              "\n",
              "  <div id=\"df-4d48f792-9ef1-4228-80d7-238473a3736b\">\n",
              "    <div class=\"colab-df-container\">\n",
              "      <div>\n",
              "<style scoped>\n",
              "    .dataframe tbody tr th:only-of-type {\n",
              "        vertical-align: middle;\n",
              "    }\n",
              "\n",
              "    .dataframe tbody tr th {\n",
              "        vertical-align: top;\n",
              "    }\n",
              "\n",
              "    .dataframe thead th {\n",
              "        text-align: right;\n",
              "    }\n",
              "</style>\n",
              "<table border=\"1\" class=\"dataframe\">\n",
              "  <thead>\n",
              "    <tr style=\"text-align: right;\">\n",
              "      <th></th>\n",
              "      <th>positive</th>\n",
              "      <th>positive Frequency</th>\n",
              "      <th>negative</th>\n",
              "      <th>negative Frequency</th>\n",
              "      <th>neutral</th>\n",
              "      <th>neutral Frequency</th>\n",
              "      <th>Entire Dataset</th>\n",
              "      <th>Entire Dataset Frequency</th>\n",
              "    </tr>\n",
              "  </thead>\n",
              "  <tbody>\n",
              "    <tr>\n",
              "      <th>0</th>\n",
              "      <td>الله فيك</td>\n",
              "      <td>672</td>\n",
              "      <td>؟ ؟</td>\n",
              "      <td>171</td>\n",
              "      <td>؟ ؟</td>\n",
              "      <td>229</td>\n",
              "      <td>الله فيك</td>\n",
              "      <td>773</td>\n",
              "    </tr>\n",
              "    <tr>\n",
              "      <th>1</th>\n",
              "      <td>بارك الله</td>\n",
              "      <td>587</td>\n",
              "      <td>😂 😂</td>\n",
              "      <td>160</td>\n",
              "      <td>السلام عليكم</td>\n",
              "      <td>160</td>\n",
              "      <td>بارك الله</td>\n",
              "      <td>672</td>\n",
              "    </tr>\n",
              "    <tr>\n",
              "      <th>2</th>\n",
              "      <td>ربي يحفظك</td>\n",
              "      <td>574</td>\n",
              "      <td>حسبنا الله</td>\n",
              "      <td>114</td>\n",
              "      <td>سلام عليكم</td>\n",
              "      <td>88</td>\n",
              "      <td>ربي يحفظك</td>\n",
              "      <td>616</td>\n",
              "    </tr>\n",
              "    <tr>\n",
              "      <th>3</th>\n",
              "      <td>الله يبارك</td>\n",
              "      <td>315</td>\n",
              "      <td>الله ونعم</td>\n",
              "      <td>103</td>\n",
              "      <td>😂 😂</td>\n",
              "      <td>88</td>\n",
              "      <td>شاء الله</td>\n",
              "      <td>452</td>\n",
              "    </tr>\n",
              "    <tr>\n",
              "      <th>4</th>\n",
              "      <td>يحفظك خويا</td>\n",
              "      <td>300</td>\n",
              "      <td>ونعم الوكيل</td>\n",
              "      <td>103</td>\n",
              "      <td>الله فيك</td>\n",
              "      <td>85</td>\n",
              "      <td>؟ ؟</td>\n",
              "      <td>412</td>\n",
              "    </tr>\n",
              "    <tr>\n",
              "      <th>5</th>\n",
              "      <td>شاء الله</td>\n",
              "      <td>283</td>\n",
              "      <td>شاء الله</td>\n",
              "      <td>86</td>\n",
              "      <td>شاء الله</td>\n",
              "      <td>83</td>\n",
              "      <td>ان شاء</td>\n",
              "      <td>381</td>\n",
              "    </tr>\n",
              "    <tr>\n",
              "      <th>6</th>\n",
              "      <td>يعطيك الصحه</td>\n",
              "      <td>271</td>\n",
              "      <td>🤣 🤣</td>\n",
              "      <td>80</td>\n",
              "      <td>علي سيدنا</td>\n",
              "      <td>82</td>\n",
              "      <td>الله يبارك</td>\n",
              "      <td>354</td>\n",
              "    </tr>\n",
              "    <tr>\n",
              "      <th>7</th>\n",
              "      <td>يبارك فيك</td>\n",
              "      <td>228</td>\n",
              "      <td>300 مليون</td>\n",
              "      <td>74</td>\n",
              "      <td>ان شاء</td>\n",
              "      <td>80</td>\n",
              "      <td>يحفظك خويا</td>\n",
              "      <td>307</td>\n",
              "    </tr>\n",
              "    <tr>\n",
              "      <th>8</th>\n",
              "      <td>ان شاء</td>\n",
              "      <td>227</td>\n",
              "      <td>ان شاء</td>\n",
              "      <td>74</td>\n",
              "      <td>? ?</td>\n",
              "      <td>70</td>\n",
              "      <td>😂 😂</td>\n",
              "      <td>302</td>\n",
              "    </tr>\n",
              "    <tr>\n",
              "      <th>9</th>\n",
              "      <td>خويا العزيز</td>\n",
              "      <td>209</td>\n",
              "      <td>100 مليون</td>\n",
              "      <td>73</td>\n",
              "      <td>بارك الله</td>\n",
              "      <td>69</td>\n",
              "      <td>يعطيك الصحه</td>\n",
              "      <td>288</td>\n",
              "    </tr>\n",
              "  </tbody>\n",
              "</table>\n",
              "</div>\n",
              "      <button class=\"colab-df-convert\" onclick=\"convertToInteractive('df-4d48f792-9ef1-4228-80d7-238473a3736b')\"\n",
              "              title=\"Convert this dataframe to an interactive table.\"\n",
              "              style=\"display:none;\">\n",
              "        \n",
              "  <svg xmlns=\"http://www.w3.org/2000/svg\" height=\"24px\"viewBox=\"0 0 24 24\"\n",
              "       width=\"24px\">\n",
              "    <path d=\"M0 0h24v24H0V0z\" fill=\"none\"/>\n",
              "    <path d=\"M18.56 5.44l.94 2.06.94-2.06 2.06-.94-2.06-.94-.94-2.06-.94 2.06-2.06.94zm-11 1L8.5 8.5l.94-2.06 2.06-.94-2.06-.94L8.5 2.5l-.94 2.06-2.06.94zm10 10l.94 2.06.94-2.06 2.06-.94-2.06-.94-.94-2.06-.94 2.06-2.06.94z\"/><path d=\"M17.41 7.96l-1.37-1.37c-.4-.4-.92-.59-1.43-.59-.52 0-1.04.2-1.43.59L10.3 9.45l-7.72 7.72c-.78.78-.78 2.05 0 2.83L4 21.41c.39.39.9.59 1.41.59.51 0 1.02-.2 1.41-.59l7.78-7.78 2.81-2.81c.8-.78.8-2.07 0-2.86zM5.41 20L4 18.59l7.72-7.72 1.47 1.35L5.41 20z\"/>\n",
              "  </svg>\n",
              "      </button>\n",
              "      \n",
              "  <style>\n",
              "    .colab-df-container {\n",
              "      display:flex;\n",
              "      flex-wrap:wrap;\n",
              "      gap: 12px;\n",
              "    }\n",
              "\n",
              "    .colab-df-convert {\n",
              "      background-color: #E8F0FE;\n",
              "      border: none;\n",
              "      border-radius: 50%;\n",
              "      cursor: pointer;\n",
              "      display: none;\n",
              "      fill: #1967D2;\n",
              "      height: 32px;\n",
              "      padding: 0 0 0 0;\n",
              "      width: 32px;\n",
              "    }\n",
              "\n",
              "    .colab-df-convert:hover {\n",
              "      background-color: #E2EBFA;\n",
              "      box-shadow: 0px 1px 2px rgba(60, 64, 67, 0.3), 0px 1px 3px 1px rgba(60, 64, 67, 0.15);\n",
              "      fill: #174EA6;\n",
              "    }\n",
              "\n",
              "    [theme=dark] .colab-df-convert {\n",
              "      background-color: #3B4455;\n",
              "      fill: #D2E3FC;\n",
              "    }\n",
              "\n",
              "    [theme=dark] .colab-df-convert:hover {\n",
              "      background-color: #434B5C;\n",
              "      box-shadow: 0px 1px 3px 1px rgba(0, 0, 0, 0.15);\n",
              "      filter: drop-shadow(0px 1px 2px rgba(0, 0, 0, 0.3));\n",
              "      fill: #FFFFFF;\n",
              "    }\n",
              "  </style>\n",
              "\n",
              "      <script>\n",
              "        const buttonEl =\n",
              "          document.querySelector('#df-4d48f792-9ef1-4228-80d7-238473a3736b button.colab-df-convert');\n",
              "        buttonEl.style.display =\n",
              "          google.colab.kernel.accessAllowed ? 'block' : 'none';\n",
              "\n",
              "        async function convertToInteractive(key) {\n",
              "          const element = document.querySelector('#df-4d48f792-9ef1-4228-80d7-238473a3736b');\n",
              "          const dataTable =\n",
              "            await google.colab.kernel.invokeFunction('convertToInteractive',\n",
              "                                                     [key], {});\n",
              "          if (!dataTable) return;\n",
              "\n",
              "          const docLinkHtml = 'Like what you see? Visit the ' +\n",
              "            '<a target=\"_blank\" href=https://colab.research.google.com/notebooks/data_table.ipynb>data table notebook</a>'\n",
              "            + ' to learn more about interactive tables.';\n",
              "          element.innerHTML = '';\n",
              "          dataTable['output_type'] = 'display_data';\n",
              "          await google.colab.output.renderOutput(dataTable, element);\n",
              "          const docLink = document.createElement('div');\n",
              "          docLink.innerHTML = docLinkHtml;\n",
              "          element.appendChild(docLink);\n",
              "        }\n",
              "      </script>\n",
              "    </div>\n",
              "  </div>\n",
              "  "
            ],
            "text/plain": [
              "      positive  positive Frequency     negative  negative Frequency  \\\n",
              "0     الله فيك                 672          ؟ ؟                 171   \n",
              "1    بارك الله                 587          😂 😂                 160   \n",
              "2    ربي يحفظك                 574   حسبنا الله                 114   \n",
              "3   الله يبارك                 315    الله ونعم                 103   \n",
              "4   يحفظك خويا                 300  ونعم الوكيل                 103   \n",
              "5     شاء الله                 283     شاء الله                  86   \n",
              "6  يعطيك الصحه                 271          🤣 🤣                  80   \n",
              "7    يبارك فيك                 228    300 مليون                  74   \n",
              "8       ان شاء                 227       ان شاء                  74   \n",
              "9  خويا العزيز                 209    100 مليون                  73   \n",
              "\n",
              "        neutral  neutral Frequency Entire Dataset  Entire Dataset Frequency  \n",
              "0           ؟ ؟                229       الله فيك                       773  \n",
              "1  السلام عليكم                160      بارك الله                       672  \n",
              "2    سلام عليكم                 88      ربي يحفظك                       616  \n",
              "3           😂 😂                 88       شاء الله                       452  \n",
              "4      الله فيك                 85            ؟ ؟                       412  \n",
              "5      شاء الله                 83         ان شاء                       381  \n",
              "6     علي سيدنا                 82     الله يبارك                       354  \n",
              "7        ان شاء                 80     يحفظك خويا                       307  \n",
              "8           ? ?                 70            😂 😂                       302  \n",
              "9     بارك الله                 69    يعطيك الصحه                       288  "
            ]
          },
          "execution_count": 274,
          "metadata": {},
          "output_type": "execute_result"
        }
      ],
      "source": [
        "top_bigrams_df"
      ]
    },
    {
      "cell_type": "code",
      "execution_count": null,
      "metadata": {
        "id": "Zisd73Fd-uv3"
      },
      "outputs": [],
      "source": [
        "top_bigrams_df.to_excel('bigrams.xlsx', index=False)"
      ]
    }
  ],
  "metadata": {
    "colab": {
      "collapsed_sections": [
        "mCntj1nkjP7S",
        "ExTf8CYymT6A"
      ],
      "provenance": []
    },
    "kernelspec": {
      "display_name": "Python 3",
      "name": "python3"
    },
    "language_info": {
      "name": "python"
    }
  },
  "nbformat": 4,
  "nbformat_minor": 0
}
