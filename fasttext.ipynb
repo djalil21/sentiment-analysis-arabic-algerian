{
  "nbformat": 4,
  "nbformat_minor": 0,
  "metadata": {
    "colab": {
      "provenance": [],
      "collapsed_sections": [
        "zB9KO2bKQ99Z",
        "xZZvMjbkoPWc",
        "_TsmrV7Huhek",
        "ukyBnMBA1ugm"
      ],
      "gpuType": "T4"
    },
    "kernelspec": {
      "name": "python3",
      "display_name": "Python 3"
    },
    "language_info": {
      "name": "python"
    },
    "accelerator": "GPU"
  },
  "cells": [
    {
      "cell_type": "markdown",
      "metadata": {
        "id": "zB9KO2bKQ99Z"
      },
      "source": [
        "# Import"
      ]
    },
    {
      "cell_type": "code",
      "execution_count": null,
      "metadata": {
        "colab": {
          "base_uri": "https://localhost:8080/"
        },
        "id": "MjFVGgnmn-IY",
        "outputId": "e7382014-ee9d-4076-964a-0dd3c6764b5a"
      },
      "outputs": [
        {
          "output_type": "execute_result",
          "data": {
            "text/plain": [
              "'/device:GPU:0'"
            ],
            "application/vnd.google.colaboratory.intrinsic+json": {
              "type": "string"
            }
          },
          "metadata": {},
          "execution_count": 1
        }
      ],
      "source": [
        "import tensorflow as tf\n",
        "tf.test.gpu_device_name()"
      ]
    },
    {
      "cell_type": "code",
      "execution_count": null,
      "metadata": {
        "id": "7CbDn0HFldfT",
        "colab": {
          "base_uri": "https://localhost:8080/"
        },
        "outputId": "adde564b-91ec-4411-dbb6-9a79c2651bf7"
      },
      "outputs": [
        {
          "output_type": "stream",
          "name": "stdout",
          "text": [
            "Mounted at /content/drive\n"
          ]
        }
      ],
      "source": [
        "from google.colab import drive\n",
        "drive.mount('/content/drive')"
      ]
    },
    {
      "cell_type": "code",
      "execution_count": null,
      "metadata": {
        "id": "A0iUljnneK14",
        "colab": {
          "base_uri": "https://localhost:8080/"
        },
        "outputId": "784ce112-52bc-4c83-9782-891260ad9642"
      },
      "outputs": [
        {
          "output_type": "stream",
          "name": "stdout",
          "text": [
            "Looking in indexes: https://pypi.org/simple, https://us-python.pkg.dev/colab-wheels/public/simple/\n",
            "Collecting keras-tuner\n",
            "  Downloading keras_tuner-1.3.5-py3-none-any.whl (176 kB)\n",
            "\u001b[2K     \u001b[90m━━━━━━━━━━━━━━━━━━━━━━━━━━━━━━━━━━━━━━\u001b[0m \u001b[32m176.1/176.1 kB\u001b[0m \u001b[31m11.8 MB/s\u001b[0m eta \u001b[36m0:00:00\u001b[0m\n",
            "\u001b[?25hRequirement already satisfied: packaging in /usr/local/lib/python3.10/dist-packages (from keras-tuner) (23.1)\n",
            "Requirement already satisfied: requests in /usr/local/lib/python3.10/dist-packages (from keras-tuner) (2.27.1)\n",
            "Collecting kt-legacy (from keras-tuner)\n",
            "  Downloading kt_legacy-1.0.5-py3-none-any.whl (9.6 kB)\n",
            "Requirement already satisfied: urllib3<1.27,>=1.21.1 in /usr/local/lib/python3.10/dist-packages (from requests->keras-tuner) (1.26.16)\n",
            "Requirement already satisfied: certifi>=2017.4.17 in /usr/local/lib/python3.10/dist-packages (from requests->keras-tuner) (2023.5.7)\n",
            "Requirement already satisfied: charset-normalizer~=2.0.0 in /usr/local/lib/python3.10/dist-packages (from requests->keras-tuner) (2.0.12)\n",
            "Requirement already satisfied: idna<4,>=2.5 in /usr/local/lib/python3.10/dist-packages (from requests->keras-tuner) (3.4)\n",
            "Installing collected packages: kt-legacy, keras-tuner\n",
            "Successfully installed keras-tuner-1.3.5 kt-legacy-1.0.5\n"
          ]
        }
      ],
      "source": [
        "!pip install keras-tuner"
      ]
    },
    {
      "cell_type": "code",
      "execution_count": null,
      "metadata": {
        "id": "n4oedIrgrFw_"
      },
      "outputs": [],
      "source": [
        "import pandas as pd\n",
        "import re\n",
        "import numpy as np\n",
        "\n",
        "from gensim.models import FastText\n",
        "import pickle\n",
        "import multiprocessing\n",
        "\n",
        "from sklearn.model_selection import train_test_split\n",
        "from sklearn.feature_extraction.text import TfidfVectorizer\n",
        "from sklearn.svm import SVC\n",
        "from sklearn.naive_bayes import BernoulliNB, MultinomialNB\n",
        "from sklearn.metrics import accuracy_score, f1_score, confusion_matrix, classification_report\n",
        "\n",
        "from tensorflow.keras.models import Sequential, load_model\n",
        "from tensorflow.keras.layers import Embedding, Bidirectional, LSTM, Dense, Dropout, GlobalMaxPool1D\n",
        "from tensorflow.keras.preprocessing.text import Tokenizer\n",
        "from tensorflow.keras.utils import to_categorical, pad_sequences\n",
        "from tensorflow.keras.optimizers import Adam\n",
        "from tensorflow.keras.callbacks import EarlyStopping\n",
        "from keras_tuner.tuners import Hyperband\n",
        "from keras import backend as K\n",
        "\n",
        "import seaborn as sns\n",
        "import matplotlib.pyplot as plt\n",
        "from matplotlib import rc"
      ]
    },
    {
      "cell_type": "markdown",
      "metadata": {
        "id": "6S6fB1RwG0Pl"
      },
      "source": [
        "# corpus"
      ]
    },
    {
      "cell_type": "code",
      "source": [
        "ar1 = pd.read_csv('/content/drive/MyDrive/Colab Notebooks/PFE/corpus/ar1.csv')\n",
        "ar1.head()"
      ],
      "metadata": {
        "id": "K94wfKSsHEHe",
        "colab": {
          "base_uri": "https://localhost:8080/",
          "height": 206
        },
        "outputId": "9c621bbc-28ad-4aa6-9e97-c0381b9aac1c"
      },
      "execution_count": null,
      "outputs": [
        {
          "output_type": "execute_result",
          "data": {
            "text/plain": [
              "                                                text\n",
              "0  ممتاز البوفيه المفتوح راءع جدا سواء الفطور او ...\n",
              "1  كتاب حكم النبي محمد كتبه الاديب الرواءي الروسي...\n",
              "2  معلومات تاريخيه الثوره الايرانيه حدث بتفاصيل م...\n",
              "3  جلال امين يجد اجابه للسءال فاخد يسرد قصصا تسوق...\n",
              "4            شقه ممتازه  اعجبني شيء وخاصه طاقم العمل"
            ],
            "text/html": [
              "\n",
              "  <div id=\"df-456e3f60-1f2e-4036-aa77-6c93133116bd\">\n",
              "    <div class=\"colab-df-container\">\n",
              "      <div>\n",
              "<style scoped>\n",
              "    .dataframe tbody tr th:only-of-type {\n",
              "        vertical-align: middle;\n",
              "    }\n",
              "\n",
              "    .dataframe tbody tr th {\n",
              "        vertical-align: top;\n",
              "    }\n",
              "\n",
              "    .dataframe thead th {\n",
              "        text-align: right;\n",
              "    }\n",
              "</style>\n",
              "<table border=\"1\" class=\"dataframe\">\n",
              "  <thead>\n",
              "    <tr style=\"text-align: right;\">\n",
              "      <th></th>\n",
              "      <th>text</th>\n",
              "    </tr>\n",
              "  </thead>\n",
              "  <tbody>\n",
              "    <tr>\n",
              "      <th>0</th>\n",
              "      <td>ممتاز البوفيه المفتوح راءع جدا سواء الفطور او ...</td>\n",
              "    </tr>\n",
              "    <tr>\n",
              "      <th>1</th>\n",
              "      <td>كتاب حكم النبي محمد كتبه الاديب الرواءي الروسي...</td>\n",
              "    </tr>\n",
              "    <tr>\n",
              "      <th>2</th>\n",
              "      <td>معلومات تاريخيه الثوره الايرانيه حدث بتفاصيل م...</td>\n",
              "    </tr>\n",
              "    <tr>\n",
              "      <th>3</th>\n",
              "      <td>جلال امين يجد اجابه للسءال فاخد يسرد قصصا تسوق...</td>\n",
              "    </tr>\n",
              "    <tr>\n",
              "      <th>4</th>\n",
              "      <td>شقه ممتازه  اعجبني شيء وخاصه طاقم العمل</td>\n",
              "    </tr>\n",
              "  </tbody>\n",
              "</table>\n",
              "</div>\n",
              "      <button class=\"colab-df-convert\" onclick=\"convertToInteractive('df-456e3f60-1f2e-4036-aa77-6c93133116bd')\"\n",
              "              title=\"Convert this dataframe to an interactive table.\"\n",
              "              style=\"display:none;\">\n",
              "        \n",
              "  <svg xmlns=\"http://www.w3.org/2000/svg\" height=\"24px\"viewBox=\"0 0 24 24\"\n",
              "       width=\"24px\">\n",
              "    <path d=\"M0 0h24v24H0V0z\" fill=\"none\"/>\n",
              "    <path d=\"M18.56 5.44l.94 2.06.94-2.06 2.06-.94-2.06-.94-.94-2.06-.94 2.06-2.06.94zm-11 1L8.5 8.5l.94-2.06 2.06-.94-2.06-.94L8.5 2.5l-.94 2.06-2.06.94zm10 10l.94 2.06.94-2.06 2.06-.94-2.06-.94-.94-2.06-.94 2.06-2.06.94z\"/><path d=\"M17.41 7.96l-1.37-1.37c-.4-.4-.92-.59-1.43-.59-.52 0-1.04.2-1.43.59L10.3 9.45l-7.72 7.72c-.78.78-.78 2.05 0 2.83L4 21.41c.39.39.9.59 1.41.59.51 0 1.02-.2 1.41-.59l7.78-7.78 2.81-2.81c.8-.78.8-2.07 0-2.86zM5.41 20L4 18.59l7.72-7.72 1.47 1.35L5.41 20z\"/>\n",
              "  </svg>\n",
              "      </button>\n",
              "      \n",
              "  <style>\n",
              "    .colab-df-container {\n",
              "      display:flex;\n",
              "      flex-wrap:wrap;\n",
              "      gap: 12px;\n",
              "    }\n",
              "\n",
              "    .colab-df-convert {\n",
              "      background-color: #E8F0FE;\n",
              "      border: none;\n",
              "      border-radius: 50%;\n",
              "      cursor: pointer;\n",
              "      display: none;\n",
              "      fill: #1967D2;\n",
              "      height: 32px;\n",
              "      padding: 0 0 0 0;\n",
              "      width: 32px;\n",
              "    }\n",
              "\n",
              "    .colab-df-convert:hover {\n",
              "      background-color: #E2EBFA;\n",
              "      box-shadow: 0px 1px 2px rgba(60, 64, 67, 0.3), 0px 1px 3px 1px rgba(60, 64, 67, 0.15);\n",
              "      fill: #174EA6;\n",
              "    }\n",
              "\n",
              "    [theme=dark] .colab-df-convert {\n",
              "      background-color: #3B4455;\n",
              "      fill: #D2E3FC;\n",
              "    }\n",
              "\n",
              "    [theme=dark] .colab-df-convert:hover {\n",
              "      background-color: #434B5C;\n",
              "      box-shadow: 0px 1px 3px 1px rgba(0, 0, 0, 0.15);\n",
              "      filter: drop-shadow(0px 1px 2px rgba(0, 0, 0, 0.3));\n",
              "      fill: #FFFFFF;\n",
              "    }\n",
              "  </style>\n",
              "\n",
              "      <script>\n",
              "        const buttonEl =\n",
              "          document.querySelector('#df-456e3f60-1f2e-4036-aa77-6c93133116bd button.colab-df-convert');\n",
              "        buttonEl.style.display =\n",
              "          google.colab.kernel.accessAllowed ? 'block' : 'none';\n",
              "\n",
              "        async function convertToInteractive(key) {\n",
              "          const element = document.querySelector('#df-456e3f60-1f2e-4036-aa77-6c93133116bd');\n",
              "          const dataTable =\n",
              "            await google.colab.kernel.invokeFunction('convertToInteractive',\n",
              "                                                     [key], {});\n",
              "          if (!dataTable) return;\n",
              "\n",
              "          const docLinkHtml = 'Like what you see? Visit the ' +\n",
              "            '<a target=\"_blank\" href=https://colab.research.google.com/notebooks/data_table.ipynb>data table notebook</a>'\n",
              "            + ' to learn more about interactive tables.';\n",
              "          element.innerHTML = '';\n",
              "          dataTable['output_type'] = 'display_data';\n",
              "          await google.colab.output.renderOutput(dataTable, element);\n",
              "          const docLink = document.createElement('div');\n",
              "          docLink.innerHTML = docLinkHtml;\n",
              "          element.appendChild(docLink);\n",
              "        }\n",
              "      </script>\n",
              "    </div>\n",
              "  </div>\n",
              "  "
            ]
          },
          "metadata": {},
          "execution_count": 5
        }
      ]
    },
    {
      "cell_type": "code",
      "source": [
        "ar2 = pd.read_csv('/content/drive/MyDrive/Colab Notebooks/PFE/corpus/ar2.csv')\n",
        "ar2.head()"
      ],
      "metadata": {
        "id": "a00v5z92HD6P",
        "colab": {
          "base_uri": "https://localhost:8080/",
          "height": 206
        },
        "outputId": "30afb721-9030-46a6-dc20-f4ef45022823"
      },
      "execution_count": null,
      "outputs": [
        {
          "output_type": "execute_result",
          "data": {
            "text/plain": [
              "                                                text\n",
              "0  احد اسباب نجاح الامارات ان شخص الدوله يعشق ترا...\n",
              "1  هادفه  وقويه تنقلك صخب شوارع القاهره الي هدوء ...\n",
              "2  خلصنا  مبدءيا اللي مستني ابهار زي الفيل الازرق...\n",
              "3  ياسات جلوريا جزء يتجزا دبي  فندق متكامل الخدما...\n",
              "4  اسلوب الكاتب راءع جدا عميق جدا قراته عده مرات ..."
            ],
            "text/html": [
              "\n",
              "  <div id=\"df-7ccdc890-937a-4d9b-83cb-ffcf39397c55\">\n",
              "    <div class=\"colab-df-container\">\n",
              "      <div>\n",
              "<style scoped>\n",
              "    .dataframe tbody tr th:only-of-type {\n",
              "        vertical-align: middle;\n",
              "    }\n",
              "\n",
              "    .dataframe tbody tr th {\n",
              "        vertical-align: top;\n",
              "    }\n",
              "\n",
              "    .dataframe thead th {\n",
              "        text-align: right;\n",
              "    }\n",
              "</style>\n",
              "<table border=\"1\" class=\"dataframe\">\n",
              "  <thead>\n",
              "    <tr style=\"text-align: right;\">\n",
              "      <th></th>\n",
              "      <th>text</th>\n",
              "    </tr>\n",
              "  </thead>\n",
              "  <tbody>\n",
              "    <tr>\n",
              "      <th>0</th>\n",
              "      <td>احد اسباب نجاح الامارات ان شخص الدوله يعشق ترا...</td>\n",
              "    </tr>\n",
              "    <tr>\n",
              "      <th>1</th>\n",
              "      <td>هادفه  وقويه تنقلك صخب شوارع القاهره الي هدوء ...</td>\n",
              "    </tr>\n",
              "    <tr>\n",
              "      <th>2</th>\n",
              "      <td>خلصنا  مبدءيا اللي مستني ابهار زي الفيل الازرق...</td>\n",
              "    </tr>\n",
              "    <tr>\n",
              "      <th>3</th>\n",
              "      <td>ياسات جلوريا جزء يتجزا دبي  فندق متكامل الخدما...</td>\n",
              "    </tr>\n",
              "    <tr>\n",
              "      <th>4</th>\n",
              "      <td>اسلوب الكاتب راءع جدا عميق جدا قراته عده مرات ...</td>\n",
              "    </tr>\n",
              "  </tbody>\n",
              "</table>\n",
              "</div>\n",
              "      <button class=\"colab-df-convert\" onclick=\"convertToInteractive('df-7ccdc890-937a-4d9b-83cb-ffcf39397c55')\"\n",
              "              title=\"Convert this dataframe to an interactive table.\"\n",
              "              style=\"display:none;\">\n",
              "        \n",
              "  <svg xmlns=\"http://www.w3.org/2000/svg\" height=\"24px\"viewBox=\"0 0 24 24\"\n",
              "       width=\"24px\">\n",
              "    <path d=\"M0 0h24v24H0V0z\" fill=\"none\"/>\n",
              "    <path d=\"M18.56 5.44l.94 2.06.94-2.06 2.06-.94-2.06-.94-.94-2.06-.94 2.06-2.06.94zm-11 1L8.5 8.5l.94-2.06 2.06-.94-2.06-.94L8.5 2.5l-.94 2.06-2.06.94zm10 10l.94 2.06.94-2.06 2.06-.94-2.06-.94-.94-2.06-.94 2.06-2.06.94z\"/><path d=\"M17.41 7.96l-1.37-1.37c-.4-.4-.92-.59-1.43-.59-.52 0-1.04.2-1.43.59L10.3 9.45l-7.72 7.72c-.78.78-.78 2.05 0 2.83L4 21.41c.39.39.9.59 1.41.59.51 0 1.02-.2 1.41-.59l7.78-7.78 2.81-2.81c.8-.78.8-2.07 0-2.86zM5.41 20L4 18.59l7.72-7.72 1.47 1.35L5.41 20z\"/>\n",
              "  </svg>\n",
              "      </button>\n",
              "      \n",
              "  <style>\n",
              "    .colab-df-container {\n",
              "      display:flex;\n",
              "      flex-wrap:wrap;\n",
              "      gap: 12px;\n",
              "    }\n",
              "\n",
              "    .colab-df-convert {\n",
              "      background-color: #E8F0FE;\n",
              "      border: none;\n",
              "      border-radius: 50%;\n",
              "      cursor: pointer;\n",
              "      display: none;\n",
              "      fill: #1967D2;\n",
              "      height: 32px;\n",
              "      padding: 0 0 0 0;\n",
              "      width: 32px;\n",
              "    }\n",
              "\n",
              "    .colab-df-convert:hover {\n",
              "      background-color: #E2EBFA;\n",
              "      box-shadow: 0px 1px 2px rgba(60, 64, 67, 0.3), 0px 1px 3px 1px rgba(60, 64, 67, 0.15);\n",
              "      fill: #174EA6;\n",
              "    }\n",
              "\n",
              "    [theme=dark] .colab-df-convert {\n",
              "      background-color: #3B4455;\n",
              "      fill: #D2E3FC;\n",
              "    }\n",
              "\n",
              "    [theme=dark] .colab-df-convert:hover {\n",
              "      background-color: #434B5C;\n",
              "      box-shadow: 0px 1px 3px 1px rgba(0, 0, 0, 0.15);\n",
              "      filter: drop-shadow(0px 1px 2px rgba(0, 0, 0, 0.3));\n",
              "      fill: #FFFFFF;\n",
              "    }\n",
              "  </style>\n",
              "\n",
              "      <script>\n",
              "        const buttonEl =\n",
              "          document.querySelector('#df-7ccdc890-937a-4d9b-83cb-ffcf39397c55 button.colab-df-convert');\n",
              "        buttonEl.style.display =\n",
              "          google.colab.kernel.accessAllowed ? 'block' : 'none';\n",
              "\n",
              "        async function convertToInteractive(key) {\n",
              "          const element = document.querySelector('#df-7ccdc890-937a-4d9b-83cb-ffcf39397c55');\n",
              "          const dataTable =\n",
              "            await google.colab.kernel.invokeFunction('convertToInteractive',\n",
              "                                                     [key], {});\n",
              "          if (!dataTable) return;\n",
              "\n",
              "          const docLinkHtml = 'Like what you see? Visit the ' +\n",
              "            '<a target=\"_blank\" href=https://colab.research.google.com/notebooks/data_table.ipynb>data table notebook</a>'\n",
              "            + ' to learn more about interactive tables.';\n",
              "          element.innerHTML = '';\n",
              "          dataTable['output_type'] = 'display_data';\n",
              "          await google.colab.output.renderOutput(dataTable, element);\n",
              "          const docLink = document.createElement('div');\n",
              "          docLink.innerHTML = docLinkHtml;\n",
              "          element.appendChild(docLink);\n",
              "        }\n",
              "      </script>\n",
              "    </div>\n",
              "  </div>\n",
              "  "
            ]
          },
          "metadata": {},
          "execution_count": 6
        }
      ]
    },
    {
      "cell_type": "code",
      "source": [
        "dz1 = pd.read_csv('/content/drive/MyDrive/Colab Notebooks/PFE/corpus/dz1.csv')\n",
        "dz1.head()"
      ],
      "metadata": {
        "id": "rsgKyTqCHJUd",
        "colab": {
          "base_uri": "https://localhost:8080/",
          "height": 206
        },
        "outputId": "3e66f39b-c823-484a-afff-bcf40c6ab7dc"
      },
      "execution_count": null,
      "outputs": [
        {
          "output_type": "execute_result",
          "data": {
            "text/plain": [
              "                                                text\n",
              "0  فضلكم اتفرجو الفيديو كامل الاول للاخر تسالو عل...\n",
              "1                                          نزيد نجاح\n",
              "2                                    الباتري تاعو 50\n",
              "3                                     😍براك الله فيك\n",
              "4                            اخينخوس ريدمي 9 مالقتوش"
            ],
            "text/html": [
              "\n",
              "  <div id=\"df-aafda101-82dc-4465-84d9-d1936444e70a\">\n",
              "    <div class=\"colab-df-container\">\n",
              "      <div>\n",
              "<style scoped>\n",
              "    .dataframe tbody tr th:only-of-type {\n",
              "        vertical-align: middle;\n",
              "    }\n",
              "\n",
              "    .dataframe tbody tr th {\n",
              "        vertical-align: top;\n",
              "    }\n",
              "\n",
              "    .dataframe thead th {\n",
              "        text-align: right;\n",
              "    }\n",
              "</style>\n",
              "<table border=\"1\" class=\"dataframe\">\n",
              "  <thead>\n",
              "    <tr style=\"text-align: right;\">\n",
              "      <th></th>\n",
              "      <th>text</th>\n",
              "    </tr>\n",
              "  </thead>\n",
              "  <tbody>\n",
              "    <tr>\n",
              "      <th>0</th>\n",
              "      <td>فضلكم اتفرجو الفيديو كامل الاول للاخر تسالو عل...</td>\n",
              "    </tr>\n",
              "    <tr>\n",
              "      <th>1</th>\n",
              "      <td>نزيد نجاح</td>\n",
              "    </tr>\n",
              "    <tr>\n",
              "      <th>2</th>\n",
              "      <td>الباتري تاعو 50</td>\n",
              "    </tr>\n",
              "    <tr>\n",
              "      <th>3</th>\n",
              "      <td>😍براك الله فيك</td>\n",
              "    </tr>\n",
              "    <tr>\n",
              "      <th>4</th>\n",
              "      <td>اخينخوس ريدمي 9 مالقتوش</td>\n",
              "    </tr>\n",
              "  </tbody>\n",
              "</table>\n",
              "</div>\n",
              "      <button class=\"colab-df-convert\" onclick=\"convertToInteractive('df-aafda101-82dc-4465-84d9-d1936444e70a')\"\n",
              "              title=\"Convert this dataframe to an interactive table.\"\n",
              "              style=\"display:none;\">\n",
              "        \n",
              "  <svg xmlns=\"http://www.w3.org/2000/svg\" height=\"24px\"viewBox=\"0 0 24 24\"\n",
              "       width=\"24px\">\n",
              "    <path d=\"M0 0h24v24H0V0z\" fill=\"none\"/>\n",
              "    <path d=\"M18.56 5.44l.94 2.06.94-2.06 2.06-.94-2.06-.94-.94-2.06-.94 2.06-2.06.94zm-11 1L8.5 8.5l.94-2.06 2.06-.94-2.06-.94L8.5 2.5l-.94 2.06-2.06.94zm10 10l.94 2.06.94-2.06 2.06-.94-2.06-.94-.94-2.06-.94 2.06-2.06.94z\"/><path d=\"M17.41 7.96l-1.37-1.37c-.4-.4-.92-.59-1.43-.59-.52 0-1.04.2-1.43.59L10.3 9.45l-7.72 7.72c-.78.78-.78 2.05 0 2.83L4 21.41c.39.39.9.59 1.41.59.51 0 1.02-.2 1.41-.59l7.78-7.78 2.81-2.81c.8-.78.8-2.07 0-2.86zM5.41 20L4 18.59l7.72-7.72 1.47 1.35L5.41 20z\"/>\n",
              "  </svg>\n",
              "      </button>\n",
              "      \n",
              "  <style>\n",
              "    .colab-df-container {\n",
              "      display:flex;\n",
              "      flex-wrap:wrap;\n",
              "      gap: 12px;\n",
              "    }\n",
              "\n",
              "    .colab-df-convert {\n",
              "      background-color: #E8F0FE;\n",
              "      border: none;\n",
              "      border-radius: 50%;\n",
              "      cursor: pointer;\n",
              "      display: none;\n",
              "      fill: #1967D2;\n",
              "      height: 32px;\n",
              "      padding: 0 0 0 0;\n",
              "      width: 32px;\n",
              "    }\n",
              "\n",
              "    .colab-df-convert:hover {\n",
              "      background-color: #E2EBFA;\n",
              "      box-shadow: 0px 1px 2px rgba(60, 64, 67, 0.3), 0px 1px 3px 1px rgba(60, 64, 67, 0.15);\n",
              "      fill: #174EA6;\n",
              "    }\n",
              "\n",
              "    [theme=dark] .colab-df-convert {\n",
              "      background-color: #3B4455;\n",
              "      fill: #D2E3FC;\n",
              "    }\n",
              "\n",
              "    [theme=dark] .colab-df-convert:hover {\n",
              "      background-color: #434B5C;\n",
              "      box-shadow: 0px 1px 3px 1px rgba(0, 0, 0, 0.15);\n",
              "      filter: drop-shadow(0px 1px 2px rgba(0, 0, 0, 0.3));\n",
              "      fill: #FFFFFF;\n",
              "    }\n",
              "  </style>\n",
              "\n",
              "      <script>\n",
              "        const buttonEl =\n",
              "          document.querySelector('#df-aafda101-82dc-4465-84d9-d1936444e70a button.colab-df-convert');\n",
              "        buttonEl.style.display =\n",
              "          google.colab.kernel.accessAllowed ? 'block' : 'none';\n",
              "\n",
              "        async function convertToInteractive(key) {\n",
              "          const element = document.querySelector('#df-aafda101-82dc-4465-84d9-d1936444e70a');\n",
              "          const dataTable =\n",
              "            await google.colab.kernel.invokeFunction('convertToInteractive',\n",
              "                                                     [key], {});\n",
              "          if (!dataTable) return;\n",
              "\n",
              "          const docLinkHtml = 'Like what you see? Visit the ' +\n",
              "            '<a target=\"_blank\" href=https://colab.research.google.com/notebooks/data_table.ipynb>data table notebook</a>'\n",
              "            + ' to learn more about interactive tables.';\n",
              "          element.innerHTML = '';\n",
              "          dataTable['output_type'] = 'display_data';\n",
              "          await google.colab.output.renderOutput(dataTable, element);\n",
              "          const docLink = document.createElement('div');\n",
              "          docLink.innerHTML = docLinkHtml;\n",
              "          element.appendChild(docLink);\n",
              "        }\n",
              "      </script>\n",
              "    </div>\n",
              "  </div>\n",
              "  "
            ]
          },
          "metadata": {},
          "execution_count": 7
        }
      ]
    },
    {
      "cell_type": "code",
      "source": [
        "dz2 = pd.read_csv('/content/drive/MyDrive/Colab Notebooks/PFE/corpus/dz2.csv')\n",
        "dz2.head()"
      ],
      "metadata": {
        "colab": {
          "base_uri": "https://localhost:8080/",
          "height": 206
        },
        "id": "BT2bOmYHbaYy",
        "outputId": "4c965ade-bc9e-442e-edc2-e6cb5ce4f01e"
      },
      "execution_count": null,
      "outputs": [
        {
          "output_type": "execute_result",
          "data": {
            "text/plain": [
              "                                                text\n",
              "0  شعب مريض باينه بلي اوروبا سيارات رخاص لانه انت...\n",
              "1  اضرب اليورو الدينار التونسي الاسعار عدنا تونس ...\n",
              "2                    اسعار السيارات نوعها معقوله جدا\n",
              "3                 مول الجاراج تحسو دزيري مغليهم ياسر\n",
              "4  🌙  💦  🌹الهم صل علي سيدنا  💛محمد  💛الذي تحولت ا..."
            ],
            "text/html": [
              "\n",
              "  <div id=\"df-7bca730e-1206-4ccb-945e-f4475dc4bf1d\">\n",
              "    <div class=\"colab-df-container\">\n",
              "      <div>\n",
              "<style scoped>\n",
              "    .dataframe tbody tr th:only-of-type {\n",
              "        vertical-align: middle;\n",
              "    }\n",
              "\n",
              "    .dataframe tbody tr th {\n",
              "        vertical-align: top;\n",
              "    }\n",
              "\n",
              "    .dataframe thead th {\n",
              "        text-align: right;\n",
              "    }\n",
              "</style>\n",
              "<table border=\"1\" class=\"dataframe\">\n",
              "  <thead>\n",
              "    <tr style=\"text-align: right;\">\n",
              "      <th></th>\n",
              "      <th>text</th>\n",
              "    </tr>\n",
              "  </thead>\n",
              "  <tbody>\n",
              "    <tr>\n",
              "      <th>0</th>\n",
              "      <td>شعب مريض باينه بلي اوروبا سيارات رخاص لانه انت...</td>\n",
              "    </tr>\n",
              "    <tr>\n",
              "      <th>1</th>\n",
              "      <td>اضرب اليورو الدينار التونسي الاسعار عدنا تونس ...</td>\n",
              "    </tr>\n",
              "    <tr>\n",
              "      <th>2</th>\n",
              "      <td>اسعار السيارات نوعها معقوله جدا</td>\n",
              "    </tr>\n",
              "    <tr>\n",
              "      <th>3</th>\n",
              "      <td>مول الجاراج تحسو دزيري مغليهم ياسر</td>\n",
              "    </tr>\n",
              "    <tr>\n",
              "      <th>4</th>\n",
              "      <td>🌙  💦  🌹الهم صل علي سيدنا  💛محمد  💛الذي تحولت ا...</td>\n",
              "    </tr>\n",
              "  </tbody>\n",
              "</table>\n",
              "</div>\n",
              "      <button class=\"colab-df-convert\" onclick=\"convertToInteractive('df-7bca730e-1206-4ccb-945e-f4475dc4bf1d')\"\n",
              "              title=\"Convert this dataframe to an interactive table.\"\n",
              "              style=\"display:none;\">\n",
              "        \n",
              "  <svg xmlns=\"http://www.w3.org/2000/svg\" height=\"24px\"viewBox=\"0 0 24 24\"\n",
              "       width=\"24px\">\n",
              "    <path d=\"M0 0h24v24H0V0z\" fill=\"none\"/>\n",
              "    <path d=\"M18.56 5.44l.94 2.06.94-2.06 2.06-.94-2.06-.94-.94-2.06-.94 2.06-2.06.94zm-11 1L8.5 8.5l.94-2.06 2.06-.94-2.06-.94L8.5 2.5l-.94 2.06-2.06.94zm10 10l.94 2.06.94-2.06 2.06-.94-2.06-.94-.94-2.06-.94 2.06-2.06.94z\"/><path d=\"M17.41 7.96l-1.37-1.37c-.4-.4-.92-.59-1.43-.59-.52 0-1.04.2-1.43.59L10.3 9.45l-7.72 7.72c-.78.78-.78 2.05 0 2.83L4 21.41c.39.39.9.59 1.41.59.51 0 1.02-.2 1.41-.59l7.78-7.78 2.81-2.81c.8-.78.8-2.07 0-2.86zM5.41 20L4 18.59l7.72-7.72 1.47 1.35L5.41 20z\"/>\n",
              "  </svg>\n",
              "      </button>\n",
              "      \n",
              "  <style>\n",
              "    .colab-df-container {\n",
              "      display:flex;\n",
              "      flex-wrap:wrap;\n",
              "      gap: 12px;\n",
              "    }\n",
              "\n",
              "    .colab-df-convert {\n",
              "      background-color: #E8F0FE;\n",
              "      border: none;\n",
              "      border-radius: 50%;\n",
              "      cursor: pointer;\n",
              "      display: none;\n",
              "      fill: #1967D2;\n",
              "      height: 32px;\n",
              "      padding: 0 0 0 0;\n",
              "      width: 32px;\n",
              "    }\n",
              "\n",
              "    .colab-df-convert:hover {\n",
              "      background-color: #E2EBFA;\n",
              "      box-shadow: 0px 1px 2px rgba(60, 64, 67, 0.3), 0px 1px 3px 1px rgba(60, 64, 67, 0.15);\n",
              "      fill: #174EA6;\n",
              "    }\n",
              "\n",
              "    [theme=dark] .colab-df-convert {\n",
              "      background-color: #3B4455;\n",
              "      fill: #D2E3FC;\n",
              "    }\n",
              "\n",
              "    [theme=dark] .colab-df-convert:hover {\n",
              "      background-color: #434B5C;\n",
              "      box-shadow: 0px 1px 3px 1px rgba(0, 0, 0, 0.15);\n",
              "      filter: drop-shadow(0px 1px 2px rgba(0, 0, 0, 0.3));\n",
              "      fill: #FFFFFF;\n",
              "    }\n",
              "  </style>\n",
              "\n",
              "      <script>\n",
              "        const buttonEl =\n",
              "          document.querySelector('#df-7bca730e-1206-4ccb-945e-f4475dc4bf1d button.colab-df-convert');\n",
              "        buttonEl.style.display =\n",
              "          google.colab.kernel.accessAllowed ? 'block' : 'none';\n",
              "\n",
              "        async function convertToInteractive(key) {\n",
              "          const element = document.querySelector('#df-7bca730e-1206-4ccb-945e-f4475dc4bf1d');\n",
              "          const dataTable =\n",
              "            await google.colab.kernel.invokeFunction('convertToInteractive',\n",
              "                                                     [key], {});\n",
              "          if (!dataTable) return;\n",
              "\n",
              "          const docLinkHtml = 'Like what you see? Visit the ' +\n",
              "            '<a target=\"_blank\" href=https://colab.research.google.com/notebooks/data_table.ipynb>data table notebook</a>'\n",
              "            + ' to learn more about interactive tables.';\n",
              "          element.innerHTML = '';\n",
              "          dataTable['output_type'] = 'display_data';\n",
              "          await google.colab.output.renderOutput(dataTable, element);\n",
              "          const docLink = document.createElement('div');\n",
              "          docLink.innerHTML = docLinkHtml;\n",
              "          element.appendChild(docLink);\n",
              "        }\n",
              "      </script>\n",
              "    </div>\n",
              "  </div>\n",
              "  "
            ]
          },
          "metadata": {},
          "execution_count": 8
        }
      ]
    },
    {
      "cell_type": "code",
      "source": [
        "Final = pd.read_csv('/content/drive/MyDrive/Colab Notebooks/PFE/corpus/Final2.csv')\n",
        "Final.head()"
      ],
      "metadata": {
        "colab": {
          "base_uri": "https://localhost:8080/",
          "height": 206
        },
        "id": "jLX_Ur0yb_aT",
        "outputId": "0a004f19-942f-4f12-b41f-f9dfc88111fb"
      },
      "execution_count": null,
      "outputs": [
        {
          "output_type": "execute_result",
          "data": {
            "text/plain": [
              "                                                text\n",
              "0                 فرنسيه تاعك طربڨ  😅  😅فات شهر والو\n",
              "1                                واش انتم ولاد فرنسا\n",
              "2  قنوات الجزاير بدون ترجمه نتوما خير سبوره واله ...\n",
              "3        جاز شهر ماكانش الاسعار كيما قلتو علاه تكذبو\n",
              "4       الغه الفرنسيه تجري عروقهم لاحول قوه الا باله"
            ],
            "text/html": [
              "\n",
              "  <div id=\"df-659b543a-f3f9-4271-bb37-4ebe6992a29c\">\n",
              "    <div class=\"colab-df-container\">\n",
              "      <div>\n",
              "<style scoped>\n",
              "    .dataframe tbody tr th:only-of-type {\n",
              "        vertical-align: middle;\n",
              "    }\n",
              "\n",
              "    .dataframe tbody tr th {\n",
              "        vertical-align: top;\n",
              "    }\n",
              "\n",
              "    .dataframe thead th {\n",
              "        text-align: right;\n",
              "    }\n",
              "</style>\n",
              "<table border=\"1\" class=\"dataframe\">\n",
              "  <thead>\n",
              "    <tr style=\"text-align: right;\">\n",
              "      <th></th>\n",
              "      <th>text</th>\n",
              "    </tr>\n",
              "  </thead>\n",
              "  <tbody>\n",
              "    <tr>\n",
              "      <th>0</th>\n",
              "      <td>فرنسيه تاعك طربڨ  😅  😅فات شهر والو</td>\n",
              "    </tr>\n",
              "    <tr>\n",
              "      <th>1</th>\n",
              "      <td>واش انتم ولاد فرنسا</td>\n",
              "    </tr>\n",
              "    <tr>\n",
              "      <th>2</th>\n",
              "      <td>قنوات الجزاير بدون ترجمه نتوما خير سبوره واله ...</td>\n",
              "    </tr>\n",
              "    <tr>\n",
              "      <th>3</th>\n",
              "      <td>جاز شهر ماكانش الاسعار كيما قلتو علاه تكذبو</td>\n",
              "    </tr>\n",
              "    <tr>\n",
              "      <th>4</th>\n",
              "      <td>الغه الفرنسيه تجري عروقهم لاحول قوه الا باله</td>\n",
              "    </tr>\n",
              "  </tbody>\n",
              "</table>\n",
              "</div>\n",
              "      <button class=\"colab-df-convert\" onclick=\"convertToInteractive('df-659b543a-f3f9-4271-bb37-4ebe6992a29c')\"\n",
              "              title=\"Convert this dataframe to an interactive table.\"\n",
              "              style=\"display:none;\">\n",
              "        \n",
              "  <svg xmlns=\"http://www.w3.org/2000/svg\" height=\"24px\"viewBox=\"0 0 24 24\"\n",
              "       width=\"24px\">\n",
              "    <path d=\"M0 0h24v24H0V0z\" fill=\"none\"/>\n",
              "    <path d=\"M18.56 5.44l.94 2.06.94-2.06 2.06-.94-2.06-.94-.94-2.06-.94 2.06-2.06.94zm-11 1L8.5 8.5l.94-2.06 2.06-.94-2.06-.94L8.5 2.5l-.94 2.06-2.06.94zm10 10l.94 2.06.94-2.06 2.06-.94-2.06-.94-.94-2.06-.94 2.06-2.06.94z\"/><path d=\"M17.41 7.96l-1.37-1.37c-.4-.4-.92-.59-1.43-.59-.52 0-1.04.2-1.43.59L10.3 9.45l-7.72 7.72c-.78.78-.78 2.05 0 2.83L4 21.41c.39.39.9.59 1.41.59.51 0 1.02-.2 1.41-.59l7.78-7.78 2.81-2.81c.8-.78.8-2.07 0-2.86zM5.41 20L4 18.59l7.72-7.72 1.47 1.35L5.41 20z\"/>\n",
              "  </svg>\n",
              "      </button>\n",
              "      \n",
              "  <style>\n",
              "    .colab-df-container {\n",
              "      display:flex;\n",
              "      flex-wrap:wrap;\n",
              "      gap: 12px;\n",
              "    }\n",
              "\n",
              "    .colab-df-convert {\n",
              "      background-color: #E8F0FE;\n",
              "      border: none;\n",
              "      border-radius: 50%;\n",
              "      cursor: pointer;\n",
              "      display: none;\n",
              "      fill: #1967D2;\n",
              "      height: 32px;\n",
              "      padding: 0 0 0 0;\n",
              "      width: 32px;\n",
              "    }\n",
              "\n",
              "    .colab-df-convert:hover {\n",
              "      background-color: #E2EBFA;\n",
              "      box-shadow: 0px 1px 2px rgba(60, 64, 67, 0.3), 0px 1px 3px 1px rgba(60, 64, 67, 0.15);\n",
              "      fill: #174EA6;\n",
              "    }\n",
              "\n",
              "    [theme=dark] .colab-df-convert {\n",
              "      background-color: #3B4455;\n",
              "      fill: #D2E3FC;\n",
              "    }\n",
              "\n",
              "    [theme=dark] .colab-df-convert:hover {\n",
              "      background-color: #434B5C;\n",
              "      box-shadow: 0px 1px 3px 1px rgba(0, 0, 0, 0.15);\n",
              "      filter: drop-shadow(0px 1px 2px rgba(0, 0, 0, 0.3));\n",
              "      fill: #FFFFFF;\n",
              "    }\n",
              "  </style>\n",
              "\n",
              "      <script>\n",
              "        const buttonEl =\n",
              "          document.querySelector('#df-659b543a-f3f9-4271-bb37-4ebe6992a29c button.colab-df-convert');\n",
              "        buttonEl.style.display =\n",
              "          google.colab.kernel.accessAllowed ? 'block' : 'none';\n",
              "\n",
              "        async function convertToInteractive(key) {\n",
              "          const element = document.querySelector('#df-659b543a-f3f9-4271-bb37-4ebe6992a29c');\n",
              "          const dataTable =\n",
              "            await google.colab.kernel.invokeFunction('convertToInteractive',\n",
              "                                                     [key], {});\n",
              "          if (!dataTable) return;\n",
              "\n",
              "          const docLinkHtml = 'Like what you see? Visit the ' +\n",
              "            '<a target=\"_blank\" href=https://colab.research.google.com/notebooks/data_table.ipynb>data table notebook</a>'\n",
              "            + ' to learn more about interactive tables.';\n",
              "          element.innerHTML = '';\n",
              "          dataTable['output_type'] = 'display_data';\n",
              "          await google.colab.output.renderOutput(dataTable, element);\n",
              "          const docLink = document.createElement('div');\n",
              "          docLink.innerHTML = docLinkHtml;\n",
              "          element.appendChild(docLink);\n",
              "        }\n",
              "      </script>\n",
              "    </div>\n",
              "  </div>\n",
              "  "
            ]
          },
          "metadata": {},
          "execution_count": 9
        }
      ]
    },
    {
      "cell_type": "code",
      "source": [
        "lst = [ar1, ar2, dz1, dz2, Final]  # List of your dataframes\n",
        "corpus= pd.concat(lst, ignore_index=True)"
      ],
      "metadata": {
        "id": "q1a2meLzHMN1"
      },
      "execution_count": null,
      "outputs": []
    },
    {
      "cell_type": "code",
      "source": [
        "corpus.shape"
      ],
      "metadata": {
        "id": "q8AQkZfbHTmk",
        "colab": {
          "base_uri": "https://localhost:8080/"
        },
        "outputId": "b7bc8e1e-a10b-40e5-fc92-ba06576739a4"
      },
      "execution_count": null,
      "outputs": [
        {
          "output_type": "execute_result",
          "data": {
            "text/plain": [
              "(600443, 1)"
            ]
          },
          "metadata": {},
          "execution_count": 11
        }
      ]
    },
    {
      "cell_type": "code",
      "source": [
        "corpus = corpus.dropna(axis=0)"
      ],
      "metadata": {
        "id": "FNqJ7jJzHRbH"
      },
      "execution_count": null,
      "outputs": []
    },
    {
      "cell_type": "code",
      "source": [
        "corpus.text = corpus.text.astype(str)"
      ],
      "metadata": {
        "id": "Hx8J3njPHSDo"
      },
      "execution_count": null,
      "outputs": []
    },
    {
      "cell_type": "code",
      "source": [
        "corpus = corpus.drop_duplicates()"
      ],
      "metadata": {
        "id": "wN4csgpCcNBb"
      },
      "execution_count": null,
      "outputs": []
    },
    {
      "cell_type": "code",
      "source": [
        "corpus.shape"
      ],
      "metadata": {
        "colab": {
          "base_uri": "https://localhost:8080/"
        },
        "id": "i2143BJ0cPh_",
        "outputId": "a2383bd6-fb0f-49fa-b1d8-235b498cdd01"
      },
      "execution_count": null,
      "outputs": [
        {
          "output_type": "execute_result",
          "data": {
            "text/plain": [
              "(490734, 1)"
            ]
          },
          "metadata": {},
          "execution_count": 15
        }
      ]
    },
    {
      "cell_type": "code",
      "source": [
        "corpus.head()"
      ],
      "metadata": {
        "id": "AMlKWM1SHNHS",
        "colab": {
          "base_uri": "https://localhost:8080/",
          "height": 395
        },
        "outputId": "5d3c1224-93ae-4778-d73c-d455862406ab"
      },
      "execution_count": null,
      "outputs": [
        {
          "output_type": "execute_result",
          "data": {
            "text/plain": [
              "                                                text\n",
              "0  ممتاز البوفيه المفتوح راءع جدا سواء الفطور او ...\n",
              "1  كتاب حكم النبي محمد كتبه الاديب الرواءي الروسي...\n",
              "2  معلومات تاريخيه الثوره الايرانيه حدث بتفاصيل م...\n",
              "3  جلال امين يجد اجابه للسءال فاخد يسرد قصصا تسوق...\n",
              "4            شقه ممتازه  اعجبني شيء وخاصه طاقم العمل"
            ],
            "text/html": [
              "\n",
              "  <div id=\"df-861445c0-472b-437d-bafe-962555c546e6\">\n",
              "    <div class=\"colab-df-container\">\n",
              "      <div>\n",
              "<style scoped>\n",
              "    .dataframe tbody tr th:only-of-type {\n",
              "        vertical-align: middle;\n",
              "    }\n",
              "\n",
              "    .dataframe tbody tr th {\n",
              "        vertical-align: top;\n",
              "    }\n",
              "\n",
              "    .dataframe thead th {\n",
              "        text-align: right;\n",
              "    }\n",
              "</style>\n",
              "<table border=\"1\" class=\"dataframe\">\n",
              "  <thead>\n",
              "    <tr style=\"text-align: right;\">\n",
              "      <th></th>\n",
              "      <th>text</th>\n",
              "    </tr>\n",
              "  </thead>\n",
              "  <tbody>\n",
              "    <tr>\n",
              "      <th>0</th>\n",
              "      <td>ممتاز البوفيه المفتوح راءع جدا سواء الفطور او ...</td>\n",
              "    </tr>\n",
              "    <tr>\n",
              "      <th>1</th>\n",
              "      <td>كتاب حكم النبي محمد كتبه الاديب الرواءي الروسي...</td>\n",
              "    </tr>\n",
              "    <tr>\n",
              "      <th>2</th>\n",
              "      <td>معلومات تاريخيه الثوره الايرانيه حدث بتفاصيل م...</td>\n",
              "    </tr>\n",
              "    <tr>\n",
              "      <th>3</th>\n",
              "      <td>جلال امين يجد اجابه للسءال فاخد يسرد قصصا تسوق...</td>\n",
              "    </tr>\n",
              "    <tr>\n",
              "      <th>4</th>\n",
              "      <td>شقه ممتازه  اعجبني شيء وخاصه طاقم العمل</td>\n",
              "    </tr>\n",
              "  </tbody>\n",
              "</table>\n",
              "</div>\n",
              "      <button class=\"colab-df-convert\" onclick=\"convertToInteractive('df-861445c0-472b-437d-bafe-962555c546e6')\"\n",
              "              title=\"Convert this dataframe to an interactive table.\"\n",
              "              style=\"display:none;\">\n",
              "        \n",
              "  <svg xmlns=\"http://www.w3.org/2000/svg\" height=\"24px\"viewBox=\"0 0 24 24\"\n",
              "       width=\"24px\">\n",
              "    <path d=\"M0 0h24v24H0V0z\" fill=\"none\"/>\n",
              "    <path d=\"M18.56 5.44l.94 2.06.94-2.06 2.06-.94-2.06-.94-.94-2.06-.94 2.06-2.06.94zm-11 1L8.5 8.5l.94-2.06 2.06-.94-2.06-.94L8.5 2.5l-.94 2.06-2.06.94zm10 10l.94 2.06.94-2.06 2.06-.94-2.06-.94-.94-2.06-.94 2.06-2.06.94z\"/><path d=\"M17.41 7.96l-1.37-1.37c-.4-.4-.92-.59-1.43-.59-.52 0-1.04.2-1.43.59L10.3 9.45l-7.72 7.72c-.78.78-.78 2.05 0 2.83L4 21.41c.39.39.9.59 1.41.59.51 0 1.02-.2 1.41-.59l7.78-7.78 2.81-2.81c.8-.78.8-2.07 0-2.86zM5.41 20L4 18.59l7.72-7.72 1.47 1.35L5.41 20z\"/>\n",
              "  </svg>\n",
              "      </button>\n",
              "      \n",
              "  <style>\n",
              "    .colab-df-container {\n",
              "      display:flex;\n",
              "      flex-wrap:wrap;\n",
              "      gap: 12px;\n",
              "    }\n",
              "\n",
              "    .colab-df-convert {\n",
              "      background-color: #E8F0FE;\n",
              "      border: none;\n",
              "      border-radius: 50%;\n",
              "      cursor: pointer;\n",
              "      display: none;\n",
              "      fill: #1967D2;\n",
              "      height: 32px;\n",
              "      padding: 0 0 0 0;\n",
              "      width: 32px;\n",
              "    }\n",
              "\n",
              "    .colab-df-convert:hover {\n",
              "      background-color: #E2EBFA;\n",
              "      box-shadow: 0px 1px 2px rgba(60, 64, 67, 0.3), 0px 1px 3px 1px rgba(60, 64, 67, 0.15);\n",
              "      fill: #174EA6;\n",
              "    }\n",
              "\n",
              "    [theme=dark] .colab-df-convert {\n",
              "      background-color: #3B4455;\n",
              "      fill: #D2E3FC;\n",
              "    }\n",
              "\n",
              "    [theme=dark] .colab-df-convert:hover {\n",
              "      background-color: #434B5C;\n",
              "      box-shadow: 0px 1px 3px 1px rgba(0, 0, 0, 0.15);\n",
              "      filter: drop-shadow(0px 1px 2px rgba(0, 0, 0, 0.3));\n",
              "      fill: #FFFFFF;\n",
              "    }\n",
              "  </style>\n",
              "\n",
              "      <script>\n",
              "        const buttonEl =\n",
              "          document.querySelector('#df-861445c0-472b-437d-bafe-962555c546e6 button.colab-df-convert');\n",
              "        buttonEl.style.display =\n",
              "          google.colab.kernel.accessAllowed ? 'block' : 'none';\n",
              "\n",
              "        async function convertToInteractive(key) {\n",
              "          const element = document.querySelector('#df-861445c0-472b-437d-bafe-962555c546e6');\n",
              "          const dataTable =\n",
              "            await google.colab.kernel.invokeFunction('convertToInteractive',\n",
              "                                                     [key], {});\n",
              "          if (!dataTable) return;\n",
              "\n",
              "          const docLinkHtml = 'Like what you see? Visit the ' +\n",
              "            '<a target=\"_blank\" href=https://colab.research.google.com/notebooks/data_table.ipynb>data table notebook</a>'\n",
              "            + ' to learn more about interactive tables.';\n",
              "          element.innerHTML = '';\n",
              "          dataTable['output_type'] = 'display_data';\n",
              "          await google.colab.output.renderOutput(dataTable, element);\n",
              "          const docLink = document.createElement('div');\n",
              "          docLink.innerHTML = docLinkHtml;\n",
              "          element.appendChild(docLink);\n",
              "        }\n",
              "      </script>\n",
              "    </div>\n",
              "  </div>\n",
              "  "
            ]
          },
          "metadata": {},
          "execution_count": 16
        },
        {
          "output_type": "execute_result",
          "data": {
            "text/plain": [
              "                                                text\n",
              "0  ممتاز البوفيه المفتوح راءع جدا سواء الفطور او ...\n",
              "1  كتاب حكم النبي محمد كتبه الاديب الرواءي الروسي...\n",
              "2  معلومات تاريخيه الثوره الايرانيه حدث بتفاصيل م...\n",
              "3  جلال امين يجد اجابه للسءال فاخد يسرد قصصا تسوق...\n",
              "4            شقه ممتازه  اعجبني شيء وخاصه طاقم العمل"
            ],
            "text/html": [
              "\n",
              "  <div id=\"df-fae7fe15-d9b7-4a1b-a75a-95e1ded58397\">\n",
              "    <div class=\"colab-df-container\">\n",
              "      <div>\n",
              "<style scoped>\n",
              "    .dataframe tbody tr th:only-of-type {\n",
              "        vertical-align: middle;\n",
              "    }\n",
              "\n",
              "    .dataframe tbody tr th {\n",
              "        vertical-align: top;\n",
              "    }\n",
              "\n",
              "    .dataframe thead th {\n",
              "        text-align: right;\n",
              "    }\n",
              "</style>\n",
              "<table border=\"1\" class=\"dataframe\">\n",
              "  <thead>\n",
              "    <tr style=\"text-align: right;\">\n",
              "      <th></th>\n",
              "      <th>text</th>\n",
              "    </tr>\n",
              "  </thead>\n",
              "  <tbody>\n",
              "    <tr>\n",
              "      <th>0</th>\n",
              "      <td>ممتاز البوفيه المفتوح راءع جدا سواء الفطور او ...</td>\n",
              "    </tr>\n",
              "    <tr>\n",
              "      <th>1</th>\n",
              "      <td>كتاب حكم النبي محمد كتبه الاديب الرواءي الروسي...</td>\n",
              "    </tr>\n",
              "    <tr>\n",
              "      <th>2</th>\n",
              "      <td>معلومات تاريخيه الثوره الايرانيه حدث بتفاصيل م...</td>\n",
              "    </tr>\n",
              "    <tr>\n",
              "      <th>3</th>\n",
              "      <td>جلال امين يجد اجابه للسءال فاخد يسرد قصصا تسوق...</td>\n",
              "    </tr>\n",
              "    <tr>\n",
              "      <th>4</th>\n",
              "      <td>شقه ممتازه  اعجبني شيء وخاصه طاقم العمل</td>\n",
              "    </tr>\n",
              "  </tbody>\n",
              "</table>\n",
              "</div>\n",
              "      <button class=\"colab-df-convert\" onclick=\"convertToInteractive('df-fae7fe15-d9b7-4a1b-a75a-95e1ded58397')\"\n",
              "              title=\"Convert this dataframe to an interactive table.\"\n",
              "              style=\"display:none;\">\n",
              "        \n",
              "  <svg xmlns=\"http://www.w3.org/2000/svg\" height=\"24px\"viewBox=\"0 0 24 24\"\n",
              "       width=\"24px\">\n",
              "    <path d=\"M0 0h24v24H0V0z\" fill=\"none\"/>\n",
              "    <path d=\"M18.56 5.44l.94 2.06.94-2.06 2.06-.94-2.06-.94-.94-2.06-.94 2.06-2.06.94zm-11 1L8.5 8.5l.94-2.06 2.06-.94-2.06-.94L8.5 2.5l-.94 2.06-2.06.94zm10 10l.94 2.06.94-2.06 2.06-.94-2.06-.94-.94-2.06-.94 2.06-2.06.94z\"/><path d=\"M17.41 7.96l-1.37-1.37c-.4-.4-.92-.59-1.43-.59-.52 0-1.04.2-1.43.59L10.3 9.45l-7.72 7.72c-.78.78-.78 2.05 0 2.83L4 21.41c.39.39.9.59 1.41.59.51 0 1.02-.2 1.41-.59l7.78-7.78 2.81-2.81c.8-.78.8-2.07 0-2.86zM5.41 20L4 18.59l7.72-7.72 1.47 1.35L5.41 20z\"/>\n",
              "  </svg>\n",
              "      </button>\n",
              "      \n",
              "  <style>\n",
              "    .colab-df-container {\n",
              "      display:flex;\n",
              "      flex-wrap:wrap;\n",
              "      gap: 12px;\n",
              "    }\n",
              "\n",
              "    .colab-df-convert {\n",
              "      background-color: #E8F0FE;\n",
              "      border: none;\n",
              "      border-radius: 50%;\n",
              "      cursor: pointer;\n",
              "      display: none;\n",
              "      fill: #1967D2;\n",
              "      height: 32px;\n",
              "      padding: 0 0 0 0;\n",
              "      width: 32px;\n",
              "    }\n",
              "\n",
              "    .colab-df-convert:hover {\n",
              "      background-color: #E2EBFA;\n",
              "      box-shadow: 0px 1px 2px rgba(60, 64, 67, 0.3), 0px 1px 3px 1px rgba(60, 64, 67, 0.15);\n",
              "      fill: #174EA6;\n",
              "    }\n",
              "\n",
              "    [theme=dark] .colab-df-convert {\n",
              "      background-color: #3B4455;\n",
              "      fill: #D2E3FC;\n",
              "    }\n",
              "\n",
              "    [theme=dark] .colab-df-convert:hover {\n",
              "      background-color: #434B5C;\n",
              "      box-shadow: 0px 1px 3px 1px rgba(0, 0, 0, 0.15);\n",
              "      filter: drop-shadow(0px 1px 2px rgba(0, 0, 0, 0.3));\n",
              "      fill: #FFFFFF;\n",
              "    }\n",
              "  </style>\n",
              "\n",
              "      <script>\n",
              "        const buttonEl =\n",
              "          document.querySelector('#df-fae7fe15-d9b7-4a1b-a75a-95e1ded58397 button.colab-df-convert');\n",
              "        buttonEl.style.display =\n",
              "          google.colab.kernel.accessAllowed ? 'block' : 'none';\n",
              "\n",
              "        async function convertToInteractive(key) {\n",
              "          const element = document.querySelector('#df-fae7fe15-d9b7-4a1b-a75a-95e1ded58397');\n",
              "          const dataTable =\n",
              "            await google.colab.kernel.invokeFunction('convertToInteractive',\n",
              "                                                     [key], {});\n",
              "          if (!dataTable) return;\n",
              "\n",
              "          const docLinkHtml = 'Like what you see? Visit the ' +\n",
              "            '<a target=\"_blank\" href=https://colab.research.google.com/notebooks/data_table.ipynb>data table notebook</a>'\n",
              "            + ' to learn more about interactive tables.';\n",
              "          element.innerHTML = '';\n",
              "          dataTable['output_type'] = 'display_data';\n",
              "          await google.colab.output.renderOutput(dataTable, element);\n",
              "          const docLink = document.createElement('div');\n",
              "          docLink.innerHTML = docLinkHtml;\n",
              "          element.appendChild(docLink);\n",
              "        }\n",
              "      </script>\n",
              "    </div>\n",
              "  </div>\n",
              "  "
            ]
          },
          "metadata": {},
          "execution_count": 17
        }
      ]
    },
    {
      "cell_type": "markdown",
      "metadata": {
        "id": "u1Hq9jJ9MeuT"
      },
      "source": [
        "#FastText training"
      ]
    },
    {
      "cell_type": "code",
      "execution_count": null,
      "metadata": {
        "id": "w2udlEwqO_yI"
      },
      "outputs": [],
      "source": [
        "text = corpus['text'].apply(lambda x: x.split())"
      ]
    },
    {
      "cell_type": "code",
      "execution_count": null,
      "metadata": {
        "id": "7yucX0pWPW0n"
      },
      "outputs": [],
      "source": [
        "Embedding_dimensions = 300"
      ]
    },
    {
      "cell_type": "code",
      "execution_count": null,
      "metadata": {
        "id": "tlmn8qpPPby_"
      },
      "outputs": [],
      "source": [
        "cores = multiprocessing.cpu_count()\n",
        "print(cores)"
      ]
    },
    {
      "cell_type": "code",
      "execution_count": null,
      "metadata": {
        "id": "0Xiaz0iDPbzM"
      },
      "outputs": [],
      "source": [
        "# Defining the model and training it.\n",
        "fasttext_model = FastText(text,\n",
        "                 vector_size=Embedding_dimensions,\n",
        "                 workers=2,\n",
        "                 min_count=2)"
      ]
    },
    {
      "cell_type": "code",
      "execution_count": null,
      "metadata": {
        "id": "8NeGVU2285Wi"
      },
      "outputs": [],
      "source": [
        "len(fasttext_model.wv)"
      ]
    },
    {
      "cell_type": "code",
      "execution_count": null,
      "metadata": {
        "id": "_EmB6_1ZPYiP"
      },
      "outputs": [],
      "source": [
        "fasttext_model.train(text, total_examples= len(text),epochs=21)"
      ]
    },
    {
      "cell_type": "code",
      "execution_count": null,
      "metadata": {
        "id": "ePoNqL45IhqE"
      },
      "outputs": [],
      "source": [
        "fasttext_model.save(\"/content/drive/MyDrive/Colab Notebooks/PFE/fasttext_model.bin\")"
      ]
    },
    {
      "cell_type": "code",
      "source": [
        "fasttext_model = FastText.load('/content/drive/MyDrive/Colab Notebooks/PFE/fasttext_model.bin')"
      ],
      "metadata": {
        "id": "a4zDqQd_i2JH"
      },
      "execution_count": null,
      "outputs": []
    },
    {
      "cell_type": "code",
      "source": [
        "fasttext_model.wv.most_similar(positive=[\"بزاف\"])"
      ],
      "metadata": {
        "id": "0CO2gKp9rFdU",
        "colab": {
          "base_uri": "https://localhost:8080/"
        },
        "outputId": "b7602de4-db77-4d6f-86b1-11256f71a818"
      },
      "execution_count": null,
      "outputs": [
        {
          "output_type": "execute_result",
          "data": {
            "text/plain": [
              "[('بزاف\\u2066', 0.9472997188568115),\n",
              " ('بزاف،', 0.9422277212142944),\n",
              " ('بلبزاف', 0.856670081615448),\n",
              " ('بزااف', 0.8493159413337708),\n",
              " ('بززاف', 0.8441769480705261),\n",
              " ('وبزاف', 0.8263711333274841),\n",
              " ('لبزاف', 0.8197468519210815),\n",
              " ('بزاافف', 0.7961998581886292),\n",
              " ('بزاغ', 0.7693771719932556),\n",
              " ('بزافربي', 0.7129154801368713)]"
            ]
          },
          "metadata": {},
          "execution_count": 6
        }
      ]
    },
    {
      "cell_type": "markdown",
      "metadata": {
        "id": "TaeFyjwZMwLk"
      },
      "source": [
        "# Classification DATA"
      ]
    },
    {
      "cell_type": "code",
      "execution_count": null,
      "metadata": {
        "id": "rxfUmHV4NxK4"
      },
      "outputs": [],
      "source": [
        "df = pd.read_csv('/content/drive/MyDrive/Colab Notebooks/PFE/preprocess2FinalBalanced.csv')"
      ]
    },
    {
      "cell_type": "code",
      "execution_count": null,
      "metadata": {
        "id": "18nU3fky1wj0"
      },
      "outputs": [],
      "source": [
        "df=df.dropna()"
      ]
    },
    {
      "cell_type": "code",
      "execution_count": null,
      "metadata": {
        "id": "-6htU4EJNxLc"
      },
      "outputs": [],
      "source": [
        "df.text=df.text.astype(str)"
      ]
    },
    {
      "cell_type": "code",
      "source": [
        "df = df.drop_duplicates()"
      ],
      "metadata": {
        "id": "WI6YQkRUc6mD"
      },
      "execution_count": null,
      "outputs": []
    },
    {
      "cell_type": "code",
      "source": [
        "df.shape"
      ],
      "metadata": {
        "id": "yTEgW4J7c8vR",
        "colab": {
          "base_uri": "https://localhost:8080/"
        },
        "outputId": "906f4a2b-6946-42dd-9972-d959533f0d47"
      },
      "execution_count": null,
      "outputs": [
        {
          "output_type": "execute_result",
          "data": {
            "text/plain": [
              "(21890, 2)"
            ]
          },
          "metadata": {},
          "execution_count": 9
        }
      ]
    },
    {
      "cell_type": "code",
      "execution_count": null,
      "metadata": {
        "id": "wh9bYeu1w3qV",
        "colab": {
          "base_uri": "https://localhost:8080/"
        },
        "outputId": "a8d8493a-74f0-4eb0-994a-c16e5214f6ac"
      },
      "outputs": [
        {
          "output_type": "execute_result",
          "data": {
            "text/plain": [
              "negative    7304\n",
              "neutral     7304\n",
              "positive    7282\n",
              "Name: sentiment, dtype: int64"
            ]
          },
          "metadata": {},
          "execution_count": 10
        }
      ],
      "source": [
        "df['sentiment'].value_counts()"
      ]
    },
    {
      "cell_type": "code",
      "execution_count": null,
      "metadata": {
        "id": "uKU_NWjAt0vB"
      },
      "outputs": [],
      "source": [
        "label_mapping = {'positive': 2, 'negative': 0, 'neutral': 1}\n",
        "df['sentiment'] =[label_mapping[label] for label in df['sentiment']]"
      ]
    },
    {
      "cell_type": "code",
      "execution_count": null,
      "metadata": {
        "id": "a1CP-dM4NxLg",
        "colab": {
          "base_uri": "https://localhost:8080/",
          "height": 206
        },
        "outputId": "5d423ae3-f25c-45c3-f3af-b8bfbb857c89"
      },
      "outputs": [
        {
          "output_type": "execute_result",
          "data": {
            "text/plain": [
              "   sentiment                                               text\n",
              "0          2  ♥️  ♥️  ♥️  ♥️  ♥️  ♥️  ♥️  ♥️  ♥️  ♥️  ♥️  ♥️...\n",
              "1          2  فرانكا هارمت دجدادنا وا والدينا وا مين باعد ول...\n",
              "2          2  اله يبارك ،هدا الخير ويقولوا الجزايري ماشي خدا...\n",
              "3          2  بونجور دوك قو ك سويت على ال الموقع (المواقع فر...\n",
              "4          2  ديدو الدوله حبيبي حاله ازمه ماليه الازمه باقي ..."
            ],
            "text/html": [
              "\n",
              "  <div id=\"df-79b8cde4-77c5-474e-8b51-e9b7a9467ace\">\n",
              "    <div class=\"colab-df-container\">\n",
              "      <div>\n",
              "<style scoped>\n",
              "    .dataframe tbody tr th:only-of-type {\n",
              "        vertical-align: middle;\n",
              "    }\n",
              "\n",
              "    .dataframe tbody tr th {\n",
              "        vertical-align: top;\n",
              "    }\n",
              "\n",
              "    .dataframe thead th {\n",
              "        text-align: right;\n",
              "    }\n",
              "</style>\n",
              "<table border=\"1\" class=\"dataframe\">\n",
              "  <thead>\n",
              "    <tr style=\"text-align: right;\">\n",
              "      <th></th>\n",
              "      <th>sentiment</th>\n",
              "      <th>text</th>\n",
              "    </tr>\n",
              "  </thead>\n",
              "  <tbody>\n",
              "    <tr>\n",
              "      <th>0</th>\n",
              "      <td>2</td>\n",
              "      <td>♥️  ♥️  ♥️  ♥️  ♥️  ♥️  ♥️  ♥️  ♥️  ♥️  ♥️  ♥️...</td>\n",
              "    </tr>\n",
              "    <tr>\n",
              "      <th>1</th>\n",
              "      <td>2</td>\n",
              "      <td>فرانكا هارمت دجدادنا وا والدينا وا مين باعد ول...</td>\n",
              "    </tr>\n",
              "    <tr>\n",
              "      <th>2</th>\n",
              "      <td>2</td>\n",
              "      <td>اله يبارك ،هدا الخير ويقولوا الجزايري ماشي خدا...</td>\n",
              "    </tr>\n",
              "    <tr>\n",
              "      <th>3</th>\n",
              "      <td>2</td>\n",
              "      <td>بونجور دوك قو ك سويت على ال الموقع (المواقع فر...</td>\n",
              "    </tr>\n",
              "    <tr>\n",
              "      <th>4</th>\n",
              "      <td>2</td>\n",
              "      <td>ديدو الدوله حبيبي حاله ازمه ماليه الازمه باقي ...</td>\n",
              "    </tr>\n",
              "  </tbody>\n",
              "</table>\n",
              "</div>\n",
              "      <button class=\"colab-df-convert\" onclick=\"convertToInteractive('df-79b8cde4-77c5-474e-8b51-e9b7a9467ace')\"\n",
              "              title=\"Convert this dataframe to an interactive table.\"\n",
              "              style=\"display:none;\">\n",
              "        \n",
              "  <svg xmlns=\"http://www.w3.org/2000/svg\" height=\"24px\"viewBox=\"0 0 24 24\"\n",
              "       width=\"24px\">\n",
              "    <path d=\"M0 0h24v24H0V0z\" fill=\"none\"/>\n",
              "    <path d=\"M18.56 5.44l.94 2.06.94-2.06 2.06-.94-2.06-.94-.94-2.06-.94 2.06-2.06.94zm-11 1L8.5 8.5l.94-2.06 2.06-.94-2.06-.94L8.5 2.5l-.94 2.06-2.06.94zm10 10l.94 2.06.94-2.06 2.06-.94-2.06-.94-.94-2.06-.94 2.06-2.06.94z\"/><path d=\"M17.41 7.96l-1.37-1.37c-.4-.4-.92-.59-1.43-.59-.52 0-1.04.2-1.43.59L10.3 9.45l-7.72 7.72c-.78.78-.78 2.05 0 2.83L4 21.41c.39.39.9.59 1.41.59.51 0 1.02-.2 1.41-.59l7.78-7.78 2.81-2.81c.8-.78.8-2.07 0-2.86zM5.41 20L4 18.59l7.72-7.72 1.47 1.35L5.41 20z\"/>\n",
              "  </svg>\n",
              "      </button>\n",
              "      \n",
              "  <style>\n",
              "    .colab-df-container {\n",
              "      display:flex;\n",
              "      flex-wrap:wrap;\n",
              "      gap: 12px;\n",
              "    }\n",
              "\n",
              "    .colab-df-convert {\n",
              "      background-color: #E8F0FE;\n",
              "      border: none;\n",
              "      border-radius: 50%;\n",
              "      cursor: pointer;\n",
              "      display: none;\n",
              "      fill: #1967D2;\n",
              "      height: 32px;\n",
              "      padding: 0 0 0 0;\n",
              "      width: 32px;\n",
              "    }\n",
              "\n",
              "    .colab-df-convert:hover {\n",
              "      background-color: #E2EBFA;\n",
              "      box-shadow: 0px 1px 2px rgba(60, 64, 67, 0.3), 0px 1px 3px 1px rgba(60, 64, 67, 0.15);\n",
              "      fill: #174EA6;\n",
              "    }\n",
              "\n",
              "    [theme=dark] .colab-df-convert {\n",
              "      background-color: #3B4455;\n",
              "      fill: #D2E3FC;\n",
              "    }\n",
              "\n",
              "    [theme=dark] .colab-df-convert:hover {\n",
              "      background-color: #434B5C;\n",
              "      box-shadow: 0px 1px 3px 1px rgba(0, 0, 0, 0.15);\n",
              "      filter: drop-shadow(0px 1px 2px rgba(0, 0, 0, 0.3));\n",
              "      fill: #FFFFFF;\n",
              "    }\n",
              "  </style>\n",
              "\n",
              "      <script>\n",
              "        const buttonEl =\n",
              "          document.querySelector('#df-79b8cde4-77c5-474e-8b51-e9b7a9467ace button.colab-df-convert');\n",
              "        buttonEl.style.display =\n",
              "          google.colab.kernel.accessAllowed ? 'block' : 'none';\n",
              "\n",
              "        async function convertToInteractive(key) {\n",
              "          const element = document.querySelector('#df-79b8cde4-77c5-474e-8b51-e9b7a9467ace');\n",
              "          const dataTable =\n",
              "            await google.colab.kernel.invokeFunction('convertToInteractive',\n",
              "                                                     [key], {});\n",
              "          if (!dataTable) return;\n",
              "\n",
              "          const docLinkHtml = 'Like what you see? Visit the ' +\n",
              "            '<a target=\"_blank\" href=https://colab.research.google.com/notebooks/data_table.ipynb>data table notebook</a>'\n",
              "            + ' to learn more about interactive tables.';\n",
              "          element.innerHTML = '';\n",
              "          dataTable['output_type'] = 'display_data';\n",
              "          await google.colab.output.renderOutput(dataTable, element);\n",
              "          const docLink = document.createElement('div');\n",
              "          docLink.innerHTML = docLinkHtml;\n",
              "          element.appendChild(docLink);\n",
              "        }\n",
              "      </script>\n",
              "    </div>\n",
              "  </div>\n",
              "  "
            ]
          },
          "metadata": {},
          "execution_count": 12
        }
      ],
      "source": [
        "df.head()"
      ]
    },
    {
      "cell_type": "markdown",
      "metadata": {
        "id": "xZZvMjbkoPWc"
      },
      "source": [
        "# Machine Learning"
      ]
    },
    {
      "cell_type": "code",
      "execution_count": null,
      "metadata": {
        "id": "eK9HTegLk0xr"
      },
      "outputs": [],
      "source": [
        "fasttext_model = FastText.load('/content/drive/MyDrive/Colab Notebooks/PFE/fasttext_model.bin')"
      ]
    },
    {
      "cell_type": "code",
      "execution_count": null,
      "metadata": {
        "id": "SwGsIk5_k20v"
      },
      "outputs": [],
      "source": [
        "sentences = df['text'].tolist()\n",
        "labels = df['sentiment'].tolist()"
      ]
    },
    {
      "cell_type": "code",
      "execution_count": null,
      "metadata": {
        "id": "UepVA84GRyQE"
      },
      "outputs": [],
      "source": [
        "# Convert a sentence to a feature vector\n",
        "def sentence_to_vec(sentence):\n",
        "  sentence = sentence.split()\n",
        "  vectors = []\n",
        "  for word in sentence:\n",
        "    if word in fasttext_model.wv:\n",
        "      vectors.append(fasttext_model.wv[word])\n",
        "\n",
        "  if len(vectors) > 0:\n",
        "      return np.mean(vectors, axis=0)\n",
        "  else:\n",
        "      return np.zeros(fasttext_model.vector_size)\n",
        "\n",
        "# Convert all sentences to feature vectors\n",
        "X = [sentence_to_vec(sentence) for sentence in sentences]"
      ]
    },
    {
      "cell_type": "code",
      "execution_count": null,
      "metadata": {
        "id": "F7G3A2Y-Sooe"
      },
      "outputs": [],
      "source": [
        "# Split the data into training and testing sets\n",
        "x_train, x_test, y_train, y_test = train_test_split(X, labels, test_size=0.2, random_state=21)"
      ]
    },
    {
      "cell_type": "code",
      "execution_count": null,
      "metadata": {
        "id": "ueRS0mZHqDI4"
      },
      "outputs": [],
      "source": [
        "models=[]\n",
        "class_names=[\"negative\",\"neutral\",\"positive\"]\n",
        "\n",
        "def show_confusion_matrix(confusion_matrix):\n",
        "  hmap = sns.heatmap(confusion_matrix, annot=True, fmt=\"d\", cmap=\"Blues\")\n",
        "  hmap.yaxis.set_ticklabels(hmap.yaxis.get_ticklabels(), rotation=0, ha='right')\n",
        "  hmap.xaxis.set_ticklabels(hmap.xaxis.get_ticklabels(), rotation=30, ha='right')\n",
        "  plt.ylabel('True sentiment')\n",
        "  plt.xlabel('Predicted sentiment')"
      ]
    },
    {
      "cell_type": "markdown",
      "source": [
        "## SVM"
      ],
      "metadata": {
        "id": "qiT8RpEqgAaH"
      }
    },
    {
      "cell_type": "code",
      "execution_count": null,
      "metadata": {
        "id": "QmXqmDXfxGK6",
        "colab": {
          "base_uri": "https://localhost:8080/"
        },
        "outputId": "76a8beed-a0cb-4f7c-f5a1-54fcc08bb513"
      },
      "outputs": [
        {
          "output_type": "stream",
          "name": "stdout",
          "text": [
            "svm accuracy:  0.7348104157149383\n",
            "svm f1:  0.7357919317468578\n"
          ]
        }
      ],
      "source": [
        "svm = SVC(kernel='linear')\n",
        "svm.fit(x_train, y_train)\n",
        "pred=svm.predict(x_test)\n",
        "print(\"svm accuracy: \",accuracy_score(y_test, pred))\n",
        "print(\"svm f1: \",f1_score(y_test, pred, average='weighted'))\n",
        "\n",
        "with open('svm.pkl', 'wb') as file:\n",
        "    pickle.dump(svm, file)\n",
        "\n",
        "models.append('svm.pkl')"
      ]
    },
    {
      "cell_type": "code",
      "source": [
        "print(\"svm classification report\")\n",
        "print(classification_report(y_test, pred))"
      ],
      "metadata": {
        "id": "Ih1BCPuDf60k",
        "colab": {
          "base_uri": "https://localhost:8080/"
        },
        "outputId": "fc3bf477-7431-4aa7-fc3d-dd080cc04032"
      },
      "execution_count": null,
      "outputs": [
        {
          "output_type": "stream",
          "name": "stdout",
          "text": [
            "svm classification report\n",
            "              precision    recall  f1-score   support\n",
            "\n",
            "           0       0.71      0.77      0.74      1480\n",
            "           1       0.65      0.65      0.65      1444\n",
            "           2       0.85      0.78      0.81      1454\n",
            "\n",
            "    accuracy                           0.73      4378\n",
            "   macro avg       0.74      0.73      0.74      4378\n",
            "weighted avg       0.74      0.73      0.74      4378\n",
            "\n"
          ]
        }
      ]
    },
    {
      "cell_type": "code",
      "source": [
        "print(\"svm confusion matrix\")\n",
        "cm = confusion_matrix(y_test, pred)\n",
        "df_cm = pd.DataFrame(cm, index=class_names, columns=class_names)\n",
        "show_confusion_matrix(df_cm)"
      ],
      "metadata": {
        "id": "YCUbBDVxf-RT",
        "colab": {
          "base_uri": "https://localhost:8080/",
          "height": 495
        },
        "outputId": "05295ba8-d41c-4b6d-916e-5251d43454c5"
      },
      "execution_count": null,
      "outputs": [
        {
          "output_type": "stream",
          "name": "stdout",
          "text": [
            "svm confusion matrix\n"
          ]
        },
        {
          "output_type": "display_data",
          "data": {
            "text/plain": [
              "<Figure size 640x480 with 2 Axes>"
            ],
            "image/png": "[encoded data removed]"
          },
          "metadata": {}
        }
      ]
    },
    {
      "cell_type": "markdown",
      "source": [
        "## Naive Bayes"
      ],
      "metadata": {
        "id": "ThJoOjdhgE_P"
      }
    },
    {
      "cell_type": "code",
      "execution_count": null,
      "metadata": {
        "id": "eaSXLWDbhedB",
        "colab": {
          "base_uri": "https://localhost:8080/"
        },
        "outputId": "789eab04-1bc5-455c-bdbe-ab9f854cef51"
      },
      "outputs": [
        {
          "output_type": "stream",
          "name": "stdout",
          "text": [
            "bnb accuracy:  0.6793056190041115\n",
            "bnb f1:  0.6802630292326916\n"
          ]
        }
      ],
      "source": [
        "bnb = BernoulliNB()\n",
        "bnb.fit(x_train, y_train)\n",
        "pred=bnb.predict(x_test)\n",
        "print(\"bnb accuracy: \",accuracy_score(y_test, pred))\n",
        "print(\"bnb f1: \",f1_score(y_test, pred, average='weighted'))\n",
        "\n",
        "with open('bnb.pkl', 'wb') as file:\n",
        "    pickle.dump(bnb, file)\n",
        "\n",
        "models.append('bnb.pkl')"
      ]
    },
    {
      "cell_type": "code",
      "source": [
        "print(\"bnb classification report\")\n",
        "print(classification_report(y_test, pred))"
      ],
      "metadata": {
        "id": "0L4xjBarhedB",
        "colab": {
          "base_uri": "https://localhost:8080/"
        },
        "outputId": "e8b280fd-caa3-4249-9197-bb5dcf9f0564"
      },
      "execution_count": null,
      "outputs": [
        {
          "output_type": "stream",
          "name": "stdout",
          "text": [
            "bnb classification report\n",
            "              precision    recall  f1-score   support\n",
            "\n",
            "           0       0.68      0.73      0.70      1480\n",
            "           1       0.59      0.60      0.60      1444\n",
            "           2       0.78      0.71      0.74      1454\n",
            "\n",
            "    accuracy                           0.68      4378\n",
            "   macro avg       0.68      0.68      0.68      4378\n",
            "weighted avg       0.68      0.68      0.68      4378\n",
            "\n"
          ]
        }
      ]
    },
    {
      "cell_type": "code",
      "source": [
        "print(\"bnb confusion matrix\")\n",
        "cm = confusion_matrix(y_test, pred)\n",
        "df_cm = pd.DataFrame(cm, index=class_names, columns=class_names)\n",
        "show_confusion_matrix(df_cm)"
      ],
      "metadata": {
        "id": "N4UyXHNuhedC",
        "colab": {
          "base_uri": "https://localhost:8080/",
          "height": 495
        },
        "outputId": "5d5f5916-d7c5-4ec7-e3ab-39c8fc82fdcd"
      },
      "execution_count": null,
      "outputs": [
        {
          "output_type": "stream",
          "name": "stdout",
          "text": [
            "bnb confusion matrix\n"
          ]
        },
        {
          "output_type": "display_data",
          "data": {
            "text/plain": [
              "<Figure size 640x480 with 2 Axes>"
            ],
            "image/png": "[encoded data removed]"
          },
          "metadata": {}
        }
      ]
    },
    {
      "cell_type": "markdown",
      "metadata": {
        "id": "_TsmrV7Huhek"
      },
      "source": [
        "# Test Machine Learning"
      ]
    },
    {
      "cell_type": "code",
      "execution_count": null,
      "metadata": {
        "id": "dNlGrG7Dv60Z"
      },
      "outputs": [],
      "source": [
        "fasttext_model = FastText.load('/content/drive/MyDrive/Colab Notebooks/PFE/fasttext_model.bin')"
      ]
    },
    {
      "cell_type": "code",
      "execution_count": null,
      "metadata": {
        "id": "StpNGA_RunnE",
        "colab": {
          "base_uri": "https://localhost:8080/"
        },
        "outputId": "4038dc04-16c5-4245-c005-e6d8fa599795"
      },
      "outputs": [
        {
          "output_type": "stream",
          "name": "stdout",
          "text": [
            "##########\n",
            " testing with svm.pkl\n",
            "Sentence: عجبني هايل\n",
            "Predicted label: 2\n",
            "\n",
            "Sentence: ماعجبنيش سامط\n",
            "Predicted label: 1\n",
            "\n",
            "Sentence: نص نص\n",
            "Predicted label: 0\n",
            "\n",
            "##########\n",
            " testing with bnb.pkl\n",
            "Sentence: عجبني هايل\n",
            "Predicted label: 2\n",
            "\n",
            "Sentence: ماعجبنيش سامط\n",
            "Predicted label: 1\n",
            "\n",
            "Sentence: نص نص\n",
            "Predicted label: 1\n",
            "\n"
          ]
        }
      ],
      "source": [
        "for model in models:\n",
        "  print(\"##########\")\n",
        "  print(\" testing with\",model)\n",
        "  with open(model, 'rb') as file:\n",
        "    loaded_model = pickle.load(file)\n",
        "\n",
        "  test_sentences = [\"عجبني هايل\", \"ماعجبنيش سامط\", \"نص نص\"]\n",
        "  # Convert the test sentence to Word2Vec embeddings\n",
        "  for sentence in test_sentences:\n",
        "    # Convert the test sentence to Word2Vec embeddings\n",
        "    test_embedding = np.mean([fasttext_model.wv[word] for word in sentence.split() if word in fasttext_model.wv]\n",
        "                             or [np.zeros(fasttext_model.vector_size)], axis=0)\n",
        "\n",
        "    # Make prediction using the loaded Logistic Regression model\n",
        "    predicted_label = loaded_model.predict([test_embedding])\n",
        "\n",
        "    print(f\"Sentence: {sentence}\")\n",
        "    print(f\"Predicted label: {predicted_label[0]}\")\n",
        "    print()"
      ]
    },
    {
      "cell_type": "markdown",
      "source": [
        "# Deep Learning with three labels"
      ],
      "metadata": {
        "id": "hKTUCWr7Vbs0"
      }
    },
    {
      "cell_type": "code",
      "source": [
        "fasttext_model = FastText.load('/content/drive/MyDrive/Colab Notebooks/PFE/fasttext_model.bin')"
      ],
      "metadata": {
        "id": "WudIu1SS2FBx"
      },
      "execution_count": null,
      "outputs": []
    },
    {
      "cell_type": "code",
      "execution_count": null,
      "metadata": {
        "id": "_JE6gBNrkBx_"
      },
      "outputs": [],
      "source": [
        "tokenizer = Tokenizer()\n",
        "tokenizer.fit_on_texts(df['text'])\n",
        "sequences = tokenizer.texts_to_sequences(df['text'])"
      ]
    },
    {
      "cell_type": "code",
      "execution_count": null,
      "metadata": {
        "id": "m40blGBnkByA",
        "colab": {
          "base_uri": "https://localhost:8080/"
        },
        "outputId": "00eb1d8c-1b5d-4ff8-b584-eeed1dce0dad"
      },
      "outputs": [
        {
          "output_type": "execute_result",
          "data": {
            "text/plain": [
              "47800"
            ]
          },
          "metadata": {},
          "execution_count": 28
        }
      ],
      "source": [
        "len(tokenizer.word_index) + 1"
      ]
    },
    {
      "cell_type": "code",
      "source": [
        "max_sequence_length= 300"
      ],
      "metadata": {
        "id": "pmM2tBZyV_x8"
      },
      "execution_count": null,
      "outputs": []
    },
    {
      "cell_type": "code",
      "execution_count": null,
      "metadata": {
        "id": "RNte2yHkkByA"
      },
      "outputs": [],
      "source": [
        "X = pad_sequences(sequences, maxlen=max_sequence_length)\n",
        "y = np.array(df.sentiment.values)"
      ]
    },
    {
      "cell_type": "code",
      "execution_count": null,
      "metadata": {
        "id": "ntG3j2bvkByB",
        "colab": {
          "base_uri": "https://localhost:8080/"
        },
        "outputId": "688a394f-ddc4-43c1-e919-70d8fc6e5d8c"
      },
      "outputs": [
        {
          "output_type": "execute_result",
          "data": {
            "text/plain": [
              "array([[0., 0., 1.],\n",
              "       [0., 0., 1.],\n",
              "       [0., 0., 1.],\n",
              "       ...,\n",
              "       [0., 1., 0.],\n",
              "       [0., 1., 0.],\n",
              "       [0., 1., 0.]])"
            ]
          },
          "metadata": {},
          "execution_count": 31
        }
      ],
      "source": [
        "y = np.eye(len(label_mapping))[y]\n",
        "y"
      ]
    },
    {
      "cell_type": "code",
      "source": [
        "x_train, x_test, y_train, y_test = train_test_split(X, y, test_size=0.2,random_state=21)\n",
        "x_train, x_val, y_train, y_val = train_test_split(x_train, y_train, test_size=0.25, random_state=21)"
      ],
      "metadata": {
        "id": "uwIjQeEzjXDc"
      },
      "execution_count": null,
      "outputs": []
    },
    {
      "cell_type": "code",
      "source": [
        "embedding_matrix = np.zeros((len(tokenizer.word_index) + 1, 300))\n",
        "for word, i in tokenizer.word_index.items():\n",
        "  if word in fasttext_model.wv:\n",
        "    embedding_matrix[i] = fasttext_model.wv[word]\n",
        "print(embedding_matrix.shape)"
      ],
      "metadata": {
        "id": "SkfgkmjlWXit"
      },
      "execution_count": null,
      "outputs": []
    },
    {
      "cell_type": "code",
      "source": [
        "embedding_layer = Embedding(len(tokenizer.word_index) + 1, max_sequence_length, weights=[embedding_matrix], input_length=max_sequence_length, trainable=False)"
      ],
      "metadata": {
        "id": "sGVL1Lj5WyuA"
      },
      "execution_count": null,
      "outputs": []
    },
    {
      "cell_type": "code",
      "source": [
        "def build_model(hp):\n",
        "  learning_rate = hp.Choice('learning_rate', values=[1e-2, 1e-3, 1e-4, 1e-5])\n",
        "  dropout_rate = hp.Float('dropout_rate', 0.1, 0.5, step=0.1)\n",
        "\n",
        "  model = Sequential()\n",
        "  model.add(embedding_layer)\n",
        "  model.add(Bidirectional(LSTM(256, dropout=dropout_rate,\n",
        "                               recurrent_dropout=dropout_rate,\n",
        "                               return_sequences=True)))\n",
        "  model.add(GlobalMaxPool1D())\n",
        "  model.add(Dense(128, activation='relu'))\n",
        "  model.add(Dropout(dropout_rate))\n",
        "  model.add(Dense(64, activation='relu'))\n",
        "  model.add(Dropout(dropout_rate))\n",
        "  model.add(Dense(32, activation='relu'))\n",
        "  model.add(Dropout(dropout_rate))\n",
        "  model.add(Dense(3, activation='softmax'))\n",
        "\n",
        "  # Compile the model\n",
        "  optimizer = Adam(learning_rate=learning_rate)\n",
        "\n",
        "  model.compile(optimizer=optimizer,\n",
        "                loss='categorical_crossentropy',\n",
        "                metrics=['accuracy'])\n",
        "\n",
        "  return model"
      ],
      "metadata": {
        "id": "GAWsk7KzlO2E"
      },
      "execution_count": null,
      "outputs": []
    },
    {
      "cell_type": "code",
      "source": [
        "# Define the Hyperband tuner\n",
        "tuner = Hyperband(build_model,\n",
        "                  objective='val_accuracy',\n",
        "                  max_epochs=3,\n",
        "                  factor=3,\n",
        "                  directory='/content/drive/MyDrive/Colab Notebooks/PFE/wordembedding_hyper_3',\n",
        "                  project_name='sentiment_analysis')"
      ],
      "metadata": {
        "id": "qUm-4T7plO2F"
      },
      "execution_count": null,
      "outputs": []
    },
    {
      "cell_type": "code",
      "source": [
        "tuner.search(x_train, y_train, validation_data=(x_test, y_test), epochs=15)"
      ],
      "metadata": {
        "id": "1jM6Kz-QlO2F"
      },
      "execution_count": null,
      "outputs": []
    },
    {
      "cell_type": "code",
      "source": [
        "best_hps = tuner.get_best_hyperparameters(1)[0]"
      ],
      "metadata": {
        "id": "eLKyN7r0lO2G"
      },
      "execution_count": null,
      "outputs": []
    },
    {
      "cell_type": "code",
      "source": [
        "print(best_hps.values)"
      ],
      "metadata": {
        "id": "84VXcUrWlO2G"
      },
      "execution_count": null,
      "outputs": []
    },
    {
      "cell_type": "code",
      "source": [
        "final_model = tuner.hypermodel.build(best_hps)\n",
        "final_model.summary()"
      ],
      "metadata": {
        "id": "-q5yhBemlO2G"
      },
      "execution_count": null,
      "outputs": []
    },
    {
      "cell_type": "code",
      "source": [
        "early_stopping = EarlyStopping(monitor='val_accuracy', patience=5, restore_best_weights=True)\n",
        "history = final_model.fit(x_train, y_train, validation_data=(x_val, y_val), epochs=15, callbacks=[early_stopping])"
      ],
      "metadata": {
        "id": "Ls3VG4YhlO2H"
      },
      "execution_count": null,
      "outputs": []
    },
    {
      "cell_type": "code",
      "source": [
        "final_model.save('/content/drive/MyDrive/Colab Notebooks/PFE/fasttext_bilstm_3.h5')"
      ],
      "metadata": {
        "id": "Cailxv9dmaD4"
      },
      "execution_count": null,
      "outputs": []
    },
    {
      "cell_type": "code",
      "source": [
        "model = load_model('/content/drive/MyDrive/Colab Notebooks/PFE/fasttext_bilstm_3.h5')"
      ],
      "metadata": {
        "id": "0PE7UhBXmaD4",
        "colab": {
          "base_uri": "https://localhost:8080/"
        },
        "outputId": "7505cfa7-63b4-42f5-b4b0-ace1f512f18d"
      },
      "execution_count": null,
      "outputs": [
        {
          "output_type": "stream",
          "name": "stderr",
          "text": [
            "WARNING:tensorflow:Layer lstm will not use cuDNN kernels since it doesn't meet the criteria. It will use a generic GPU kernel as fallback when running on GPU.\n",
            "WARNING:tensorflow:Layer lstm will not use cuDNN kernels since it doesn't meet the criteria. It will use a generic GPU kernel as fallback when running on GPU.\n",
            "WARNING:tensorflow:Layer lstm will not use cuDNN kernels since it doesn't meet the criteria. It will use a generic GPU kernel as fallback when running on GPU.\n"
          ]
        }
      ]
    },
    {
      "cell_type": "code",
      "source": [
        "# Evaluate the final model\n",
        "loss, accuracy = model.evaluate(x_test, y_test)\n",
        "print('Test Loss:', loss)\n",
        "print('Test Accuracy:', accuracy)"
      ],
      "metadata": {
        "id": "iqpia-FrmaD5",
        "colab": {
          "base_uri": "https://localhost:8080/"
        },
        "outputId": "283489aa-83a3-4fae-e737-5dd7507b6a01"
      },
      "execution_count": null,
      "outputs": [
        {
          "output_type": "stream",
          "name": "stdout",
          "text": [
            "137/137 [==============================] - 29s 184ms/step - loss: 0.5879 - accuracy: 0.7714\n",
            "Test Loss: 0.5878783464431763\n",
            "Test Accuracy: 0.7713567614555359\n"
          ]
        }
      ]
    },
    {
      "cell_type": "code",
      "source": [
        "pred = model.predict(x_test)"
      ],
      "metadata": {
        "id": "e34n1btymaD5",
        "colab": {
          "base_uri": "https://localhost:8080/"
        },
        "outputId": "c1bee620-ec5a-42b1-983e-a50482afb15b"
      },
      "execution_count": null,
      "outputs": [
        {
          "output_type": "stream",
          "name": "stdout",
          "text": [
            "137/137 [==============================] - 25s 178ms/step\n"
          ]
        }
      ]
    },
    {
      "cell_type": "code",
      "source": [
        "pred = np.argmax(pred, axis=1)\n",
        "y_test_original=np.argmax(y_test, axis=1)"
      ],
      "metadata": {
        "id": "h22xDInQuFQQ"
      },
      "execution_count": null,
      "outputs": []
    },
    {
      "cell_type": "code",
      "source": [
        "print(\"deep learning classification report\")\n",
        "print(classification_report(y_test_original, pred))"
      ],
      "metadata": {
        "id": "gEkknp3OmaD5",
        "colab": {
          "base_uri": "https://localhost:8080/"
        },
        "outputId": "f3067487-5b88-4191-96b7-e9ee036ee1b4"
      },
      "execution_count": null,
      "outputs": [
        {
          "output_type": "stream",
          "name": "stdout",
          "text": [
            "deep learning classification report\n",
            "              precision    recall  f1-score   support\n",
            "\n",
            "           0       0.78      0.82      0.80      1480\n",
            "           1       0.68      0.76      0.72      1444\n",
            "           2       0.89      0.73      0.80      1454\n",
            "\n",
            "    accuracy                           0.77      4378\n",
            "   macro avg       0.78      0.77      0.77      4378\n",
            "weighted avg       0.78      0.77      0.77      4378\n",
            "\n"
          ]
        }
      ]
    },
    {
      "cell_type": "code",
      "source": [
        "print(\"deep learning confusion matrix\")\n",
        "cm = confusion_matrix(y_test_original, pred)\n",
        "df_cm = pd.DataFrame(cm, index=class_names, columns=class_names)\n",
        "show_confusion_matrix(df_cm)"
      ],
      "metadata": {
        "id": "NF3tifDEmaD5",
        "colab": {
          "base_uri": "https://localhost:8080/",
          "height": 495
        },
        "outputId": "a9f2a195-53f8-4140-d987-c1b8e3e6aa4e"
      },
      "execution_count": null,
      "outputs": [
        {
          "output_type": "stream",
          "name": "stdout",
          "text": [
            "deep learning confusion matrix\n"
          ]
        },
        {
          "output_type": "display_data",
          "data": {
            "text/plain": [
              "<Figure size 640x480 with 2 Axes>"
            ],
            "image/png": "[encoded data removed]"
          },
          "metadata": {}
        }
      ]
    },
    {
      "cell_type": "markdown",
      "source": [
        "## Test"
      ],
      "metadata": {
        "id": "sJMTQVvZK8U9"
      }
    },
    {
      "cell_type": "code",
      "source": [
        "new_texts = [\"حرام غالي بزاف خلي يصدي \", \"شحال دير ؟\", \"بارك الله فيك\"]\n",
        "new_sequences = tokenizer.texts_to_sequences(new_texts)\n",
        "new_X = pad_sequences(new_sequences, maxlen=max_sequence_length)\n",
        "predictions = model.predict(new_X)\n",
        "predicted_labels = np.argmax(predictions, axis=1)\n",
        "predicted_sentiments = []\n",
        "for label in predicted_labels:\n",
        "    sentiment = [key for key, value in label_mapping.items() if value == label][0]\n",
        "    predicted_sentiments.append(sentiment)\n",
        "print(\"Predictions:\", predictions)\n",
        "print(\"predicted_labels:\", predicted_labels)\n",
        "print('predicted_sentiments:',predicted_sentiments)"
      ],
      "metadata": {
        "colab": {
          "base_uri": "https://localhost:8080/"
        },
        "id": "WkyoJEjlAurG",
        "outputId": "4d698963-674f-4532-b27c-77099c776b7f"
      },
      "execution_count": null,
      "outputs": [
        {
          "output_type": "stream",
          "name": "stdout",
          "text": [
            "1/1 [==============================] - 0s 309ms/step\n",
            "Predictions: [[9.1581666e-01 6.4815462e-02 1.9367833e-02]\n",
            " [2.9902344e-04 9.9861693e-01 1.0839899e-03]\n",
            " [9.6622659e-07 2.4764243e-04 9.9975139e-01]]\n",
            "predicted_labels: [0 1 2]\n",
            "predicted_sentiments: ['negative', 'neutral', 'positive']\n"
          ]
        }
      ]
    },
    {
      "cell_type": "markdown",
      "source": [
        "# Deep Learning with two labels"
      ],
      "metadata": {
        "id": "ukyBnMBA1ugm"
      }
    },
    {
      "cell_type": "code",
      "execution_count": null,
      "metadata": {
        "id": "wai7Q27sMbEK"
      },
      "outputs": [],
      "source": [
        "fasttext_model = FastText.load('/content/drive/MyDrive/Colab Notebooks/PFE/fasttext_model.bin')"
      ]
    },
    {
      "cell_type": "code",
      "execution_count": null,
      "metadata": {
        "id": "R0feLjRwvR7k"
      },
      "outputs": [],
      "source": [
        "tokenizer = Tokenizer()\n",
        "tokenizer.fit_on_texts(df['text'])\n",
        "sequences = tokenizer.texts_to_sequences(df['text'])"
      ]
    },
    {
      "cell_type": "code",
      "execution_count": null,
      "metadata": {
        "colab": {
          "base_uri": "https://localhost:8080/"
        },
        "outputId": "e5a2a809-87f6-438d-8d3d-777838be6c57",
        "id": "4Fw-K40qvR7k"
      },
      "outputs": [
        {
          "output_type": "execute_result",
          "data": {
            "text/plain": [
              "47800"
            ]
          },
          "metadata": {},
          "execution_count": 17
        }
      ],
      "source": [
        "len(tokenizer.word_index) + 1"
      ]
    },
    {
      "cell_type": "code",
      "source": [
        "max_sequence_length= 300"
      ],
      "metadata": {
        "id": "2t58L17pvR7l"
      },
      "execution_count": null,
      "outputs": []
    },
    {
      "cell_type": "code",
      "execution_count": null,
      "metadata": {
        "id": "ChLO4TiNvR7m"
      },
      "outputs": [],
      "source": [
        "X = pad_sequences(sequences, maxlen=max_sequence_length)\n",
        "y = np.array(df.sentiment.values)"
      ]
    },
    {
      "cell_type": "code",
      "source": [
        "x_train, x_test, y_train, y_test = train_test_split(X, y, test_size=0.2,random_state=21)"
      ],
      "metadata": {
        "id": "9Zx1CmgOvR7n"
      },
      "execution_count": null,
      "outputs": []
    },
    {
      "cell_type": "code",
      "source": [
        "x_new = np.empty((0, x_train.shape[1]), x_train.dtype)\n",
        "y_new = np.empty((0,), y_train.dtype)\n",
        "for i in range(len(y_train)):\n",
        "  if y_train[i] != 1:\n",
        "    #x_train_binary.append(x_train[i])\n",
        "    x_new = np.vstack((x_new, x_train[i]))\n",
        "    y_new = np.append(y_new, y_train[i])\n",
        "    #y_train_binary.append(y_train[i])"
      ],
      "metadata": {
        "id": "K1Mm0u_6xMvh"
      },
      "execution_count": null,
      "outputs": []
    },
    {
      "cell_type": "code",
      "source": [
        "for i in range(len(y_new)):\n",
        "    if y_new[i] == 2:\n",
        "        y_new[i] = 1"
      ],
      "metadata": {
        "id": "QO6bZ3PoxNo-"
      },
      "execution_count": null,
      "outputs": []
    },
    {
      "cell_type": "code",
      "source": [
        "x_train, x_val, y_train, y_val = train_test_split(x_new, y_new, test_size=0.25, random_state=21)"
      ],
      "metadata": {
        "id": "f9FFXLPBxbCk"
      },
      "execution_count": null,
      "outputs": []
    },
    {
      "cell_type": "code",
      "source": [
        "embedding_matrix = np.zeros((len(tokenizer.word_index) + 1, 300))\n",
        "for word, i in tokenizer.word_index.items():\n",
        "  if word in fasttext_model.wv:\n",
        "    embedding_matrix[i] = fasttext_model.wv[word]\n",
        "print(embedding_matrix.shape)"
      ],
      "metadata": {
        "colab": {
          "base_uri": "https://localhost:8080/"
        },
        "outputId": "41fa85b3-1d30-4b2e-e7a0-34691d609191",
        "id": "EnjxBu-qvR7n"
      },
      "execution_count": null,
      "outputs": [
        {
          "output_type": "stream",
          "name": "stdout",
          "text": [
            "(47800, 300)\n"
          ]
        }
      ]
    },
    {
      "cell_type": "code",
      "source": [
        "embedding_layer = Embedding(len(tokenizer.word_index) + 1, max_sequence_length, weights=[embedding_matrix], input_length=max_sequence_length, trainable=False)"
      ],
      "metadata": {
        "id": "p6g-9LHovR7o"
      },
      "execution_count": null,
      "outputs": []
    },
    {
      "cell_type": "code",
      "source": [
        "def build_model(hp):\n",
        "  learning_rate = hp.Choice('learning_rate', values=[1e-2, 1e-3, 1e-4, 1e-5])\n",
        "  dropout_rate = hp.Float('dropout_rate', 0.1, 0.5, step=0.1)\n",
        "\n",
        "  model = Sequential()\n",
        "  model.add(embedding_layer)\n",
        "  model.add(Bidirectional(LSTM(256, dropout=dropout_rate,\n",
        "                               recurrent_dropout=dropout_rate,\n",
        "                               return_sequences=True)))\n",
        "  model.add(GlobalMaxPool1D())\n",
        "  model.add(Dense(128, activation='relu'))\n",
        "  model.add(Dropout(dropout_rate))\n",
        "  model.add(Dense(64, activation='relu'))\n",
        "  model.add(Dropout(dropout_rate))\n",
        "  model.add(Dense(32, activation='relu'))\n",
        "  model.add(Dropout(dropout_rate))\n",
        "  model.add(Dense(1, activation='sigmoid'))\n",
        "\n",
        "  # Compile the model\n",
        "  optimizer = Adam(learning_rate=learning_rate)\n",
        "\n",
        "  model.compile(optimizer=optimizer,\n",
        "                loss='binary_crossentropy',\n",
        "                metrics=['accuracy'])\n",
        "\n",
        "  return model"
      ],
      "metadata": {
        "id": "KSIOz9KhvR7p"
      },
      "execution_count": null,
      "outputs": []
    },
    {
      "cell_type": "code",
      "source": [
        "# Define the Hyperband tuner\n",
        "tuner = Hyperband(build_model,\n",
        "                  objective='val_accuracy',\n",
        "                  max_epochs=3,\n",
        "                  factor=3,\n",
        "                  directory='/content/drive/MyDrive/Colab Notebooks/PFE/wordembedding_hyper_3',\n",
        "                  project_name='sentiment_analysis')"
      ],
      "metadata": {
        "id": "me3i6CPEvR7q"
      },
      "execution_count": null,
      "outputs": []
    },
    {
      "cell_type": "code",
      "source": [
        "#tuner.search(x_train, y_train, validation_data=(x_test, y_test), epochs=15)"
      ],
      "metadata": {
        "id": "dyXedBiUvR7q"
      },
      "execution_count": null,
      "outputs": []
    },
    {
      "cell_type": "code",
      "source": [
        "best_hps = tuner.get_best_hyperparameters(1)[0]"
      ],
      "metadata": {
        "id": "CDMKIzlPvR7r"
      },
      "execution_count": null,
      "outputs": []
    },
    {
      "cell_type": "code",
      "source": [
        "print(best_hps.values)"
      ],
      "metadata": {
        "colab": {
          "base_uri": "https://localhost:8080/"
        },
        "outputId": "c3c49fdb-3d31-4ec3-aa4e-aa6e1965085f",
        "id": "W4VhPad_vR7r"
      },
      "execution_count": null,
      "outputs": [
        {
          "output_type": "stream",
          "name": "stdout",
          "text": [
            "{'learning_rate': 0.01, 'dropout_rate': 0.1, 'tuner/epochs': 3, 'tuner/initial_epoch': 1, 'tuner/bracket': 1, 'tuner/round': 1, 'tuner/trial_id': '0001'}\n"
          ]
        }
      ]
    },
    {
      "cell_type": "code",
      "source": [
        "final_model = tuner.hypermodel.build(best_hps)\n",
        "final_model.summary()"
      ],
      "metadata": {
        "colab": {
          "base_uri": "https://localhost:8080/"
        },
        "outputId": "161051ee-51b2-4b69-a7ef-3d972589444a",
        "id": "6iwVxIpuvR7s"
      },
      "execution_count": null,
      "outputs": [
        {
          "output_type": "stream",
          "name": "stderr",
          "text": [
            "WARNING:tensorflow:Layer lstm will not use cuDNN kernels since it doesn't meet the criteria. It will use a generic GPU kernel as fallback when running on GPU.\n",
            "WARNING:tensorflow:Layer lstm will not use cuDNN kernels since it doesn't meet the criteria. It will use a generic GPU kernel as fallback when running on GPU.\n",
            "WARNING:tensorflow:Layer lstm will not use cuDNN kernels since it doesn't meet the criteria. It will use a generic GPU kernel as fallback when running on GPU.\n"
          ]
        },
        {
          "output_type": "stream",
          "name": "stdout",
          "text": [
            "Model: \"sequential\"\n",
            "_________________________________________________________________\n",
            " Layer (type)                Output Shape              Param #   \n",
            "=================================================================\n",
            " embedding (Embedding)       (None, 300, 300)          14340000  \n",
            "                                                                 \n",
            " bidirectional (Bidirectiona  (None, 300, 512)         1140736   \n",
            " l)                                                              \n",
            "                                                                 \n",
            " global_max_pooling1d (Globa  (None, 512)              0         \n",
            " lMaxPooling1D)                                                  \n",
            "                                                                 \n",
            " dense (Dense)               (None, 128)               65664     \n",
            "                                                                 \n",
            " dropout (Dropout)           (None, 128)               0         \n",
            "                                                                 \n",
            " dense_1 (Dense)             (None, 64)                8256      \n",
            "                                                                 \n",
            " dropout_1 (Dropout)         (None, 64)                0         \n",
            "                                                                 \n",
            " dense_2 (Dense)             (None, 32)                2080      \n",
            "                                                                 \n",
            " dropout_2 (Dropout)         (None, 32)                0         \n",
            "                                                                 \n",
            " dense_3 (Dense)             (None, 1)                 33        \n",
            "                                                                 \n",
            "=================================================================\n",
            "Total params: 15,556,769\n",
            "Trainable params: 1,216,769\n",
            "Non-trainable params: 14,340,000\n",
            "_________________________________________________________________\n"
          ]
        }
      ]
    },
    {
      "cell_type": "code",
      "source": [
        "early_stopping = EarlyStopping(monitor='val_accuracy', patience=5, restore_best_weights=True)\n",
        "history = final_model.fit(x_train, y_train, validation_data=(x_val, y_val), epochs=15, callbacks=[early_stopping])"
      ],
      "metadata": {
        "colab": {
          "base_uri": "https://localhost:8080/"
        },
        "outputId": "f24ceef6-1c22-407c-e8c6-49a32b3626d1",
        "id": "2UkKFh8IvR7t"
      },
      "execution_count": null,
      "outputs": [
        {
          "output_type": "stream",
          "name": "stdout",
          "text": [
            "Epoch 1/15\n",
            "274/274 [==============================] - 680s 2s/step - loss: 0.2704 - accuracy: 0.8967 - val_loss: 0.2131 - val_accuracy: 0.9183\n",
            "Epoch 2/15\n",
            "274/274 [==============================] - 652s 2s/step - loss: 0.1928 - accuracy: 0.9326 - val_loss: 0.1978 - val_accuracy: 0.9269\n",
            "Epoch 3/15\n",
            "274/274 [==============================] - 654s 2s/step - loss: 0.1738 - accuracy: 0.9384 - val_loss: 0.2441 - val_accuracy: 0.9210\n",
            "Epoch 4/15\n",
            "274/274 [==============================] - 659s 2s/step - loss: 0.1524 - accuracy: 0.9456 - val_loss: 0.2171 - val_accuracy: 0.9169\n",
            "Epoch 5/15\n",
            "274/274 [==============================] - 652s 2s/step - loss: 0.1344 - accuracy: 0.9527 - val_loss: 0.2052 - val_accuracy: 0.9156\n",
            "Epoch 6/15\n",
            "274/274 [==============================] - 670s 2s/step - loss: 0.1343 - accuracy: 0.9529 - val_loss: 0.2117 - val_accuracy: 0.9231\n",
            "Epoch 7/15\n",
            "274/274 [==============================] - 661s 2s/step - loss: 0.1251 - accuracy: 0.9565 - val_loss: 0.2305 - val_accuracy: 0.9224\n"
          ]
        }
      ]
    },
    {
      "cell_type": "code",
      "source": [
        "final_model.save('/content/drive/MyDrive/Colab Notebooks/PFE/fasttext_bilstm_2.h5')"
      ],
      "metadata": {
        "id": "fts2LfGxvR7u"
      },
      "execution_count": null,
      "outputs": []
    },
    {
      "cell_type": "code",
      "source": [
        "model = load_model('/content/drive/MyDrive/Colab Notebooks/PFE/fasttext_bilstm_2.h5')"
      ],
      "metadata": {
        "colab": {
          "base_uri": "https://localhost:8080/"
        },
        "outputId": "2b49a40b-c623-4a7d-c8b5-037268bece95",
        "id": "uu-jwMP0vR7u"
      },
      "execution_count": null,
      "outputs": [
        {
          "output_type": "stream",
          "name": "stderr",
          "text": [
            "WARNING:tensorflow:Layer lstm will not use cuDNN kernels since it doesn't meet the criteria. It will use a generic GPU kernel as fallback when running on GPU.\n",
            "WARNING:tensorflow:Layer lstm will not use cuDNN kernels since it doesn't meet the criteria. It will use a generic GPU kernel as fallback when running on GPU.\n",
            "WARNING:tensorflow:Layer lstm will not use cuDNN kernels since it doesn't meet the criteria. It will use a generic GPU kernel as fallback when running on GPU.\n"
          ]
        }
      ]
    },
    {
      "cell_type": "code",
      "source": [
        "predictions = model.predict(x_test)"
      ],
      "metadata": {
        "id": "HEazhYxvm4Vi"
      },
      "execution_count": null,
      "outputs": []
    },
    {
      "cell_type": "code",
      "source": [
        "predicted_labels = []\n",
        "for prob in predictions:\n",
        "    if prob < 0.33:\n",
        "        predicted_labels.append(0)\n",
        "    elif prob > 0.66:\n",
        "        predicted_labels.append(2)\n",
        "    else:\n",
        "        predicted_labels.append(1)"
      ],
      "metadata": {
        "id": "tsq5aPyvMmFx"
      },
      "execution_count": null,
      "outputs": []
    },
    {
      "cell_type": "code",
      "source": [
        "predicted_labels"
      ],
      "metadata": {
        "id": "xDxLrv-st5UU"
      },
      "execution_count": null,
      "outputs": []
    },
    {
      "cell_type": "code",
      "source": [
        "print(\"svm accuracy: \",accuracy_score(y_test, predicted_labels))\n",
        "print(\"svm f1: \",f1_score(y_test, predicted_labels, average='weighted'))"
      ],
      "metadata": {
        "colab": {
          "base_uri": "https://localhost:8080/"
        },
        "id": "NYLEK4P0MfUp",
        "outputId": "2bbcf82e-5288-4a20-fee6-df7f4e9a95a9"
      },
      "execution_count": null,
      "outputs": [
        {
          "output_type": "stream",
          "name": "stdout",
          "text": [
            "svm accuracy:  0.6388761991777067\n",
            "svm f1:  0.5595450299370145\n"
          ]
        }
      ]
    },
    {
      "cell_type": "code",
      "source": [
        "print(\"mnb classification report\")\n",
        "print(classification_report(y_test, predicted_labels))"
      ],
      "metadata": {
        "id": "t0i_pu-guVJZ",
        "colab": {
          "base_uri": "https://localhost:8080/"
        },
        "outputId": "1f5e971c-8921-45ee-ce19-656c512800f8"
      },
      "execution_count": null,
      "outputs": [
        {
          "output_type": "stream",
          "name": "stdout",
          "text": [
            "mnb classification report\n",
            "              precision    recall  f1-score   support\n",
            "\n",
            "           0       0.64      0.93      0.76      1480\n",
            "           1       0.59      0.10      0.17      1444\n",
            "           2       0.65      0.88      0.75      1454\n",
            "\n",
            "    accuracy                           0.64      4378\n",
            "   macro avg       0.63      0.64      0.56      4378\n",
            "weighted avg       0.63      0.64      0.56      4378\n",
            "\n"
          ]
        }
      ]
    },
    {
      "cell_type": "code",
      "source": [
        "print(\"mnb confusion matrix\")\n",
        "cm = confusion_matrix(y_test, predicted_labels)\n",
        "df_cm = pd.DataFrame(cm, index=class_names, columns=class_names)\n",
        "show_confusion_matrix(df_cm)"
      ],
      "metadata": {
        "id": "7-SIpja2umaM",
        "colab": {
          "base_uri": "https://localhost:8080/",
          "height": 495
        },
        "outputId": "ddd28c0e-db0a-4ed6-f4bf-082cdff5f6d2"
      },
      "execution_count": null,
      "outputs": [
        {
          "output_type": "stream",
          "name": "stdout",
          "text": [
            "mnb confusion matrix\n"
          ]
        },
        {
          "output_type": "display_data",
          "data": {
            "text/plain": [
              "<Figure size 640x480 with 2 Axes>"
            ],
            "image/png": "[encoded data removed]"
          },
          "metadata": {}
        }
      ]
    }
  ]
}