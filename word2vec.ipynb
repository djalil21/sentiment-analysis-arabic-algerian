{
  "cells": [
    {
      "cell_type": "markdown",
      "metadata": {
        "id": "zB9KO2bKQ99Z"
      },
      "source": [
        "# Import"
      ]
    },
    {
      "cell_type": "code",
      "execution_count": null,
      "metadata": {
        "colab": {
          "base_uri": "https://localhost:8080/"
        },
        "id": "MjFVGgnmn-IY",
        "outputId": "31c8b642-0f21-4cee-9856-ac101c61a97c"
      },
      "outputs": [
        {
          "output_type": "execute_result",
          "data": {
            "text/plain": [
              "''"
            ],
            "application/vnd.google.colaboratory.intrinsic+json": {
              "type": "string"
            }
          },
          "metadata": {},
          "execution_count": 1
        }
      ],
      "source": [
        "import tensorflow as tf\n",
        "tf.test.gpu_device_name()"
      ]
    },
    {
      "cell_type": "code",
      "execution_count": null,
      "metadata": {
        "id": "7CbDn0HFldfT",
        "colab": {
          "base_uri": "https://localhost:8080/"
        },
        "outputId": "9dbd0f11-557d-40ed-f112-15bf52a0f153"
      },
      "outputs": [
        {
          "output_type": "stream",
          "name": "stdout",
          "text": [
            "Mounted at /content/drive\n"
          ]
        }
      ],
      "source": [
        "from google.colab import drive\n",
        "drive.mount('/content/drive')"
      ]
    },
    {
      "cell_type": "code",
      "execution_count": null,
      "metadata": {
        "id": "A0iUljnneK14",
        "colab": {
          "base_uri": "https://localhost:8080/"
        },
        "outputId": "49cf70de-29c6-482f-fc26-8b82b7d46099"
      },
      "outputs": [
        {
          "output_type": "stream",
          "name": "stdout",
          "text": [
            "Looking in indexes: https://pypi.org/simple, https://us-python.pkg.dev/colab-wheels/public/simple/\n",
            "Collecting keras-tuner\n",
            "  Downloading keras_tuner-1.3.5-py3-none-any.whl (176 kB)\n",
            "\u001b[2K     \u001b[90m━━━━━━━━━━━━━━━━━━━━━━━━━━━━━━━━━━━━━━━\u001b[0m \u001b[32m176.1/176.1 kB\u001b[0m \u001b[31m4.6 MB/s\u001b[0m eta \u001b[36m0:00:00\u001b[0m\n",
            "\u001b[?25hRequirement already satisfied: packaging in /usr/local/lib/python3.10/dist-packages (from keras-tuner) (23.1)\n",
            "Requirement already satisfied: requests in /usr/local/lib/python3.10/dist-packages (from keras-tuner) (2.27.1)\n",
            "Collecting kt-legacy (from keras-tuner)\n",
            "  Downloading kt_legacy-1.0.5-py3-none-any.whl (9.6 kB)\n",
            "Requirement already satisfied: urllib3<1.27,>=1.21.1 in /usr/local/lib/python3.10/dist-packages (from requests->keras-tuner) (1.26.16)\n",
            "Requirement already satisfied: certifi>=2017.4.17 in /usr/local/lib/python3.10/dist-packages (from requests->keras-tuner) (2023.5.7)\n",
            "Requirement already satisfied: charset-normalizer~=2.0.0 in /usr/local/lib/python3.10/dist-packages (from requests->keras-tuner) (2.0.12)\n",
            "Requirement already satisfied: idna<4,>=2.5 in /usr/local/lib/python3.10/dist-packages (from requests->keras-tuner) (3.4)\n",
            "Installing collected packages: kt-legacy, keras-tuner\n",
            "Successfully installed keras-tuner-1.3.5 kt-legacy-1.0.5\n"
          ]
        }
      ],
      "source": [
        "!pip install keras-tuner"
      ]
    },
    {
      "cell_type": "code",
      "execution_count": null,
      "metadata": {
        "id": "n4oedIrgrFw_"
      },
      "outputs": [],
      "source": [
        "import pandas as pd\n",
        "import re\n",
        "import numpy as np\n",
        "\n",
        "from gensim.models import Word2Vec\n",
        "import pickle\n",
        "import multiprocessing\n",
        "\n",
        "from sklearn.model_selection import train_test_split\n",
        "from sklearn.feature_extraction.text import TfidfVectorizer\n",
        "from sklearn.svm import SVC\n",
        "from sklearn.naive_bayes import BernoulliNB, MultinomialNB\n",
        "from sklearn.metrics import accuracy_score, f1_score, confusion_matrix, classification_report\n",
        "\n",
        "from tensorflow.keras.models import Sequential, load_model\n",
        "from tensorflow.keras.layers import Embedding, Bidirectional, LSTM, Dense, Dropout, GlobalMaxPool1D\n",
        "from tensorflow.keras.preprocessing.text import Tokenizer\n",
        "from tensorflow.keras.utils import to_categorical, pad_sequences\n",
        "from tensorflow.keras.optimizers import Adam\n",
        "from tensorflow.keras.callbacks import EarlyStopping\n",
        "from keras_tuner.tuners import Hyperband\n",
        "from keras import backend as K\n",
        "\n",
        "import seaborn as sns\n",
        "import matplotlib.pyplot as plt\n",
        "from matplotlib import rc"
      ]
    },
    {
      "cell_type": "markdown",
      "metadata": {
        "id": "6S6fB1RwG0Pl"
      },
      "source": [
        "# corpus"
      ]
    },
    {
      "cell_type": "code",
      "source": [
        "ar1 = pd.read_csv('content/drive/MyDrive/Colab Notebooks/PFE/ar1.csv')\n",
        "ar1.head()"
      ],
      "metadata": {
        "id": "K94wfKSsHEHe"
      },
      "execution_count": null,
      "outputs": []
    },
    {
      "cell_type": "code",
      "source": [
        "ar2 = pd.read_csv('/content/drive/MyDrive/Colab Notebooks/PFE/ar2.csv')\n",
        "ar2.head()"
      ],
      "metadata": {
        "id": "a00v5z92HD6P"
      },
      "execution_count": null,
      "outputs": []
    },
    {
      "cell_type": "code",
      "source": [
        "dz = pd.read_csv('/content/drive/MyDrive/Colab Notebooks/PFE/dz.csv')\n",
        "dz.head()"
      ],
      "metadata": {
        "id": "rsgKyTqCHJUd"
      },
      "execution_count": null,
      "outputs": []
    },
    {
      "cell_type": "code",
      "source": [
        "lst = [ar1, ar2, dz]  # List of your dataframes\n",
        "corpus= pd.concat(lst, ignore_index=True)"
      ],
      "metadata": {
        "id": "q1a2meLzHMN1"
      },
      "execution_count": null,
      "outputs": []
    },
    {
      "cell_type": "code",
      "source": [
        "corpus.head()"
      ],
      "metadata": {
        "id": "AMlKWM1SHNHS"
      },
      "execution_count": null,
      "outputs": []
    },
    {
      "cell_type": "code",
      "source": [
        "corpus = corpus.dropna(axis=0)"
      ],
      "metadata": {
        "id": "FNqJ7jJzHRbH"
      },
      "execution_count": null,
      "outputs": []
    },
    {
      "cell_type": "code",
      "source": [
        "corpus.text=corpus.text.astype(str)"
      ],
      "metadata": {
        "id": "Hx8J3njPHSDo"
      },
      "execution_count": null,
      "outputs": []
    },
    {
      "cell_type": "code",
      "source": [
        "corpus.shape"
      ],
      "metadata": {
        "id": "q8AQkZfbHTmk"
      },
      "execution_count": null,
      "outputs": []
    },
    {
      "cell_type": "markdown",
      "metadata": {
        "id": "u1Hq9jJ9MeuT"
      },
      "source": [
        "#WORD2vec training"
      ]
    },
    {
      "cell_type": "code",
      "execution_count": null,
      "metadata": {
        "id": "w2udlEwqO_yI"
      },
      "outputs": [],
      "source": [
        "text = corpus['text'].apply(lambda x: x.split())"
      ]
    },
    {
      "cell_type": "code",
      "execution_count": null,
      "metadata": {
        "id": "7yucX0pWPW0n"
      },
      "outputs": [],
      "source": [
        "Embedding_dimensions = 300"
      ]
    },
    {
      "cell_type": "code",
      "execution_count": null,
      "metadata": {
        "id": "tlmn8qpPPby_"
      },
      "outputs": [],
      "source": [
        "cores = multiprocessing.cpu_count()\n",
        "print(cores)"
      ]
    },
    {
      "cell_type": "code",
      "execution_count": null,
      "metadata": {
        "id": "0Xiaz0iDPbzM"
      },
      "outputs": [],
      "source": [
        "# Defining the model and training it.\n",
        "word2vec_model = Word2Vec(text,\n",
        "                 vector_size=Embedding_dimensions,\n",
        "                 workers=cores-1,\n",
        "                 min_count=2)"
      ]
    },
    {
      "cell_type": "code",
      "execution_count": null,
      "metadata": {
        "id": "8NeGVU2285Wi"
      },
      "outputs": [],
      "source": [
        "len(word2vec_model.wv)"
      ]
    },
    {
      "cell_type": "code",
      "execution_count": null,
      "metadata": {
        "id": "_EmB6_1ZPYiP"
      },
      "outputs": [],
      "source": [
        "word2vec_model.train(text, total_examples= len(text),epochs=21)"
      ]
    },
    {
      "cell_type": "code",
      "execution_count": null,
      "metadata": {
        "id": "ePoNqL45IhqE"
      },
      "outputs": [],
      "source": [
        "word2vec_model.save(\"/content/drive/MyDrive/Colab Notebooks/PFE/word2vec_model.bin\")"
      ]
    },
    {
      "cell_type": "code",
      "source": [
        "word2vec_model = Word2Vec.load('/content/drive/MyDrive/Colab Notebooks/PFE/word2vec_model.bin')"
      ],
      "metadata": {
        "id": "a4zDqQd_i2JH"
      },
      "execution_count": null,
      "outputs": []
    },
    {
      "cell_type": "code",
      "source": [
        "len(word2vec_model.wv)"
      ],
      "metadata": {
        "colab": {
          "base_uri": "https://localhost:8080/"
        },
        "id": "dceZouEagJf-",
        "outputId": "453ac149-06f9-4695-d0ca-fa5b6a01fe32"
      },
      "execution_count": null,
      "outputs": [
        {
          "output_type": "execute_result",
          "data": {
            "text/plain": [
              "787389"
            ]
          },
          "metadata": {},
          "execution_count": 6
        }
      ]
    },
    {
      "cell_type": "code",
      "source": [
        "word2vec_model.wv.most_similar(positive=[\"تويوتا\"])"
      ],
      "metadata": {
        "id": "0CO2gKp9rFdU",
        "colab": {
          "base_uri": "https://localhost:8080/"
        },
        "outputId": "6d564f94-d2af-41ad-a373-63b619195651"
      },
      "execution_count": null,
      "outputs": [
        {
          "output_type": "execute_result",
          "data": {
            "text/plain": [
              "[('هونداي', 0.6515226364135742),\n",
              " ('فورد', 0.6262004375457764),\n",
              " ('هيليكس', 0.615172266960144),\n",
              " ('كورولا', 0.6039642095565796),\n",
              " ('كامري', 0.6031379103660583),\n",
              " ('هايلوكس', 0.6023898124694824),\n",
              " ('هيونداي', 0.5981609225273132),\n",
              " ('بيجو', 0.5952624082565308),\n",
              " ('كيا', 0.5783959627151489),\n",
              " ('رينو', 0.5763921141624451)]"
            ]
          },
          "metadata": {},
          "execution_count": 7
        }
      ]
    },
    {
      "cell_type": "markdown",
      "metadata": {
        "id": "TaeFyjwZMwLk"
      },
      "source": [
        "# Classification DATA"
      ]
    },
    {
      "cell_type": "code",
      "execution_count": null,
      "metadata": {
        "id": "rxfUmHV4NxK4"
      },
      "outputs": [],
      "source": [
        "df = pd.read_csv('/content/drive/MyDrive/Colab Notebooks/PFE/preprocess2FinalBalanced.csv')"
      ]
    },
    {
      "cell_type": "code",
      "execution_count": null,
      "metadata": {
        "id": "18nU3fky1wj0"
      },
      "outputs": [],
      "source": [
        "df=df.dropna()"
      ]
    },
    {
      "cell_type": "code",
      "execution_count": null,
      "metadata": {
        "id": "-6htU4EJNxLc"
      },
      "outputs": [],
      "source": [
        "df.text=df.text.astype(str)"
      ]
    },
    {
      "cell_type": "code",
      "source": [
        "df = df.drop_duplicates()"
      ],
      "metadata": {
        "id": "WI6YQkRUc6mD"
      },
      "execution_count": null,
      "outputs": []
    },
    {
      "cell_type": "code",
      "source": [
        "df.shape"
      ],
      "metadata": {
        "id": "yTEgW4J7c8vR",
        "colab": {
          "base_uri": "https://localhost:8080/"
        },
        "outputId": "6a367c48-640d-4b97-f439-0c9ec014c7e2"
      },
      "execution_count": null,
      "outputs": [
        {
          "output_type": "execute_result",
          "data": {
            "text/plain": [
              "(21890, 2)"
            ]
          },
          "metadata": {},
          "execution_count": 9
        }
      ]
    },
    {
      "cell_type": "code",
      "execution_count": null,
      "metadata": {
        "id": "wh9bYeu1w3qV",
        "colab": {
          "base_uri": "https://localhost:8080/"
        },
        "outputId": "cf4cf3e4-51ff-4a8a-9db2-d97cb456830c"
      },
      "outputs": [
        {
          "output_type": "execute_result",
          "data": {
            "text/plain": [
              "negative    7304\n",
              "neutral     7304\n",
              "positive    7282\n",
              "Name: sentiment, dtype: int64"
            ]
          },
          "metadata": {},
          "execution_count": 10
        }
      ],
      "source": [
        "df['sentiment'].value_counts()"
      ]
    },
    {
      "cell_type": "code",
      "execution_count": null,
      "metadata": {
        "id": "uKU_NWjAt0vB"
      },
      "outputs": [],
      "source": [
        "\n",
        "label_mapping = {'positive': 2, 'negative': 0, 'neutral': 1}\n",
        "df['sentiment'] =[label_mapping[label] for label in df['sentiment']]"
      ]
    },
    {
      "cell_type": "code",
      "execution_count": null,
      "metadata": {
        "id": "a1CP-dM4NxLg",
        "colab": {
          "base_uri": "https://localhost:8080/"
        },
        "outputId": "d1c1262b-3d02-4cc6-a8bd-ec3e71c10bda"
      },
      "outputs": [
        {
          "output_type": "execute_result",
          "data": {
            "text/plain": [
              "   sentiment                                               text\n",
              "0          2  ♥️  ♥️  ♥️  ♥️  ♥️  ♥️  ♥️  ♥️  ♥️  ♥️  ♥️  ♥️...\n",
              "1          2  فرانكا هارمت دجدادنا وا والدينا وا مين باعد ول...\n",
              "2          2  اله يبارك ،هدا الخير ويقولوا الجزايري ماشي خدا...\n",
              "3          2  بونجور دوك قو ك سويت على ال الموقع (المواقع فر...\n",
              "4          2  ديدو الدوله حبيبي حاله ازمه ماليه الازمه باقي ..."
            ],
            "text/html": [
              "\n",
              "  <div id=\"df-b0ad5c10-8e5f-4f51-9c5b-0848cb0d8f48\">\n",
              "    <div class=\"colab-df-container\">\n",
              "      <div>\n",
              "<style scoped>\n",
              "    .dataframe tbody tr th:only-of-type {\n",
              "        vertical-align: middle;\n",
              "    }\n",
              "\n",
              "    .dataframe tbody tr th {\n",
              "        vertical-align: top;\n",
              "    }\n",
              "\n",
              "    .dataframe thead th {\n",
              "        text-align: right;\n",
              "    }\n",
              "</style>\n",
              "<table border=\"1\" class=\"dataframe\">\n",
              "  <thead>\n",
              "    <tr style=\"text-align: right;\">\n",
              "      <th></th>\n",
              "      <th>sentiment</th>\n",
              "      <th>text</th>\n",
              "    </tr>\n",
              "  </thead>\n",
              "  <tbody>\n",
              "    <tr>\n",
              "      <th>0</th>\n",
              "      <td>2</td>\n",
              "      <td>♥️  ♥️  ♥️  ♥️  ♥️  ♥️  ♥️  ♥️  ♥️  ♥️  ♥️  ♥️...</td>\n",
              "    </tr>\n",
              "    <tr>\n",
              "      <th>1</th>\n",
              "      <td>2</td>\n",
              "      <td>فرانكا هارمت دجدادنا وا والدينا وا مين باعد ول...</td>\n",
              "    </tr>\n",
              "    <tr>\n",
              "      <th>2</th>\n",
              "      <td>2</td>\n",
              "      <td>اله يبارك ،هدا الخير ويقولوا الجزايري ماشي خدا...</td>\n",
              "    </tr>\n",
              "    <tr>\n",
              "      <th>3</th>\n",
              "      <td>2</td>\n",
              "      <td>بونجور دوك قو ك سويت على ال الموقع (المواقع فر...</td>\n",
              "    </tr>\n",
              "    <tr>\n",
              "      <th>4</th>\n",
              "      <td>2</td>\n",
              "      <td>ديدو الدوله حبيبي حاله ازمه ماليه الازمه باقي ...</td>\n",
              "    </tr>\n",
              "  </tbody>\n",
              "</table>\n",
              "</div>\n",
              "      <button class=\"colab-df-convert\" onclick=\"convertToInteractive('df-b0ad5c10-8e5f-4f51-9c5b-0848cb0d8f48')\"\n",
              "              title=\"Convert this dataframe to an interactive table.\"\n",
              "              style=\"display:none;\">\n",
              "        \n",
              "  <svg xmlns=\"http://www.w3.org/2000/svg\" height=\"24px\"viewBox=\"0 0 24 24\"\n",
              "       width=\"24px\">\n",
              "    <path d=\"M0 0h24v24H0V0z\" fill=\"none\"/>\n",
              "    <path d=\"M18.56 5.44l.94 2.06.94-2.06 2.06-.94-2.06-.94-.94-2.06-.94 2.06-2.06.94zm-11 1L8.5 8.5l.94-2.06 2.06-.94-2.06-.94L8.5 2.5l-.94 2.06-2.06.94zm10 10l.94 2.06.94-2.06 2.06-.94-2.06-.94-.94-2.06-.94 2.06-2.06.94z\"/><path d=\"M17.41 7.96l-1.37-1.37c-.4-.4-.92-.59-1.43-.59-.52 0-1.04.2-1.43.59L10.3 9.45l-7.72 7.72c-.78.78-.78 2.05 0 2.83L4 21.41c.39.39.9.59 1.41.59.51 0 1.02-.2 1.41-.59l7.78-7.78 2.81-2.81c.8-.78.8-2.07 0-2.86zM5.41 20L4 18.59l7.72-7.72 1.47 1.35L5.41 20z\"/>\n",
              "  </svg>\n",
              "      </button>\n",
              "      \n",
              "  <style>\n",
              "    .colab-df-container {\n",
              "      display:flex;\n",
              "      flex-wrap:wrap;\n",
              "      gap: 12px;\n",
              "    }\n",
              "\n",
              "    .colab-df-convert {\n",
              "      background-color: #E8F0FE;\n",
              "      border: none;\n",
              "      border-radius: 50%;\n",
              "      cursor: pointer;\n",
              "      display: none;\n",
              "      fill: #1967D2;\n",
              "      height: 32px;\n",
              "      padding: 0 0 0 0;\n",
              "      width: 32px;\n",
              "    }\n",
              "\n",
              "    .colab-df-convert:hover {\n",
              "      background-color: #E2EBFA;\n",
              "      box-shadow: 0px 1px 2px rgba(60, 64, 67, 0.3), 0px 1px 3px 1px rgba(60, 64, 67, 0.15);\n",
              "      fill: #174EA6;\n",
              "    }\n",
              "\n",
              "    [theme=dark] .colab-df-convert {\n",
              "      background-color: #3B4455;\n",
              "      fill: #D2E3FC;\n",
              "    }\n",
              "\n",
              "    [theme=dark] .colab-df-convert:hover {\n",
              "      background-color: #434B5C;\n",
              "      box-shadow: 0px 1px 3px 1px rgba(0, 0, 0, 0.15);\n",
              "      filter: drop-shadow(0px 1px 2px rgba(0, 0, 0, 0.3));\n",
              "      fill: #FFFFFF;\n",
              "    }\n",
              "  </style>\n",
              "\n",
              "      <script>\n",
              "        const buttonEl =\n",
              "          document.querySelector('#df-b0ad5c10-8e5f-4f51-9c5b-0848cb0d8f48 button.colab-df-convert');\n",
              "        buttonEl.style.display =\n",
              "          google.colab.kernel.accessAllowed ? 'block' : 'none';\n",
              "\n",
              "        async function convertToInteractive(key) {\n",
              "          const element = document.querySelector('#df-b0ad5c10-8e5f-4f51-9c5b-0848cb0d8f48');\n",
              "          const dataTable =\n",
              "            await google.colab.kernel.invokeFunction('convertToInteractive',\n",
              "                                                     [key], {});\n",
              "          if (!dataTable) return;\n",
              "\n",
              "          const docLinkHtml = 'Like what you see? Visit the ' +\n",
              "            '<a target=\"_blank\" href=https://colab.research.google.com/notebooks/data_table.ipynb>data table notebook</a>'\n",
              "            + ' to learn more about interactive tables.';\n",
              "          element.innerHTML = '';\n",
              "          dataTable['output_type'] = 'display_data';\n",
              "          await google.colab.output.renderOutput(dataTable, element);\n",
              "          const docLink = document.createElement('div');\n",
              "          docLink.innerHTML = docLinkHtml;\n",
              "          element.appendChild(docLink);\n",
              "        }\n",
              "      </script>\n",
              "    </div>\n",
              "  </div>\n",
              "  "
            ]
          },
          "metadata": {},
          "execution_count": 12
        }
      ],
      "source": [
        "df.head()"
      ]
    },
    {
      "cell_type": "markdown",
      "metadata": {
        "id": "xZZvMjbkoPWc"
      },
      "source": [
        "# Machine Learning"
      ]
    },
    {
      "cell_type": "code",
      "execution_count": null,
      "metadata": {
        "id": "eK9HTegLk0xr"
      },
      "outputs": [],
      "source": [
        "word2vec_model = Word2Vec.load('/content/drive/MyDrive/Colab Notebooks/PFE/word2vec_model.bin')"
      ]
    },
    {
      "cell_type": "code",
      "execution_count": null,
      "metadata": {
        "id": "SwGsIk5_k20v"
      },
      "outputs": [],
      "source": [
        "sentences = df['text'].tolist()\n",
        "labels = df['sentiment'].tolist()"
      ]
    },
    {
      "cell_type": "code",
      "execution_count": null,
      "metadata": {
        "id": "UepVA84GRyQE"
      },
      "outputs": [],
      "source": [
        "# Convert a sentence to a feature vector\n",
        "def sentence_to_vec(sentence):\n",
        "  sentence = sentence.split()\n",
        "  vectors = []\n",
        "  for word in sentence:\n",
        "    if word in word2vec_model.wv:\n",
        "      vectors.append(word2vec_model.wv[word])\n",
        "\n",
        "  if len(vectors) > 0:\n",
        "      return np.mean(vectors, axis=0)\n",
        "  else:\n",
        "      return np.zeros(word2vec_model.vector_size)\n",
        "\n",
        "# Convert all sentences to feature vectors\n",
        "X = [sentence_to_vec(sentence) for sentence in sentences]"
      ]
    },
    {
      "cell_type": "code",
      "execution_count": null,
      "metadata": {
        "id": "F7G3A2Y-Sooe"
      },
      "outputs": [],
      "source": [
        "# Split the data into training and testing sets\n",
        "x_train, x_test, y_train, y_test = train_test_split(X, labels, test_size=0.2, random_state=21)"
      ]
    },
    {
      "cell_type": "code",
      "execution_count": null,
      "metadata": {
        "id": "ueRS0mZHqDI4"
      },
      "outputs": [],
      "source": [
        "models=[]\n",
        "class_names=[\"negative\",\"neutral\",\"positive\"]\n",
        "\n",
        "def show_confusion_matrix(confusion_matrix):\n",
        "  hmap = sns.heatmap(confusion_matrix, annot=True, fmt=\"d\", cmap=\"Blues\")\n",
        "  hmap.yaxis.set_ticklabels(hmap.yaxis.get_ticklabels(), rotation=0, ha='right')\n",
        "  hmap.xaxis.set_ticklabels(hmap.xaxis.get_ticklabels(), rotation=30, ha='right')\n",
        "  plt.ylabel('True sentiment')\n",
        "  plt.xlabel('Predicted sentiment')"
      ]
    },
    {
      "cell_type": "markdown",
      "source": [
        "## SVM"
      ],
      "metadata": {
        "id": "qiT8RpEqgAaH"
      }
    },
    {
      "cell_type": "code",
      "execution_count": null,
      "metadata": {
        "id": "QmXqmDXfxGK6",
        "colab": {
          "base_uri": "https://localhost:8080/"
        },
        "outputId": "10f73fa9-c35a-4c0a-de04-42142f81d81c"
      },
      "outputs": [
        {
          "output_type": "stream",
          "name": "stdout",
          "text": [
            "svm accuracy:  0.7329830973047053\n",
            "svm f1:  0.7335562888446269\n"
          ]
        }
      ],
      "source": [
        "svm = SVC(kernel='linear')\n",
        "svm.fit(x_train, y_train)\n",
        "pred=svm.predict(x_test)\n",
        "print(\"svm accuracy: \",accuracy_score(y_test, pred))\n",
        "print(\"svm f1: \",f1_score(y_test, pred, average='weighted'))\n",
        "\n",
        "with open('svm.pkl', 'wb') as file:\n",
        "    pickle.dump(svm, file)\n",
        "\n",
        "models.append('svm.pkl')"
      ]
    },
    {
      "cell_type": "code",
      "source": [
        "print(\"svm classification report\")\n",
        "print(classification_report(y_test, pred))"
      ],
      "metadata": {
        "id": "Ih1BCPuDf60k",
        "colab": {
          "base_uri": "https://localhost:8080/"
        },
        "outputId": "52f22051-0d4e-4b95-f10c-1470d735ffac"
      },
      "execution_count": null,
      "outputs": [
        {
          "output_type": "stream",
          "name": "stdout",
          "text": [
            "svm classification report\n",
            "              precision    recall  f1-score   support\n",
            "\n",
            "           0       0.70      0.78      0.74      1480\n",
            "           1       0.66      0.64      0.65      1444\n",
            "           2       0.85      0.77      0.81      1454\n",
            "\n",
            "    accuracy                           0.73      4378\n",
            "   macro avg       0.74      0.73      0.73      4378\n",
            "weighted avg       0.74      0.73      0.73      4378\n",
            "\n"
          ]
        }
      ]
    },
    {
      "cell_type": "code",
      "source": [
        "print(\"svm confusion matrix\")\n",
        "cm = confusion_matrix(y_test, pred)\n",
        "df_cm = pd.DataFrame(cm, index=class_names, columns=class_names)\n",
        "show_confusion_matrix(df_cm)"
      ],
      "metadata": {
        "id": "YCUbBDVxf-RT",
        "colab": {
          "base_uri": "https://localhost:8080/",
          "height": 495
        },
        "outputId": "d3a60e44-2b8d-47c6-f799-53d89122b07b"
      },
      "execution_count": null,
      "outputs": [
        {
          "output_type": "stream",
          "name": "stdout",
          "text": [
            "svm confusion matrix\n"
          ]
        },
        {
          "output_type": "display_data",
          "data": {
            "text/plain": [
              "<Figure size 640x480 with 2 Axes>"
            ],
            "image/png": "[encoded data removed]"
          },
          "metadata": {}
        }
      ]
    },
    {
      "cell_type": "markdown",
      "source": [
        "## Naive Bayes"
      ],
      "metadata": {
        "id": "ThJoOjdhgE_P"
      }
    },
    {
      "cell_type": "code",
      "execution_count": null,
      "metadata": {
        "id": "eaSXLWDbhedB",
        "colab": {
          "base_uri": "https://localhost:8080/"
        },
        "outputId": "9b29cf67-d45d-4e71-9a9f-eb38c152a6bb"
      },
      "outputs": [
        {
          "output_type": "stream",
          "name": "stdout",
          "text": [
            "bnb accuracy:  0.685701233439927\n",
            "bnb f1:  0.6854192155102403\n"
          ]
        }
      ],
      "source": [
        "bnb = BernoulliNB()\n",
        "bnb.fit(x_train, y_train)\n",
        "pred=bnb.predict(x_test)\n",
        "print(\"bnb accuracy: \",accuracy_score(y_test, pred))\n",
        "print(\"bnb f1: \",f1_score(y_test, pred, average='weighted'))\n",
        "\n",
        "with open('bnb.pkl', 'wb') as file:\n",
        "    pickle.dump(bnb, file)\n",
        "\n",
        "models.append('bnb.pkl')"
      ]
    },
    {
      "cell_type": "code",
      "source": [
        "print(\"bnb classification report\")\n",
        "print(classification_report(y_test, pred))"
      ],
      "metadata": {
        "id": "0L4xjBarhedB",
        "colab": {
          "base_uri": "https://localhost:8080/"
        },
        "outputId": "72570190-def9-42a5-de38-b4ce6d971d6d"
      },
      "execution_count": null,
      "outputs": [
        {
          "output_type": "stream",
          "name": "stdout",
          "text": [
            "bnb classification report\n",
            "              precision    recall  f1-score   support\n",
            "\n",
            "           0       0.69      0.76      0.73      1480\n",
            "           1       0.59      0.57      0.58      1444\n",
            "           2       0.78      0.72      0.75      1454\n",
            "\n",
            "    accuracy                           0.69      4378\n",
            "   macro avg       0.69      0.68      0.68      4378\n",
            "weighted avg       0.69      0.69      0.69      4378\n",
            "\n"
          ]
        }
      ]
    },
    {
      "cell_type": "code",
      "source": [
        "print(\"bnb confusion matrix\")\n",
        "cm = confusion_matrix(y_test, pred)\n",
        "df_cm = pd.DataFrame(cm, index=class_names, columns=class_names)\n",
        "show_confusion_matrix(df_cm)"
      ],
      "metadata": {
        "id": "N4UyXHNuhedC",
        "colab": {
          "base_uri": "https://localhost:8080/"
        },
        "outputId": "fe69a7e7-4039-4913-a057-9645d45bd1ff"
      },
      "execution_count": null,
      "outputs": [
        {
          "output_type": "stream",
          "name": "stdout",
          "text": [
            "bnb confusion matrix\n"
          ]
        },
        {
          "output_type": "display_data",
          "data": {
            "text/plain": [
              "<Figure size 640x480 with 2 Axes>"
            ],
            "image/png": "[encoded data removed]"
          },
          "metadata": {}
        }
      ]
    },
    {
      "cell_type": "markdown",
      "metadata": {
        "id": "_TsmrV7Huhek"
      },
      "source": [
        "# Test Machine Learning"
      ]
    },
    {
      "cell_type": "code",
      "execution_count": null,
      "metadata": {
        "id": "dNlGrG7Dv60Z"
      },
      "outputs": [],
      "source": [
        "word2vec_model = Word2Vec.load('/content/drive/MyDrive/Colab Notebooks/PFE/word2vec_model.bin')"
      ]
    },
    {
      "cell_type": "code",
      "execution_count": null,
      "metadata": {
        "id": "StpNGA_RunnE",
        "colab": {
          "base_uri": "https://localhost:8080/"
        },
        "outputId": "adcc513f-fdfa-4deb-e37b-3eaa58acfb99"
      },
      "outputs": [
        {
          "output_type": "stream",
          "name": "stdout",
          "text": [
            "##########\n",
            " testing with svm.pkl\n",
            "Sentence: عجبني هايل\n",
            "Predicted label: 2\n",
            "\n",
            "Sentence: نص نص\n",
            "Predicted label: 1\n",
            "\n",
            "Sentence: سامط\n",
            "Predicted label: 0\n",
            "\n",
            "##########\n",
            " testing with bnb.pkl\n",
            "Sentence: عجبني هايل\n",
            "Predicted label: 1\n",
            "\n",
            "Sentence: نص نص\n",
            "Predicted label: 1\n",
            "\n",
            "Sentence: سامط\n",
            "Predicted label: 2\n",
            "\n"
          ]
        }
      ],
      "source": [
        "for model in models:\n",
        "  print(\"##########\")\n",
        "  print(\" testing with\",model)\n",
        "  with open(model, 'rb') as file:\n",
        "    loaded_model = pickle.load(file)\n",
        "\n",
        "  test_sentences = [\"عجبني هايل\", \"نص نص\", \"سامط\"]\n",
        "  # Convert the test sentence to Word2Vec embeddings\n",
        "  for sentence in test_sentences:\n",
        "    # Convert the test sentence to Word2Vec embeddings\n",
        "    test_embedding = np.mean([word2vec_model.wv[word] for word in sentence.split() if word in word2vec_model.wv]\n",
        "                             or [np.zeros(word2vec_model.vector_size)], axis=0)\n",
        "\n",
        "    # Make prediction using the loaded Logistic Regression model\n",
        "    predicted_label = loaded_model.predict([test_embedding])\n",
        "\n",
        "    print(f\"Sentence: {sentence}\")\n",
        "    print(f\"Predicted label: {predicted_label[0]}\")\n",
        "    print()"
      ]
    },
    {
      "cell_type": "markdown",
      "source": [
        "# Deep Learning with three labels"
      ],
      "metadata": {
        "id": "hKTUCWr7Vbs0"
      }
    },
    {
      "cell_type": "code",
      "execution_count": null,
      "metadata": {
        "id": "_JE6gBNrkBx_"
      },
      "outputs": [],
      "source": [
        "tokenizer = Tokenizer()\n",
        "tokenizer.fit_on_texts(df['text'])\n",
        "sequences = tokenizer.texts_to_sequences(df['text'])"
      ]
    },
    {
      "cell_type": "code",
      "execution_count": null,
      "metadata": {
        "id": "m40blGBnkByA",
        "colab": {
          "base_uri": "https://localhost:8080/"
        },
        "outputId": "7fa43bbc-cf1f-4765-d753-ce60b77e1e1c"
      },
      "outputs": [
        {
          "output_type": "execute_result",
          "data": {
            "text/plain": [
              "47800"
            ]
          },
          "metadata": {},
          "execution_count": 27
        }
      ],
      "source": [
        "len(tokenizer.word_index) + 1"
      ]
    },
    {
      "cell_type": "code",
      "source": [
        "max_sequence_length= 300"
      ],
      "metadata": {
        "id": "pmM2tBZyV_x8"
      },
      "execution_count": null,
      "outputs": []
    },
    {
      "cell_type": "code",
      "execution_count": null,
      "metadata": {
        "id": "RNte2yHkkByA"
      },
      "outputs": [],
      "source": [
        "X = pad_sequences(sequences, maxlen=max_sequence_length)\n",
        "y = np.array(df.sentiment.values)"
      ]
    },
    {
      "cell_type": "code",
      "execution_count": null,
      "metadata": {
        "id": "ntG3j2bvkByB",
        "colab": {
          "base_uri": "https://localhost:8080/"
        },
        "outputId": "08d32584-6969-4a4f-98f1-e2dfc137ee92"
      },
      "outputs": [
        {
          "output_type": "execute_result",
          "data": {
            "text/plain": [
              "array([[0., 0., 1.],\n",
              "       [0., 0., 1.],\n",
              "       [0., 0., 1.],\n",
              "       ...,\n",
              "       [0., 1., 0.],\n",
              "       [0., 1., 0.],\n",
              "       [0., 1., 0.]])"
            ]
          },
          "metadata": {},
          "execution_count": 30
        }
      ],
      "source": [
        "y = np.eye(len(label_mapping))[y]\n",
        "y"
      ]
    },
    {
      "cell_type": "code",
      "source": [
        "x_train, x_test, y_train, y_test = train_test_split(X, y, test_size=0.2,random_state=21)\n",
        "x_train, x_val, y_train, y_val = train_test_split(x_train, y_train, test_size=0.25, random_state=21)"
      ],
      "metadata": {
        "id": "uwIjQeEzjXDc"
      },
      "execution_count": null,
      "outputs": []
    },
    {
      "cell_type": "code",
      "source": [
        "embedding_matrix = np.zeros((len(tokenizer.word_index) + 1, 300))\n",
        "for word, i in tokenizer.word_index.items():\n",
        "  if word in word2vec_model.wv:\n",
        "    embedding_matrix[i] = word2vec_model.wv[word]\n",
        "print(embedding_matrix.shape)"
      ],
      "metadata": {
        "id": "SkfgkmjlWXit",
        "colab": {
          "base_uri": "https://localhost:8080/"
        },
        "outputId": "52669140-efdc-4ba8-9366-4ff67d530029"
      },
      "execution_count": null,
      "outputs": [
        {
          "output_type": "stream",
          "name": "stdout",
          "text": [
            "(47800, 300)\n"
          ]
        }
      ]
    },
    {
      "cell_type": "code",
      "source": [
        "embedding_layer = Embedding(len(tokenizer.word_index) + 1, max_sequence_length, weights=[embedding_matrix], input_length=max_sequence_length, trainable=False)"
      ],
      "metadata": {
        "id": "sGVL1Lj5WyuA"
      },
      "execution_count": null,
      "outputs": []
    },
    {
      "cell_type": "code",
      "source": [
        "def build_model(hp):\n",
        "  learning_rate = hp.Choice('learning_rate', values=[1e-2, 1e-3, 1e-4, 1e-5])\n",
        "  dropout_rate = hp.Float('dropout_rate', 0.1, 0.5, step=0.1)\n",
        "\n",
        "  model = Sequential()\n",
        "  model.add(embedding_layer)\n",
        "  model.add(Bidirectional(LSTM(256, dropout=dropout_rate,\n",
        "                               recurrent_dropout=dropout_rate,\n",
        "                               return_sequences=True)))\n",
        "  model.add(GlobalMaxPool1D())\n",
        "  model.add(Dense(128, activation='relu'))\n",
        "  model.add(Dropout(dropout_rate))\n",
        "  model.add(Dense(64, activation='relu'))\n",
        "  model.add(Dropout(dropout_rate))\n",
        "  model.add(Dense(32, activation='relu'))\n",
        "  model.add(Dropout(dropout_rate))\n",
        "  model.add(Dense(3, activation='softmax'))\n",
        "\n",
        "  # Compile the model\n",
        "  optimizer = Adam(learning_rate=learning_rate)\n",
        "\n",
        "  model.compile(optimizer=optimizer,\n",
        "                loss='categorical_crossentropy',\n",
        "                metrics=['accuracy'])\n",
        "\n",
        "  return model"
      ],
      "metadata": {
        "id": "GAWsk7KzlO2E"
      },
      "execution_count": null,
      "outputs": []
    },
    {
      "cell_type": "code",
      "source": [
        "# Define the Hyperband tuner\n",
        "tuner = Hyperband(build_model,\n",
        "                  objective='val_accuracy',\n",
        "                  max_epochs=3,\n",
        "                  factor=3,\n",
        "                  directory='/content/drive/MyDrive/Colab Notebooks/PFE/wordembedding_hyper_3',\n",
        "                  project_name='sentiment_analysis')"
      ],
      "metadata": {
        "id": "qUm-4T7plO2F"
      },
      "execution_count": null,
      "outputs": []
    },
    {
      "cell_type": "code",
      "source": [
        "tuner.search(x_train, y_train, validation_data=(x_test, y_test), epochs=15)"
      ],
      "metadata": {
        "id": "1jM6Kz-QlO2F",
        "colab": {
          "base_uri": "https://localhost:8080/"
        },
        "outputId": "6372e5d4-35af-49c6-cbf6-08192f3431a9"
      },
      "execution_count": null,
      "outputs": [
        {
          "output_type": "stream",
          "name": "stdout",
          "text": [
            "Trial 6 Complete [00h 52m 18s]\n",
            "val_accuracy: 0.7597076296806335\n",
            "\n",
            "Best val_accuracy So Far: 0.7736409306526184\n",
            "Total elapsed time: 00h 52m 18s\n"
          ]
        }
      ]
    },
    {
      "cell_type": "code",
      "source": [
        "best_hps = tuner.get_best_hyperparameters(1)[0]"
      ],
      "metadata": {
        "id": "eLKyN7r0lO2G"
      },
      "execution_count": null,
      "outputs": []
    },
    {
      "cell_type": "code",
      "source": [
        "print(best_hps.values)"
      ],
      "metadata": {
        "id": "84VXcUrWlO2G",
        "colab": {
          "base_uri": "https://localhost:8080/"
        },
        "outputId": "94428486-13bb-4f03-e0ab-a1b8b345c4a3"
      },
      "execution_count": null,
      "outputs": [
        {
          "output_type": "stream",
          "name": "stdout",
          "text": [
            "{'learning_rate': 0.01, 'dropout_rate': 0.1, 'tuner/epochs': 3, 'tuner/initial_epoch': 1, 'tuner/bracket': 1, 'tuner/round': 1, 'tuner/trial_id': '0001'}\n"
          ]
        }
      ]
    },
    {
      "cell_type": "code",
      "source": [
        "final_model = tuner.hypermodel.build(best_hps)\n",
        "final_model.summary()"
      ],
      "metadata": {
        "id": "-q5yhBemlO2G",
        "colab": {
          "base_uri": "https://localhost:8080/"
        },
        "outputId": "0271ce2f-790a-4041-92b4-af949fbc7d5d"
      },
      "execution_count": null,
      "outputs": [
        {
          "output_type": "stream",
          "name": "stderr",
          "text": [
            "WARNING:tensorflow:Layer lstm_1 will not use cuDNN kernels since it doesn't meet the criteria. It will use a generic GPU kernel as fallback when running on GPU.\n",
            "WARNING:tensorflow:Layer lstm_1 will not use cuDNN kernels since it doesn't meet the criteria. It will use a generic GPU kernel as fallback when running on GPU.\n",
            "WARNING:tensorflow:Layer lstm_1 will not use cuDNN kernels since it doesn't meet the criteria. It will use a generic GPU kernel as fallback when running on GPU.\n"
          ]
        },
        {
          "output_type": "stream",
          "name": "stdout",
          "text": [
            "Model: \"sequential_1\"\n",
            "_________________________________________________________________\n",
            " Layer (type)                Output Shape              Param #   \n",
            "=================================================================\n",
            " embedding (Embedding)       (None, 300, 300)          14340000  \n",
            "                                                                 \n",
            " bidirectional_1 (Bidirectio  (None, 300, 512)         1140736   \n",
            " nal)                                                            \n",
            "                                                                 \n",
            " global_max_pooling1d_1 (Glo  (None, 512)              0         \n",
            " balMaxPooling1D)                                                \n",
            "                                                                 \n",
            " dense_4 (Dense)             (None, 128)               65664     \n",
            "                                                                 \n",
            " dropout_3 (Dropout)         (None, 128)               0         \n",
            "                                                                 \n",
            " dense_5 (Dense)             (None, 64)                8256      \n",
            "                                                                 \n",
            " dropout_4 (Dropout)         (None, 64)                0         \n",
            "                                                                 \n",
            " dense_6 (Dense)             (None, 32)                2080      \n",
            "                                                                 \n",
            " dropout_5 (Dropout)         (None, 32)                0         \n",
            "                                                                 \n",
            " dense_7 (Dense)             (None, 3)                 99        \n",
            "                                                                 \n",
            "=================================================================\n",
            "Total params: 15,556,835\n",
            "Trainable params: 1,216,835\n",
            "Non-trainable params: 14,340,000\n",
            "_________________________________________________________________\n"
          ]
        }
      ]
    },
    {
      "cell_type": "code",
      "source": [
        "early_stopping = EarlyStopping(monitor='val_accuracy', patience=5, restore_best_weights=True)\n",
        "history = final_model.fit(x_train, y_train, validation_data=(x_val, y_val), epochs=15, callbacks=[early_stopping])"
      ],
      "metadata": {
        "id": "Ls3VG4YhlO2H",
        "colab": {
          "base_uri": "https://localhost:8080/"
        },
        "outputId": "e110ecc7-0fa3-4c00-dd04-cf10f66328b8"
      },
      "execution_count": null,
      "outputs": [
        {
          "output_type": "stream",
          "name": "stdout",
          "text": [
            "Epoch 1/15\n",
            "411/411 [==============================] - 1085s 3s/step - loss: 0.6948 - accuracy: 0.7087 - val_loss: 0.5762 - val_accuracy: 0.7471\n",
            "Epoch 2/15\n",
            "411/411 [==============================] - 1074s 3s/step - loss: 0.5801 - accuracy: 0.7715 - val_loss: 0.5906 - val_accuracy: 0.7558\n",
            "Epoch 3/15\n",
            "411/411 [==============================] - 1071s 3s/step - loss: 0.5523 - accuracy: 0.7813 - val_loss: 0.5602 - val_accuracy: 0.7691\n",
            "Epoch 4/15\n",
            "411/411 [==============================] - 1070s 3s/step - loss: 0.5424 - accuracy: 0.7854 - val_loss: 0.5511 - val_accuracy: 0.7764\n",
            "Epoch 5/15\n",
            "411/411 [==============================] - 1072s 3s/step - loss: 0.5602 - accuracy: 0.7790 - val_loss: 0.5613 - val_accuracy: 0.7688\n",
            "Epoch 6/15\n",
            "411/411 [==============================] - 1068s 3s/step - loss: 0.5298 - accuracy: 0.7915 - val_loss: 0.5670 - val_accuracy: 0.7634\n",
            "Epoch 7/15\n",
            "411/411 [==============================] - 1057s 3s/step - loss: 0.5117 - accuracy: 0.7979 - val_loss: 0.5789 - val_accuracy: 0.7615\n",
            "Epoch 8/15\n",
            "411/411 [==============================] - 1058s 3s/step - loss: 0.5264 - accuracy: 0.7938 - val_loss: 0.5592 - val_accuracy: 0.7707\n",
            "Epoch 9/15\n",
            "411/411 [==============================] - 1079s 3s/step - loss: 0.5328 - accuracy: 0.7912 - val_loss: 0.6051 - val_accuracy: 0.7519\n"
          ]
        }
      ]
    },
    {
      "cell_type": "code",
      "source": [
        "final_model.save('/content/drive/MyDrive/Colab Notebooks/PFE/word2vec_bilstm_3.h5')"
      ],
      "metadata": {
        "id": "Cailxv9dmaD4"
      },
      "execution_count": null,
      "outputs": []
    },
    {
      "cell_type": "code",
      "source": [
        "model = load_model('/content/drive/MyDrive/Colab Notebooks/PFE/word2vec_bilstm_3.h5')"
      ],
      "metadata": {
        "id": "0PE7UhBXmaD4"
      },
      "execution_count": null,
      "outputs": []
    },
    {
      "cell_type": "code",
      "source": [
        "# Evaluate the final model\n",
        "loss, accuracy = model.evaluate(x_test, y_test)\n",
        "print('Test Loss:', loss)\n",
        "print('Test Accuracy:', accuracy)"
      ],
      "metadata": {
        "id": "iqpia-FrmaD5",
        "colab": {
          "base_uri": "https://localhost:8080/"
        },
        "outputId": "e2eadc84-dd81-4bca-f43e-67eec228a2e6"
      },
      "execution_count": null,
      "outputs": [
        {
          "output_type": "stream",
          "name": "stdout",
          "text": [
            "137/137 [==============================] - 170s 1s/step - loss: 0.5710 - accuracy: 0.7698\n",
            "Test Loss: 0.5709967613220215\n",
            "Test Accuracy: 0.769757866859436\n"
          ]
        }
      ]
    },
    {
      "cell_type": "code",
      "source": [
        "pred = model.predict(x_test)"
      ],
      "metadata": {
        "id": "e34n1btymaD5",
        "colab": {
          "base_uri": "https://localhost:8080/"
        },
        "outputId": "ed640962-efa4-456e-e252-853d4244ec32"
      },
      "execution_count": null,
      "outputs": [
        {
          "output_type": "stream",
          "name": "stdout",
          "text": [
            "137/137 [==============================] - 175s 1s/step\n"
          ]
        }
      ]
    },
    {
      "cell_type": "code",
      "source": [
        "pred = np.argmax(pred, axis=1)\n",
        "y_test_original=np.argmax(y_test, axis=1)"
      ],
      "metadata": {
        "id": "h22xDInQuFQQ"
      },
      "execution_count": null,
      "outputs": []
    },
    {
      "cell_type": "code",
      "source": [
        "print(\"deep learning classification report\")\n",
        "print(classification_report(y_test_original, pred))"
      ],
      "metadata": {
        "id": "gEkknp3OmaD5",
        "colab": {
          "base_uri": "https://localhost:8080/"
        },
        "outputId": "86905d30-aff1-4323-d7b5-65175908597c"
      },
      "execution_count": null,
      "outputs": [
        {
          "output_type": "stream",
          "name": "stdout",
          "text": [
            "deep learning classification report\n",
            "              precision    recall  f1-score   support\n",
            "\n",
            "           0       0.76      0.84      0.80      1480\n",
            "           1       0.73      0.64      0.68      1444\n",
            "           2       0.82      0.82      0.82      1454\n",
            "\n",
            "    accuracy                           0.77      4378\n",
            "   macro avg       0.77      0.77      0.77      4378\n",
            "weighted avg       0.77      0.77      0.77      4378\n",
            "\n"
          ]
        }
      ]
    },
    {
      "cell_type": "code",
      "source": [
        "print(\"deep learning confusion matrix\")\n",
        "cm = confusion_matrix(y_test_original, pred)\n",
        "df_cm = pd.DataFrame(cm, index=class_names, columns=class_names)\n",
        "show_confusion_matrix(df_cm)"
      ],
      "metadata": {
        "id": "NF3tifDEmaD5",
        "colab": {
          "base_uri": "https://localhost:8080/",
          "height": 495
        },
        "outputId": "e51faedc-3df8-4ae3-a808-fd55d274c1a3"
      },
      "execution_count": null,
      "outputs": [
        {
          "output_type": "stream",
          "name": "stdout",
          "text": [
            "deep learning confusion matrix\n"
          ]
        },
        {
          "output_type": "display_data",
          "data": {
            "text/plain": [
              "<Figure size 640x480 with 2 Axes>"
            ],
            "image/png": "[encoded data removed]"
          },
          "metadata": {}
        }
      ]
    },
    {
      "cell_type": "markdown",
      "source": [
        "## Test"
      ],
      "metadata": {
        "id": "wV2vEQ9vArN6"
      }
    },
    {
      "cell_type": "code",
      "source": [
        "new_texts = [\"حرام غالي بزاف خلي يصدي \", \"شحال دير ؟\", \"بارك الله فيك\"]\n",
        "new_sequences = tokenizer.texts_to_sequences(new_texts)\n",
        "new_X = pad_sequences(new_sequences, maxlen=max_sequence_length)\n",
        "predictions = model.predict(new_X)\n",
        "predicted_labels = np.argmax(predictions, axis=1)\n",
        "predicted_sentiments = []\n",
        "for label in predicted_labels:\n",
        "    sentiment = [key for key, value in label_mapping.items() if value == label][0]\n",
        "    predicted_sentiments.append(sentiment)\n",
        "print(\"Predictions:\", predictions)\n",
        "print(\"predicted_labels:\", predicted_labels)\n",
        "print('predicted_sentiments:',predicted_sentiments)"
      ],
      "metadata": {
        "colab": {
          "base_uri": "https://localhost:8080/"
        },
        "id": "WkyoJEjlAurG",
        "outputId": "7824cbd4-81b0-4143-dd5b-d6a27a78d6c6"
      },
      "execution_count": null,
      "outputs": [
        {
          "output_type": "stream",
          "name": "stdout",
          "text": [
            "1/1 [==============================] - 0s 478ms/step\n",
            "Predictions: [[6.0437202e-01 2.9729441e-01 9.8333627e-02]\n",
            " [2.0296965e-03 9.7024888e-01 2.7721507e-02]\n",
            " [4.9944269e-06 1.6050696e-02 9.8394430e-01]]\n",
            "predicted_labels: [0 1 2]\n",
            "predicted_sentiments: ['negative', 'neutral', 'positive']\n"
          ]
        }
      ]
    },
    {
      "cell_type": "markdown",
      "source": [
        "# Deep Learning with two labels"
      ],
      "metadata": {
        "id": "-K1MAuUSLHVi"
      }
    },
    {
      "cell_type": "code",
      "execution_count": null,
      "metadata": {
        "id": "wai7Q27sMbEK"
      },
      "outputs": [],
      "source": [
        "word2vec_model = Word2Vec.load('/content/drive/MyDrive/Colab Notebooks/PFE/word2vec_model.bin')"
      ]
    },
    {
      "cell_type": "code",
      "execution_count": null,
      "metadata": {
        "id": "R0feLjRwvR7k"
      },
      "outputs": [],
      "source": [
        "tokenizer = Tokenizer()\n",
        "tokenizer.fit_on_texts(df['text'])\n",
        "sequences = tokenizer.texts_to_sequences(df['text'])"
      ]
    },
    {
      "cell_type": "code",
      "execution_count": null,
      "metadata": {
        "colab": {
          "base_uri": "https://localhost:8080/"
        },
        "outputId": "1f86344e-f9e4-4e1b-b6e6-bfddcbce634c",
        "id": "4Fw-K40qvR7k"
      },
      "outputs": [
        {
          "output_type": "execute_result",
          "data": {
            "text/plain": [
              "47800"
            ]
          },
          "metadata": {},
          "execution_count": 15
        }
      ],
      "source": [
        "len(tokenizer.word_index) + 1"
      ]
    },
    {
      "cell_type": "code",
      "source": [
        "max_sequence_length= 300"
      ],
      "metadata": {
        "id": "2t58L17pvR7l"
      },
      "execution_count": null,
      "outputs": []
    },
    {
      "cell_type": "code",
      "execution_count": null,
      "metadata": {
        "id": "ChLO4TiNvR7m"
      },
      "outputs": [],
      "source": [
        "X = pad_sequences(sequences, maxlen=max_sequence_length)\n",
        "y = np.array(df.sentiment.values)"
      ]
    },
    {
      "cell_type": "code",
      "source": [
        "x_train, x_test, y_train, y_test = train_test_split(X, y, test_size=0.2,random_state=21)"
      ],
      "metadata": {
        "id": "9Zx1CmgOvR7n"
      },
      "execution_count": null,
      "outputs": []
    },
    {
      "cell_type": "code",
      "source": [
        "x_new = np.empty((0, x_train.shape[1]), x_train.dtype)\n",
        "y_new = np.empty((0,), y_train.dtype)\n",
        "for i in range(len(y_train)):\n",
        "  if y_train[i] != 1:\n",
        "    #x_train_binary.append(x_train[i])\n",
        "    x_new = np.vstack((x_new, x_train[i]))\n",
        "    y_new = np.append(y_new, y_train[i])\n",
        "    #y_train_binary.append(y_train[i])"
      ],
      "metadata": {
        "id": "K1Mm0u_6xMvh"
      },
      "execution_count": null,
      "outputs": []
    },
    {
      "cell_type": "code",
      "source": [
        "for i in range(len(y_new)):\n",
        "    if y_new[i] == 2:\n",
        "        y_new[i] = 1"
      ],
      "metadata": {
        "id": "QO6bZ3PoxNo-"
      },
      "execution_count": null,
      "outputs": []
    },
    {
      "cell_type": "code",
      "source": [
        "x_train, x_val, y_train, y_val = train_test_split(x_new, y_new, test_size=0.25, random_state=21)"
      ],
      "metadata": {
        "id": "f9FFXLPBxbCk"
      },
      "execution_count": null,
      "outputs": []
    },
    {
      "cell_type": "code",
      "source": [
        "embedding_matrix = np.zeros((len(tokenizer.word_index) + 1, 300))\n",
        "for word, i in tokenizer.word_index.items():\n",
        "  if word in word2vec_model.wv:\n",
        "    embedding_matrix[i] = word2vec_model.wv[word]\n",
        "print(embedding_matrix.shape)"
      ],
      "metadata": {
        "colab": {
          "base_uri": "https://localhost:8080/"
        },
        "outputId": "deaab0bd-156d-4422-9cca-7c0088c28e7d",
        "id": "EnjxBu-qvR7n"
      },
      "execution_count": null,
      "outputs": [
        {
          "output_type": "stream",
          "name": "stdout",
          "text": [
            "(47800, 300)\n"
          ]
        }
      ]
    },
    {
      "cell_type": "code",
      "source": [
        "embedding_layer = Embedding(len(tokenizer.word_index) + 1, max_sequence_length, weights=[embedding_matrix], input_length=max_sequence_length, trainable=False)"
      ],
      "metadata": {
        "id": "p6g-9LHovR7o"
      },
      "execution_count": null,
      "outputs": []
    },
    {
      "cell_type": "code",
      "source": [
        "def build_model(hp):\n",
        "  learning_rate = hp.Choice('learning_rate', values=[1e-2, 1e-3, 1e-4, 1e-5])\n",
        "  dropout_rate = hp.Float('dropout_rate', 0.1, 0.5, step=0.1)\n",
        "\n",
        "  model = Sequential()\n",
        "  model.add(embedding_layer)\n",
        "  model.add(Bidirectional(LSTM(256, dropout=dropout_rate,\n",
        "                               recurrent_dropout=dropout_rate,\n",
        "                               return_sequences=True)))\n",
        "  model.add(GlobalMaxPool1D())\n",
        "  model.add(Dense(128, activation='relu'))\n",
        "  model.add(Dropout(dropout_rate))\n",
        "  model.add(Dense(64, activation='relu'))\n",
        "  model.add(Dropout(dropout_rate))\n",
        "  model.add(Dense(32, activation='relu'))\n",
        "  model.add(Dropout(dropout_rate))\n",
        "  model.add(Dense(1, activation='sigmoid'))\n",
        "\n",
        "  # Compile the model\n",
        "  optimizer = Adam(learning_rate=learning_rate)\n",
        "\n",
        "  model.compile(optimizer=optimizer,\n",
        "                loss='binary_crossentropy',\n",
        "                metrics=['accuracy'])\n",
        "\n",
        "  return model"
      ],
      "metadata": {
        "id": "KSIOz9KhvR7p"
      },
      "execution_count": null,
      "outputs": []
    },
    {
      "cell_type": "code",
      "source": [
        "# Define the Hyperband tuner\n",
        "tuner = Hyperband(build_model,\n",
        "                  objective='val_accuracy',\n",
        "                  max_epochs=3,\n",
        "                  factor=3,\n",
        "                  directory='/content/drive/MyDrive/Colab Notebooks/PFE/wordembedding_hyper_3',\n",
        "                  project_name='sentiment_analysis')"
      ],
      "metadata": {
        "id": "me3i6CPEvR7q"
      },
      "execution_count": null,
      "outputs": []
    },
    {
      "cell_type": "code",
      "source": [
        "#tuner.search(x_train, y_train, validation_data=(x_test, y_test), epochs=15)"
      ],
      "metadata": {
        "colab": {
          "base_uri": "https://localhost:8080/"
        },
        "outputId": "6372e5d4-35af-49c6-cbf6-08192f3431a9",
        "id": "dyXedBiUvR7q"
      },
      "execution_count": null,
      "outputs": [
        {
          "output_type": "stream",
          "name": "stdout",
          "text": [
            "Trial 6 Complete [00h 52m 18s]\n",
            "val_accuracy: 0.7597076296806335\n",
            "\n",
            "Best val_accuracy So Far: 0.7736409306526184\n",
            "Total elapsed time: 00h 52m 18s\n"
          ]
        }
      ]
    },
    {
      "cell_type": "code",
      "source": [
        "best_hps = tuner.get_best_hyperparameters(1)[0]"
      ],
      "metadata": {
        "id": "CDMKIzlPvR7r"
      },
      "execution_count": null,
      "outputs": []
    },
    {
      "cell_type": "code",
      "source": [
        "print(best_hps.values)"
      ],
      "metadata": {
        "colab": {
          "base_uri": "https://localhost:8080/"
        },
        "outputId": "ce2115ae-b7e2-4a7e-8a17-95ac0f0a3877",
        "id": "W4VhPad_vR7r"
      },
      "execution_count": null,
      "outputs": [
        {
          "output_type": "stream",
          "name": "stdout",
          "text": [
            "{'learning_rate': 0.01, 'dropout_rate': 0.1, 'tuner/epochs': 3, 'tuner/initial_epoch': 1, 'tuner/bracket': 1, 'tuner/round': 1, 'tuner/trial_id': '0001'}\n"
          ]
        }
      ]
    },
    {
      "cell_type": "code",
      "source": [
        "final_model = tuner.hypermodel.build(best_hps)\n",
        "final_model.summary()"
      ],
      "metadata": {
        "colab": {
          "base_uri": "https://localhost:8080/"
        },
        "outputId": "43bbe7ed-eb73-49d7-b25c-24e1186088aa",
        "id": "6iwVxIpuvR7s"
      },
      "execution_count": null,
      "outputs": [
        {
          "output_type": "stream",
          "name": "stderr",
          "text": [
            "WARNING:tensorflow:Layer lstm_3 will not use cuDNN kernels since it doesn't meet the criteria. It will use a generic GPU kernel as fallback when running on GPU.\n",
            "WARNING:tensorflow:Layer lstm_3 will not use cuDNN kernels since it doesn't meet the criteria. It will use a generic GPU kernel as fallback when running on GPU.\n",
            "WARNING:tensorflow:Layer lstm_3 will not use cuDNN kernels since it doesn't meet the criteria. It will use a generic GPU kernel as fallback when running on GPU.\n"
          ]
        },
        {
          "output_type": "stream",
          "name": "stdout",
          "text": [
            "Model: \"sequential_3\"\n",
            "_________________________________________________________________\n",
            " Layer (type)                Output Shape              Param #   \n",
            "=================================================================\n",
            " embedding (Embedding)       (None, 300, 300)          14340000  \n",
            "                                                                 \n",
            " bidirectional_3 (Bidirectio  (None, 300, 512)         1140736   \n",
            " nal)                                                            \n",
            "                                                                 \n",
            " global_max_pooling1d_3 (Glo  (None, 512)              0         \n",
            " balMaxPooling1D)                                                \n",
            "                                                                 \n",
            " dense_12 (Dense)            (None, 128)               65664     \n",
            "                                                                 \n",
            " dropout_9 (Dropout)         (None, 128)               0         \n",
            "                                                                 \n",
            " dense_13 (Dense)            (None, 64)                8256      \n",
            "                                                                 \n",
            " dropout_10 (Dropout)        (None, 64)                0         \n",
            "                                                                 \n",
            " dense_14 (Dense)            (None, 32)                2080      \n",
            "                                                                 \n",
            " dropout_11 (Dropout)        (None, 32)                0         \n",
            "                                                                 \n",
            " dense_15 (Dense)            (None, 1)                 33        \n",
            "                                                                 \n",
            "=================================================================\n",
            "Total params: 15,556,769\n",
            "Trainable params: 1,216,769\n",
            "Non-trainable params: 14,340,000\n",
            "_________________________________________________________________\n"
          ]
        }
      ]
    },
    {
      "cell_type": "code",
      "source": [
        "early_stopping = EarlyStopping(monitor='val_accuracy', patience=5, restore_best_weights=True)\n",
        "history = final_model.fit(x_train, y_train, validation_data=(x_val, y_val), epochs=15, callbacks=[early_stopping])"
      ],
      "metadata": {
        "colab": {
          "base_uri": "https://localhost:8080/"
        },
        "outputId": "cfb6b7d6-e1d9-421c-cbeb-334e7dc79d5d",
        "id": "2UkKFh8IvR7t"
      },
      "execution_count": null,
      "outputs": [
        {
          "output_type": "stream",
          "name": "stdout",
          "text": [
            "Epoch 1/15\n",
            "274/274 [==============================] - 738s 3s/step - loss: 0.2826 - accuracy: 0.8919 - val_loss: 0.2189 - val_accuracy: 0.9114\n",
            "Epoch 2/15\n",
            "274/274 [==============================] - 704s 3s/step - loss: 0.2044 - accuracy: 0.9309 - val_loss: 0.2461 - val_accuracy: 0.9042\n",
            "Epoch 3/15\n",
            "274/274 [==============================] - 702s 3s/step - loss: 0.1704 - accuracy: 0.9391 - val_loss: 0.2173 - val_accuracy: 0.9145\n",
            "Epoch 4/15\n",
            "274/274 [==============================] - 712s 3s/step - loss: 0.1424 - accuracy: 0.9498 - val_loss: 0.2645 - val_accuracy: 0.9173\n",
            "Epoch 5/15\n",
            "274/274 [==============================] - 697s 3s/step - loss: 0.1379 - accuracy: 0.9478 - val_loss: 0.2053 - val_accuracy: 0.9176\n",
            "Epoch 6/15\n",
            "274/274 [==============================] - 682s 2s/step - loss: 0.1306 - accuracy: 0.9508 - val_loss: 0.2185 - val_accuracy: 0.9204\n",
            "Epoch 7/15\n",
            "274/274 [==============================] - 657s 2s/step - loss: 0.1309 - accuracy: 0.9519 - val_loss: 0.3316 - val_accuracy: 0.9142\n",
            "Epoch 8/15\n",
            "274/274 [==============================] - 659s 2s/step - loss: 0.1192 - accuracy: 0.9597 - val_loss: 0.2405 - val_accuracy: 0.9121\n",
            "Epoch 9/15\n",
            "274/274 [==============================] - 662s 2s/step - loss: 0.1122 - accuracy: 0.9581 - val_loss: 0.3089 - val_accuracy: 0.9193\n",
            "Epoch 10/15\n",
            "274/274 [==============================] - 662s 2s/step - loss: 0.0966 - accuracy: 0.9657 - val_loss: 0.2844 - val_accuracy: 0.9152\n",
            "Epoch 11/15\n",
            "274/274 [==============================] - 657s 2s/step - loss: 0.0954 - accuracy: 0.9646 - val_loss: 0.2858 - val_accuracy: 0.9152\n"
          ]
        }
      ]
    },
    {
      "cell_type": "code",
      "source": [
        "final_model.save('/content/drive/MyDrive/Colab Notebooks/PFE/word2vec_bilstm_2.h5')"
      ],
      "metadata": {
        "id": "fts2LfGxvR7u"
      },
      "execution_count": null,
      "outputs": []
    },
    {
      "cell_type": "code",
      "source": [
        "model = load_model('/content/drive/MyDrive/Colab Notebooks/PFE/word2vec_bilstm_2.h5')"
      ],
      "metadata": {
        "colab": {
          "base_uri": "https://localhost:8080/"
        },
        "outputId": "4dce591d-cdde-4da7-d8fa-8d5ded91f5d7",
        "id": "uu-jwMP0vR7u"
      },
      "execution_count": null,
      "outputs": [
        {
          "output_type": "stream",
          "name": "stderr",
          "text": [
            "WARNING:tensorflow:Layer lstm_3 will not use cuDNN kernels since it doesn't meet the criteria. It will use a generic GPU kernel as fallback when running on GPU.\n",
            "WARNING:tensorflow:Layer lstm_3 will not use cuDNN kernels since it doesn't meet the criteria. It will use a generic GPU kernel as fallback when running on GPU.\n",
            "WARNING:tensorflow:Layer lstm_3 will not use cuDNN kernels since it doesn't meet the criteria. It will use a generic GPU kernel as fallback when running on GPU.\n"
          ]
        }
      ]
    },
    {
      "cell_type": "code",
      "source": [
        "predictions = model.predict(x_test)"
      ],
      "metadata": {
        "id": "HEazhYxvm4Vi",
        "colab": {
          "base_uri": "https://localhost:8080/"
        },
        "outputId": "380c80de-470f-4108-c6d2-bc532a599b04"
      },
      "execution_count": null,
      "outputs": [
        {
          "output_type": "stream",
          "name": "stdout",
          "text": [
            "137/137 [==============================] - 26s 188ms/step\n"
          ]
        }
      ]
    },
    {
      "cell_type": "code",
      "source": [
        "predicted_labels = []\n",
        "for prob in predictions:\n",
        "    if prob < 0.33:\n",
        "        predicted_labels.append(0)\n",
        "    elif prob > 0.66:\n",
        "        predicted_labels.append(2)\n",
        "    else:\n",
        "        predicted_labels.append(1)"
      ],
      "metadata": {
        "id": "O9-N2dB0pcwb"
      },
      "execution_count": null,
      "outputs": []
    },
    {
      "cell_type": "code",
      "source": [
        "predicted_labels"
      ],
      "metadata": {
        "id": "xDxLrv-st5UU"
      },
      "execution_count": null,
      "outputs": []
    },
    {
      "cell_type": "code",
      "source": [
        "print(\"svm accuracy: \",accuracy_score(y_test, predicted_labels))\n",
        "print(\"svm f1: \",f1_score(y_test, predicted_labels, average='weighted'))"
      ],
      "metadata": {
        "id": "mXGQl_kJpkVQ",
        "colab": {
          "base_uri": "https://localhost:8080/"
        },
        "outputId": "4e508f38-89c8-4331-b6a6-e7508f58983d"
      },
      "execution_count": null,
      "outputs": [
        {
          "output_type": "stream",
          "name": "stdout",
          "text": [
            "svm accuracy:  0.661717679305619\n",
            "svm f1:  0.6314388225336798\n"
          ]
        }
      ]
    },
    {
      "cell_type": "code",
      "source": [
        "print(\"mnb classification report\")\n",
        "print(classification_report(y_test, predicted_labels))"
      ],
      "metadata": {
        "id": "t0i_pu-guVJZ",
        "colab": {
          "base_uri": "https://localhost:8080/"
        },
        "outputId": "137d3f50-7e5d-47c6-bae6-737cb98d6f53"
      },
      "execution_count": null,
      "outputs": [
        {
          "output_type": "stream",
          "name": "stdout",
          "text": [
            "mnb classification report\n",
            "              precision    recall  f1-score   support\n",
            "\n",
            "           0       0.70      0.85      0.77      1480\n",
            "           1       0.56      0.29      0.38      1444\n",
            "           2       0.67      0.84      0.75      1454\n",
            "\n",
            "    accuracy                           0.66      4378\n",
            "   macro avg       0.64      0.66      0.63      4378\n",
            "weighted avg       0.64      0.66      0.63      4378\n",
            "\n"
          ]
        }
      ]
    },
    {
      "cell_type": "code",
      "source": [
        "print(\"mnb confusion matrix\")\n",
        "cm = confusion_matrix(y_test, predicted_labels)\n",
        "df_cm = pd.DataFrame(cm, index=class_names, columns=class_names)\n",
        "show_confusion_matrix(df_cm)"
      ],
      "metadata": {
        "id": "7-SIpja2umaM",
        "colab": {
          "base_uri": "https://localhost:8080/",
          "height": 495
        },
        "outputId": "be2c0b7a-50c0-4c68-955d-5690d20ffda1"
      },
      "execution_count": null,
      "outputs": [
        {
          "output_type": "stream",
          "name": "stdout",
          "text": [
            "mnb confusion matrix\n"
          ]
        },
        {
          "output_type": "display_data",
          "data": {
            "text/plain": [
              "<Figure size 640x480 with 2 Axes>"
            ],
            "image/png": "[encoded data removed]"
          },
          "metadata": {}
        }
      ]
    }
  ],
  "metadata": {
    "colab": {
      "collapsed_sections": [
        "zB9KO2bKQ99Z",
        "6S6fB1RwG0Pl",
        "u1Hq9jJ9MeuT",
        "TaeFyjwZMwLk",
        "xZZvMjbkoPWc",
        "qiT8RpEqgAaH",
        "ThJoOjdhgE_P",
        "_TsmrV7Huhek",
        "hKTUCWr7Vbs0"
      ],
      "provenance": [],
      "gpuType": "T4",
      "toc_visible": true
    },
    "kernelspec": {
      "display_name": "Python 3",
      "name": "python3"
    },
    "language_info": {
      "name": "python"
    }
  },
  "nbformat": 4,
  "nbformat_minor": 0
}