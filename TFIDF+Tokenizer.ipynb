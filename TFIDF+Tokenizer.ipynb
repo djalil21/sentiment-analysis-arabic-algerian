{
  "cells": [
    {
      "cell_type": "markdown",
      "metadata": {
        "id": "g0-UiSIraXzL"
      },
      "source": [
        "# install and import"
      ]
    },
    {
      "cell_type": "code",
      "execution_count": null,
      "metadata": {
        "colab": {
          "base_uri": "https://localhost:8080/"
        },
        "id": "MjFVGgnmn-IY",
        "outputId": "4b0d8c4a-968b-4ee3-f49d-94a0e06e055d"
      },
      "outputs": [
        {
          "output_type": "execute_result",
          "data": {
            "text/plain": [
              "'/device:GPU:0'"
            ],
            "application/vnd.google.colaboratory.intrinsic+json": {
              "type": "string"
            }
          },
          "metadata": {},
          "execution_count": 1
        }
      ],
      "source": [
        "import tensorflow as tf\n",
        "tf.test.gpu_device_name()"
      ]
    },
    {
      "cell_type": "code",
      "execution_count": null,
      "metadata": {
        "colab": {
          "base_uri": "https://localhost:8080/"
        },
        "id": "7CbDn0HFldfT",
        "outputId": "29c75d84-fad7-44ad-c49c-56beb8211034"
      },
      "outputs": [
        {
          "output_type": "stream",
          "name": "stdout",
          "text": [
            "Mounted at /content/drive\n"
          ]
        }
      ],
      "source": [
        "from google.colab import drive\n",
        "drive.mount('/content/drive')"
      ]
    },
    {
      "cell_type": "code",
      "source": [
        "!pip install keras-tuner"
      ],
      "metadata": {
        "id": "a8lZK0oBYan6",
        "colab": {
          "base_uri": "https://localhost:8080/"
        },
        "outputId": "b9afa7f1-e1c5-4ffe-b93b-e7ea39a16129"
      },
      "execution_count": null,
      "outputs": [
        {
          "output_type": "stream",
          "name": "stdout",
          "text": [
            "Looking in indexes: https://pypi.org/simple, https://us-python.pkg.dev/colab-wheels/public/simple/\n",
            "Collecting keras-tuner\n",
            "  Downloading keras_tuner-1.3.5-py3-none-any.whl (176 kB)\n",
            "\u001b[2K     \u001b[90m━━━━━━━━━━━━━━━━━━━━━━━━━━━━━━━━━━━━━━━\u001b[0m \u001b[32m176.1/176.1 kB\u001b[0m \u001b[31m9.9 MB/s\u001b[0m eta \u001b[36m0:00:00\u001b[0m\n",
            "\u001b[?25hRequirement already satisfied: packaging in /usr/local/lib/python3.10/dist-packages (from keras-tuner) (23.1)\n",
            "Requirement already satisfied: requests in /usr/local/lib/python3.10/dist-packages (from keras-tuner) (2.27.1)\n",
            "Collecting kt-legacy (from keras-tuner)\n",
            "  Downloading kt_legacy-1.0.5-py3-none-any.whl (9.6 kB)\n",
            "Requirement already satisfied: urllib3<1.27,>=1.21.1 in /usr/local/lib/python3.10/dist-packages (from requests->keras-tuner) (1.26.16)\n",
            "Requirement already satisfied: certifi>=2017.4.17 in /usr/local/lib/python3.10/dist-packages (from requests->keras-tuner) (2023.5.7)\n",
            "Requirement already satisfied: charset-normalizer~=2.0.0 in /usr/local/lib/python3.10/dist-packages (from requests->keras-tuner) (2.0.12)\n",
            "Requirement already satisfied: idna<4,>=2.5 in /usr/local/lib/python3.10/dist-packages (from requests->keras-tuner) (3.4)\n",
            "Installing collected packages: kt-legacy, keras-tuner\n",
            "Successfully installed keras-tuner-1.3.5 kt-legacy-1.0.5\n"
          ]
        }
      ]
    },
    {
      "cell_type": "code",
      "execution_count": null,
      "metadata": {
        "id": "n4oedIrgrFw_"
      },
      "outputs": [],
      "source": [
        "import pandas as pd\n",
        "import re\n",
        "import numpy as np\n",
        "\n",
        "import pickle\n",
        "\n",
        "from sklearn.model_selection import train_test_split\n",
        "from sklearn.feature_extraction.text import TfidfVectorizer\n",
        "from sklearn.svm import SVC\n",
        "from sklearn.naive_bayes import BernoulliNB, MultinomialNB\n",
        "from sklearn.metrics import accuracy_score, f1_score, confusion_matrix, classification_report\n",
        "\n",
        "from tensorflow.keras.models import Sequential, load_model\n",
        "from tensorflow.keras.layers import Embedding, Bidirectional, LSTM, Dense, Dropout, GlobalMaxPool1D\n",
        "from tensorflow.keras.preprocessing.text import Tokenizer\n",
        "from tensorflow.keras.utils import to_categorical, pad_sequences\n",
        "from tensorflow.keras.optimizers import Adam\n",
        "from tensorflow.keras.callbacks import EarlyStopping\n",
        "from keras_tuner.tuners import Hyperband\n",
        "from keras_tuner import Objective\n",
        "from tensorflow.keras import backend as K\n",
        "\n",
        "import seaborn as sns\n",
        "import matplotlib.pyplot as plt\n",
        "from matplotlib import rc"
      ]
    },
    {
      "cell_type": "markdown",
      "metadata": {
        "id": "9W2MxyJzarjI"
      },
      "source": [
        "# Data"
      ]
    },
    {
      "cell_type": "code",
      "execution_count": null,
      "metadata": {
        "id": "oflAnBkowvAs"
      },
      "outputs": [],
      "source": [
        "df = pd.read_csv('/content/drive/MyDrive/Colab Notebooks/PFE/preprocess3FinalBalanced.csv')"
      ]
    },
    {
      "cell_type": "code",
      "execution_count": null,
      "metadata": {
        "colab": {
          "base_uri": "https://localhost:8080/"
        },
        "id": "POxPRdgj-ekO",
        "outputId": "5c64128f-dea0-45de-d184-20ce0cda9d4e"
      },
      "outputs": [
        {
          "output_type": "execute_result",
          "data": {
            "text/plain": [
              "(21912, 2)"
            ]
          },
          "metadata": {},
          "execution_count": 6
        }
      ],
      "source": [
        "df.shape"
      ]
    },
    {
      "cell_type": "code",
      "source": [
        "df=df.dropna()"
      ],
      "metadata": {
        "id": "ZqQs70lWYKG9"
      },
      "execution_count": null,
      "outputs": []
    },
    {
      "cell_type": "code",
      "execution_count": null,
      "metadata": {
        "id": "mmD7mgj1YKG-"
      },
      "outputs": [],
      "source": [
        "df.text=df.text.astype(str)"
      ]
    },
    {
      "cell_type": "code",
      "source": [
        "df = df.drop_duplicates()"
      ],
      "metadata": {
        "id": "j2lkE_Od9qzW"
      },
      "execution_count": null,
      "outputs": []
    },
    {
      "cell_type": "code",
      "source": [
        "df.shape"
      ],
      "metadata": {
        "colab": {
          "base_uri": "https://localhost:8080/"
        },
        "id": "gqmEyRUZYmBu",
        "outputId": "74311318-c847-422b-bf60-30cb441e1954"
      },
      "execution_count": null,
      "outputs": [
        {
          "output_type": "execute_result",
          "data": {
            "text/plain": [
              "(21625, 2)"
            ]
          },
          "metadata": {},
          "execution_count": 10
        }
      ]
    },
    {
      "cell_type": "code",
      "source": [
        "df.head()"
      ],
      "metadata": {
        "colab": {
          "base_uri": "https://localhost:8080/"
        },
        "id": "-mRQg_4fFhra",
        "outputId": "0f08d944-65cf-4987-de4b-8b7da347af60"
      },
      "execution_count": null,
      "outputs": [
        {
          "output_type": "execute_result",
          "data": {
            "text/plain": [
              "  sentiment                                               text\n",
              "0  positive  ♥️ ♥️ ♥️ ♥️ ♥️ ♥️ ♥️ ♥️ ♥️ ♥️ ♥️ ♥️ ♥️ ♥️ ♥️ ♥...\n",
              "1  positive  رانك هارم دجداد دين مي اعد اد هرام خيي هر قاو ...\n",
              "2  positive  بار ،هد خير قول جزاير ماش خدامل مشكل كيفاش تصل...\n",
              "3  positive  ونجور دوك قو سوي ال موقع (المواقع رنس جزائري و...\n",
              "4  positive  ديد دوله حال زم ماليه الازمه اق عالم شراء شعب ..."
            ],
            "text/html": [
              "\n",
              "  <div id=\"df-83dd0eef-2fad-4e33-bae8-f55c1e244794\">\n",
              "    <div class=\"colab-df-container\">\n",
              "      <div>\n",
              "<style scoped>\n",
              "    .dataframe tbody tr th:only-of-type {\n",
              "        vertical-align: middle;\n",
              "    }\n",
              "\n",
              "    .dataframe tbody tr th {\n",
              "        vertical-align: top;\n",
              "    }\n",
              "\n",
              "    .dataframe thead th {\n",
              "        text-align: right;\n",
              "    }\n",
              "</style>\n",
              "<table border=\"1\" class=\"dataframe\">\n",
              "  <thead>\n",
              "    <tr style=\"text-align: right;\">\n",
              "      <th></th>\n",
              "      <th>sentiment</th>\n",
              "      <th>text</th>\n",
              "    </tr>\n",
              "  </thead>\n",
              "  <tbody>\n",
              "    <tr>\n",
              "      <th>0</th>\n",
              "      <td>positive</td>\n",
              "      <td>♥️ ♥️ ♥️ ♥️ ♥️ ♥️ ♥️ ♥️ ♥️ ♥️ ♥️ ♥️ ♥️ ♥️ ♥️ ♥...</td>\n",
              "    </tr>\n",
              "    <tr>\n",
              "      <th>1</th>\n",
              "      <td>positive</td>\n",
              "      <td>رانك هارم دجداد دين مي اعد اد هرام خيي هر قاو ...</td>\n",
              "    </tr>\n",
              "    <tr>\n",
              "      <th>2</th>\n",
              "      <td>positive</td>\n",
              "      <td>بار ،هد خير قول جزاير ماش خدامل مشكل كيفاش تصل...</td>\n",
              "    </tr>\n",
              "    <tr>\n",
              "      <th>3</th>\n",
              "      <td>positive</td>\n",
              "      <td>ونجور دوك قو سوي ال موقع (المواقع رنس جزائري و...</td>\n",
              "    </tr>\n",
              "    <tr>\n",
              "      <th>4</th>\n",
              "      <td>positive</td>\n",
              "      <td>ديد دوله حال زم ماليه الازمه اق عالم شراء شعب ...</td>\n",
              "    </tr>\n",
              "  </tbody>\n",
              "</table>\n",
              "</div>\n",
              "      <button class=\"colab-df-convert\" onclick=\"convertToInteractive('df-83dd0eef-2fad-4e33-bae8-f55c1e244794')\"\n",
              "              title=\"Convert this dataframe to an interactive table.\"\n",
              "              style=\"display:none;\">\n",
              "        \n",
              "  <svg xmlns=\"http://www.w3.org/2000/svg\" height=\"24px\"viewBox=\"0 0 24 24\"\n",
              "       width=\"24px\">\n",
              "    <path d=\"M0 0h24v24H0V0z\" fill=\"none\"/>\n",
              "    <path d=\"M18.56 5.44l.94 2.06.94-2.06 2.06-.94-2.06-.94-.94-2.06-.94 2.06-2.06.94zm-11 1L8.5 8.5l.94-2.06 2.06-.94-2.06-.94L8.5 2.5l-.94 2.06-2.06.94zm10 10l.94 2.06.94-2.06 2.06-.94-2.06-.94-.94-2.06-.94 2.06-2.06.94z\"/><path d=\"M17.41 7.96l-1.37-1.37c-.4-.4-.92-.59-1.43-.59-.52 0-1.04.2-1.43.59L10.3 9.45l-7.72 7.72c-.78.78-.78 2.05 0 2.83L4 21.41c.39.39.9.59 1.41.59.51 0 1.02-.2 1.41-.59l7.78-7.78 2.81-2.81c.8-.78.8-2.07 0-2.86zM5.41 20L4 18.59l7.72-7.72 1.47 1.35L5.41 20z\"/>\n",
              "  </svg>\n",
              "      </button>\n",
              "      \n",
              "  <style>\n",
              "    .colab-df-container {\n",
              "      display:flex;\n",
              "      flex-wrap:wrap;\n",
              "      gap: 12px;\n",
              "    }\n",
              "\n",
              "    .colab-df-convert {\n",
              "      background-color: #E8F0FE;\n",
              "      border: none;\n",
              "      border-radius: 50%;\n",
              "      cursor: pointer;\n",
              "      display: none;\n",
              "      fill: #1967D2;\n",
              "      height: 32px;\n",
              "      padding: 0 0 0 0;\n",
              "      width: 32px;\n",
              "    }\n",
              "\n",
              "    .colab-df-convert:hover {\n",
              "      background-color: #E2EBFA;\n",
              "      box-shadow: 0px 1px 2px rgba(60, 64, 67, 0.3), 0px 1px 3px 1px rgba(60, 64, 67, 0.15);\n",
              "      fill: #174EA6;\n",
              "    }\n",
              "\n",
              "    [theme=dark] .colab-df-convert {\n",
              "      background-color: #3B4455;\n",
              "      fill: #D2E3FC;\n",
              "    }\n",
              "\n",
              "    [theme=dark] .colab-df-convert:hover {\n",
              "      background-color: #434B5C;\n",
              "      box-shadow: 0px 1px 3px 1px rgba(0, 0, 0, 0.15);\n",
              "      filter: drop-shadow(0px 1px 2px rgba(0, 0, 0, 0.3));\n",
              "      fill: #FFFFFF;\n",
              "    }\n",
              "  </style>\n",
              "\n",
              "      <script>\n",
              "        const buttonEl =\n",
              "          document.querySelector('#df-83dd0eef-2fad-4e33-bae8-f55c1e244794 button.colab-df-convert');\n",
              "        buttonEl.style.display =\n",
              "          google.colab.kernel.accessAllowed ? 'block' : 'none';\n",
              "\n",
              "        async function convertToInteractive(key) {\n",
              "          const element = document.querySelector('#df-83dd0eef-2fad-4e33-bae8-f55c1e244794');\n",
              "          const dataTable =\n",
              "            await google.colab.kernel.invokeFunction('convertToInteractive',\n",
              "                                                     [key], {});\n",
              "          if (!dataTable) return;\n",
              "\n",
              "          const docLinkHtml = 'Like what you see? Visit the ' +\n",
              "            '<a target=\"_blank\" href=https://colab.research.google.com/notebooks/data_table.ipynb>data table notebook</a>'\n",
              "            + ' to learn more about interactive tables.';\n",
              "          element.innerHTML = '';\n",
              "          dataTable['output_type'] = 'display_data';\n",
              "          await google.colab.output.renderOutput(dataTable, element);\n",
              "          const docLink = document.createElement('div');\n",
              "          docLink.innerHTML = docLinkHtml;\n",
              "          element.appendChild(docLink);\n",
              "        }\n",
              "      </script>\n",
              "    </div>\n",
              "  </div>\n",
              "  "
            ]
          },
          "metadata": {},
          "execution_count": 11
        }
      ]
    },
    {
      "cell_type": "code",
      "execution_count": null,
      "metadata": {
        "id": "uKU_NWjAt0vB"
      },
      "outputs": [],
      "source": [
        "label_mapping = {'positive':2, 'negative':0, 'neutral':1}\n",
        "df['sentiment'] =[label_mapping[label] for label in df['sentiment']]"
      ]
    },
    {
      "cell_type": "code",
      "execution_count": null,
      "metadata": {
        "colab": {
          "base_uri": "https://localhost:8080/"
        },
        "id": "t6sS0oN4u5z6",
        "outputId": "876579ba-8ecc-4c55-c1ab-af80e2a45e7e"
      },
      "outputs": [
        {
          "output_type": "execute_result",
          "data": {
            "text/plain": [
              "0    7302\n",
              "1    7273\n",
              "2    7050\n",
              "Name: sentiment, dtype: int64"
            ]
          },
          "metadata": {},
          "execution_count": 13
        }
      ],
      "source": [
        "df['sentiment'].value_counts()"
      ]
    },
    {
      "cell_type": "markdown",
      "metadata": {
        "id": "x51dtGrWtYa_"
      },
      "source": [
        "# TF-IDF"
      ]
    },
    {
      "cell_type": "code",
      "execution_count": null,
      "metadata": {
        "id": "vX2_0mWFtluo"
      },
      "outputs": [],
      "source": [
        "x_train, x_test, y_train, y_test = train_test_split(df['text'], df['sentiment'], test_size=0.2, random_state=21)"
      ]
    },
    {
      "cell_type": "code",
      "execution_count": null,
      "metadata": {
        "id": "s54WTipPwI8p"
      },
      "outputs": [],
      "source": [
        "tfidf = TfidfVectorizer()\n",
        "x_train = tfidf.fit_transform(x_train)\n",
        "x_test = tfidf.transform(x_test)"
      ]
    },
    {
      "cell_type": "code",
      "execution_count": null,
      "metadata": {
        "colab": {
          "base_uri": "https://localhost:8080/"
        },
        "id": "K5nfEqnwwrjk",
        "outputId": "6873fb67-9db1-430a-9194-ee79bfd83228"
      },
      "outputs": [
        {
          "output_type": "execute_result",
          "data": {
            "text/plain": [
              "        00  0016   02   03   05  0560575166   06  06حپاپ1  06متمسخرش  \\\n",
              "0      0.0   0.0  0.0  0.0  0.0         0.0  0.0      0.0        0.0   \n",
              "1      0.0   0.0  0.0  0.0  0.0         0.0  0.0      0.0        0.0   \n",
              "2      0.0   0.0  0.0  0.0  0.0         0.0  0.0      0.0        0.0   \n",
              "3      0.0   0.0  0.0  0.0  0.0         0.0  0.0      0.0        0.0   \n",
              "4      0.0   0.0  0.0  0.0  0.0         0.0  0.0      0.0        0.0   \n",
              "...    ...   ...  ...  ...  ...         ...  ...      ...        ...   \n",
              "17295  0.0   0.0  0.0  0.0  0.0         0.0  0.0      0.0        0.0   \n",
              "17296  0.0   0.0  0.0  0.0  0.0         0.0  0.0      0.0        0.0   \n",
              "17297  0.0   0.0  0.0  0.0  0.0         0.0  0.0      0.0        0.0   \n",
              "17298  0.0   0.0  0.0  0.0  0.0         0.0  0.0      0.0        0.0   \n",
              "17299  0.0   0.0  0.0  0.0  0.0         0.0  0.0      0.0        0.0   \n",
              "\n",
              "       0772330566  ...  ﻭﻗﻠﻴﻞ  ﻭﻟﻮ  ﻭﻟﻴﻦ  ﻭﻣﺎ  ﻳﺆﻣﻨﻮﻥ  ﻳﺠﻬﻠﻮﻥ  ﻳﺴﻤﻌﻮﻥ  ﻳﺸﻜﺮﻭﻥ  \\\n",
              "0             0.0  ...    0.0  0.0   0.0  0.0     0.0     0.0     0.0     0.0   \n",
              "1             0.0  ...    0.0  0.0   0.0  0.0     0.0     0.0     0.0     0.0   \n",
              "2             0.0  ...    0.0  0.0   0.0  0.0     0.0     0.0     0.0     0.0   \n",
              "3             0.0  ...    0.0  0.0   0.0  0.0     0.0     0.0     0.0     0.0   \n",
              "4             0.0  ...    0.0  0.0   0.0  0.0     0.0     0.0     0.0     0.0   \n",
              "...           ...  ...    ...  ...   ...  ...     ...     ...     ...     ...   \n",
              "17295         0.0  ...    0.0  0.0   0.0  0.0     0.0     0.0     0.0     0.0   \n",
              "17296         0.0  ...    0.0  0.0   0.0  0.0     0.0     0.0     0.0     0.0   \n",
              "17297         0.0  ...    0.0  0.0   0.0  0.0     0.0     0.0     0.0     0.0   \n",
              "17298         0.0  ...    0.0  0.0   0.0  0.0     0.0     0.0     0.0     0.0   \n",
              "17299         0.0  ...    0.0  0.0   0.0  0.0     0.0     0.0     0.0     0.0   \n",
              "\n",
              "       ﻳﻌﻘﻠﻮﻥ  ﻳﻌﻠﻤﻮﻥ  \n",
              "0         0.0     0.0  \n",
              "1         0.0     0.0  \n",
              "2         0.0     0.0  \n",
              "3         0.0     0.0  \n",
              "4         0.0     0.0  \n",
              "...       ...     ...  \n",
              "17295     0.0     0.0  \n",
              "17296     0.0     0.0  \n",
              "17297     0.0     0.0  \n",
              "17298     0.0     0.0  \n",
              "17299     0.0     0.0  \n",
              "\n",
              "[17300 rows x 22914 columns]"
            ],
            "text/html": [
              "\n",
              "  <div id=\"df-6450a203-f4aa-4a07-b6a0-17f55759d7cd\">\n",
              "    <div class=\"colab-df-container\">\n",
              "      <div>\n",
              "<style scoped>\n",
              "    .dataframe tbody tr th:only-of-type {\n",
              "        vertical-align: middle;\n",
              "    }\n",
              "\n",
              "    .dataframe tbody tr th {\n",
              "        vertical-align: top;\n",
              "    }\n",
              "\n",
              "    .dataframe thead th {\n",
              "        text-align: right;\n",
              "    }\n",
              "</style>\n",
              "<table border=\"1\" class=\"dataframe\">\n",
              "  <thead>\n",
              "    <tr style=\"text-align: right;\">\n",
              "      <th></th>\n",
              "      <th>00</th>\n",
              "      <th>0016</th>\n",
              "      <th>02</th>\n",
              "      <th>03</th>\n",
              "      <th>05</th>\n",
              "      <th>0560575166</th>\n",
              "      <th>06</th>\n",
              "      <th>06حپاپ1</th>\n",
              "      <th>06متمسخرش</th>\n",
              "      <th>0772330566</th>\n",
              "      <th>...</th>\n",
              "      <th>ﻭﻗﻠﻴﻞ</th>\n",
              "      <th>ﻭﻟﻮ</th>\n",
              "      <th>ﻭﻟﻴﻦ</th>\n",
              "      <th>ﻭﻣﺎ</th>\n",
              "      <th>ﻳﺆﻣﻨﻮﻥ</th>\n",
              "      <th>ﻳﺠﻬﻠﻮﻥ</th>\n",
              "      <th>ﻳﺴﻤﻌﻮﻥ</th>\n",
              "      <th>ﻳﺸﻜﺮﻭﻥ</th>\n",
              "      <th>ﻳﻌﻘﻠﻮﻥ</th>\n",
              "      <th>ﻳﻌﻠﻤﻮﻥ</th>\n",
              "    </tr>\n",
              "  </thead>\n",
              "  <tbody>\n",
              "    <tr>\n",
              "      <th>0</th>\n",
              "      <td>0.0</td>\n",
              "      <td>0.0</td>\n",
              "      <td>0.0</td>\n",
              "      <td>0.0</td>\n",
              "      <td>0.0</td>\n",
              "      <td>0.0</td>\n",
              "      <td>0.0</td>\n",
              "      <td>0.0</td>\n",
              "      <td>0.0</td>\n",
              "      <td>0.0</td>\n",
              "      <td>...</td>\n",
              "      <td>0.0</td>\n",
              "      <td>0.0</td>\n",
              "      <td>0.0</td>\n",
              "      <td>0.0</td>\n",
              "      <td>0.0</td>\n",
              "      <td>0.0</td>\n",
              "      <td>0.0</td>\n",
              "      <td>0.0</td>\n",
              "      <td>0.0</td>\n",
              "      <td>0.0</td>\n",
              "    </tr>\n",
              "    <tr>\n",
              "      <th>1</th>\n",
              "      <td>0.0</td>\n",
              "      <td>0.0</td>\n",
              "      <td>0.0</td>\n",
              "      <td>0.0</td>\n",
              "      <td>0.0</td>\n",
              "      <td>0.0</td>\n",
              "      <td>0.0</td>\n",
              "      <td>0.0</td>\n",
              "      <td>0.0</td>\n",
              "      <td>0.0</td>\n",
              "      <td>...</td>\n",
              "      <td>0.0</td>\n",
              "      <td>0.0</td>\n",
              "      <td>0.0</td>\n",
              "      <td>0.0</td>\n",
              "      <td>0.0</td>\n",
              "      <td>0.0</td>\n",
              "      <td>0.0</td>\n",
              "      <td>0.0</td>\n",
              "      <td>0.0</td>\n",
              "      <td>0.0</td>\n",
              "    </tr>\n",
              "    <tr>\n",
              "      <th>2</th>\n",
              "      <td>0.0</td>\n",
              "      <td>0.0</td>\n",
              "      <td>0.0</td>\n",
              "      <td>0.0</td>\n",
              "      <td>0.0</td>\n",
              "      <td>0.0</td>\n",
              "      <td>0.0</td>\n",
              "      <td>0.0</td>\n",
              "      <td>0.0</td>\n",
              "      <td>0.0</td>\n",
              "      <td>...</td>\n",
              "      <td>0.0</td>\n",
              "      <td>0.0</td>\n",
              "      <td>0.0</td>\n",
              "      <td>0.0</td>\n",
              "      <td>0.0</td>\n",
              "      <td>0.0</td>\n",
              "      <td>0.0</td>\n",
              "      <td>0.0</td>\n",
              "      <td>0.0</td>\n",
              "      <td>0.0</td>\n",
              "    </tr>\n",
              "    <tr>\n",
              "      <th>3</th>\n",
              "      <td>0.0</td>\n",
              "      <td>0.0</td>\n",
              "      <td>0.0</td>\n",
              "      <td>0.0</td>\n",
              "      <td>0.0</td>\n",
              "      <td>0.0</td>\n",
              "      <td>0.0</td>\n",
              "      <td>0.0</td>\n",
              "      <td>0.0</td>\n",
              "      <td>0.0</td>\n",
              "      <td>...</td>\n",
              "      <td>0.0</td>\n",
              "      <td>0.0</td>\n",
              "      <td>0.0</td>\n",
              "      <td>0.0</td>\n",
              "      <td>0.0</td>\n",
              "      <td>0.0</td>\n",
              "      <td>0.0</td>\n",
              "      <td>0.0</td>\n",
              "      <td>0.0</td>\n",
              "      <td>0.0</td>\n",
              "    </tr>\n",
              "    <tr>\n",
              "      <th>4</th>\n",
              "      <td>0.0</td>\n",
              "      <td>0.0</td>\n",
              "      <td>0.0</td>\n",
              "      <td>0.0</td>\n",
              "      <td>0.0</td>\n",
              "      <td>0.0</td>\n",
              "      <td>0.0</td>\n",
              "      <td>0.0</td>\n",
              "      <td>0.0</td>\n",
              "      <td>0.0</td>\n",
              "      <td>...</td>\n",
              "      <td>0.0</td>\n",
              "      <td>0.0</td>\n",
              "      <td>0.0</td>\n",
              "      <td>0.0</td>\n",
              "      <td>0.0</td>\n",
              "      <td>0.0</td>\n",
              "      <td>0.0</td>\n",
              "      <td>0.0</td>\n",
              "      <td>0.0</td>\n",
              "      <td>0.0</td>\n",
              "    </tr>\n",
              "    <tr>\n",
              "      <th>...</th>\n",
              "      <td>...</td>\n",
              "      <td>...</td>\n",
              "      <td>...</td>\n",
              "      <td>...</td>\n",
              "      <td>...</td>\n",
              "      <td>...</td>\n",
              "      <td>...</td>\n",
              "      <td>...</td>\n",
              "      <td>...</td>\n",
              "      <td>...</td>\n",
              "      <td>...</td>\n",
              "      <td>...</td>\n",
              "      <td>...</td>\n",
              "      <td>...</td>\n",
              "      <td>...</td>\n",
              "      <td>...</td>\n",
              "      <td>...</td>\n",
              "      <td>...</td>\n",
              "      <td>...</td>\n",
              "      <td>...</td>\n",
              "      <td>...</td>\n",
              "    </tr>\n",
              "    <tr>\n",
              "      <th>17295</th>\n",
              "      <td>0.0</td>\n",
              "      <td>0.0</td>\n",
              "      <td>0.0</td>\n",
              "      <td>0.0</td>\n",
              "      <td>0.0</td>\n",
              "      <td>0.0</td>\n",
              "      <td>0.0</td>\n",
              "      <td>0.0</td>\n",
              "      <td>0.0</td>\n",
              "      <td>0.0</td>\n",
              "      <td>...</td>\n",
              "      <td>0.0</td>\n",
              "      <td>0.0</td>\n",
              "      <td>0.0</td>\n",
              "      <td>0.0</td>\n",
              "      <td>0.0</td>\n",
              "      <td>0.0</td>\n",
              "      <td>0.0</td>\n",
              "      <td>0.0</td>\n",
              "      <td>0.0</td>\n",
              "      <td>0.0</td>\n",
              "    </tr>\n",
              "    <tr>\n",
              "      <th>17296</th>\n",
              "      <td>0.0</td>\n",
              "      <td>0.0</td>\n",
              "      <td>0.0</td>\n",
              "      <td>0.0</td>\n",
              "      <td>0.0</td>\n",
              "      <td>0.0</td>\n",
              "      <td>0.0</td>\n",
              "      <td>0.0</td>\n",
              "      <td>0.0</td>\n",
              "      <td>0.0</td>\n",
              "      <td>...</td>\n",
              "      <td>0.0</td>\n",
              "      <td>0.0</td>\n",
              "      <td>0.0</td>\n",
              "      <td>0.0</td>\n",
              "      <td>0.0</td>\n",
              "      <td>0.0</td>\n",
              "      <td>0.0</td>\n",
              "      <td>0.0</td>\n",
              "      <td>0.0</td>\n",
              "      <td>0.0</td>\n",
              "    </tr>\n",
              "    <tr>\n",
              "      <th>17297</th>\n",
              "      <td>0.0</td>\n",
              "      <td>0.0</td>\n",
              "      <td>0.0</td>\n",
              "      <td>0.0</td>\n",
              "      <td>0.0</td>\n",
              "      <td>0.0</td>\n",
              "      <td>0.0</td>\n",
              "      <td>0.0</td>\n",
              "      <td>0.0</td>\n",
              "      <td>0.0</td>\n",
              "      <td>...</td>\n",
              "      <td>0.0</td>\n",
              "      <td>0.0</td>\n",
              "      <td>0.0</td>\n",
              "      <td>0.0</td>\n",
              "      <td>0.0</td>\n",
              "      <td>0.0</td>\n",
              "      <td>0.0</td>\n",
              "      <td>0.0</td>\n",
              "      <td>0.0</td>\n",
              "      <td>0.0</td>\n",
              "    </tr>\n",
              "    <tr>\n",
              "      <th>17298</th>\n",
              "      <td>0.0</td>\n",
              "      <td>0.0</td>\n",
              "      <td>0.0</td>\n",
              "      <td>0.0</td>\n",
              "      <td>0.0</td>\n",
              "      <td>0.0</td>\n",
              "      <td>0.0</td>\n",
              "      <td>0.0</td>\n",
              "      <td>0.0</td>\n",
              "      <td>0.0</td>\n",
              "      <td>...</td>\n",
              "      <td>0.0</td>\n",
              "      <td>0.0</td>\n",
              "      <td>0.0</td>\n",
              "      <td>0.0</td>\n",
              "      <td>0.0</td>\n",
              "      <td>0.0</td>\n",
              "      <td>0.0</td>\n",
              "      <td>0.0</td>\n",
              "      <td>0.0</td>\n",
              "      <td>0.0</td>\n",
              "    </tr>\n",
              "    <tr>\n",
              "      <th>17299</th>\n",
              "      <td>0.0</td>\n",
              "      <td>0.0</td>\n",
              "      <td>0.0</td>\n",
              "      <td>0.0</td>\n",
              "      <td>0.0</td>\n",
              "      <td>0.0</td>\n",
              "      <td>0.0</td>\n",
              "      <td>0.0</td>\n",
              "      <td>0.0</td>\n",
              "      <td>0.0</td>\n",
              "      <td>...</td>\n",
              "      <td>0.0</td>\n",
              "      <td>0.0</td>\n",
              "      <td>0.0</td>\n",
              "      <td>0.0</td>\n",
              "      <td>0.0</td>\n",
              "      <td>0.0</td>\n",
              "      <td>0.0</td>\n",
              "      <td>0.0</td>\n",
              "      <td>0.0</td>\n",
              "      <td>0.0</td>\n",
              "    </tr>\n",
              "  </tbody>\n",
              "</table>\n",
              "<p>17300 rows × 22914 columns</p>\n",
              "</div>\n",
              "      <button class=\"colab-df-convert\" onclick=\"convertToInteractive('df-6450a203-f4aa-4a07-b6a0-17f55759d7cd')\"\n",
              "              title=\"Convert this dataframe to an interactive table.\"\n",
              "              style=\"display:none;\">\n",
              "        \n",
              "  <svg xmlns=\"http://www.w3.org/2000/svg\" height=\"24px\"viewBox=\"0 0 24 24\"\n",
              "       width=\"24px\">\n",
              "    <path d=\"M0 0h24v24H0V0z\" fill=\"none\"/>\n",
              "    <path d=\"M18.56 5.44l.94 2.06.94-2.06 2.06-.94-2.06-.94-.94-2.06-.94 2.06-2.06.94zm-11 1L8.5 8.5l.94-2.06 2.06-.94-2.06-.94L8.5 2.5l-.94 2.06-2.06.94zm10 10l.94 2.06.94-2.06 2.06-.94-2.06-.94-.94-2.06-.94 2.06-2.06.94z\"/><path d=\"M17.41 7.96l-1.37-1.37c-.4-.4-.92-.59-1.43-.59-.52 0-1.04.2-1.43.59L10.3 9.45l-7.72 7.72c-.78.78-.78 2.05 0 2.83L4 21.41c.39.39.9.59 1.41.59.51 0 1.02-.2 1.41-.59l7.78-7.78 2.81-2.81c.8-.78.8-2.07 0-2.86zM5.41 20L4 18.59l7.72-7.72 1.47 1.35L5.41 20z\"/>\n",
              "  </svg>\n",
              "      </button>\n",
              "      \n",
              "  <style>\n",
              "    .colab-df-container {\n",
              "      display:flex;\n",
              "      flex-wrap:wrap;\n",
              "      gap: 12px;\n",
              "    }\n",
              "\n",
              "    .colab-df-convert {\n",
              "      background-color: #E8F0FE;\n",
              "      border: none;\n",
              "      border-radius: 50%;\n",
              "      cursor: pointer;\n",
              "      display: none;\n",
              "      fill: #1967D2;\n",
              "      height: 32px;\n",
              "      padding: 0 0 0 0;\n",
              "      width: 32px;\n",
              "    }\n",
              "\n",
              "    .colab-df-convert:hover {\n",
              "      background-color: #E2EBFA;\n",
              "      box-shadow: 0px 1px 2px rgba(60, 64, 67, 0.3), 0px 1px 3px 1px rgba(60, 64, 67, 0.15);\n",
              "      fill: #174EA6;\n",
              "    }\n",
              "\n",
              "    [theme=dark] .colab-df-convert {\n",
              "      background-color: #3B4455;\n",
              "      fill: #D2E3FC;\n",
              "    }\n",
              "\n",
              "    [theme=dark] .colab-df-convert:hover {\n",
              "      background-color: #434B5C;\n",
              "      box-shadow: 0px 1px 3px 1px rgba(0, 0, 0, 0.15);\n",
              "      filter: drop-shadow(0px 1px 2px rgba(0, 0, 0, 0.3));\n",
              "      fill: #FFFFFF;\n",
              "    }\n",
              "  </style>\n",
              "\n",
              "      <script>\n",
              "        const buttonEl =\n",
              "          document.querySelector('#df-6450a203-f4aa-4a07-b6a0-17f55759d7cd button.colab-df-convert');\n",
              "        buttonEl.style.display =\n",
              "          google.colab.kernel.accessAllowed ? 'block' : 'none';\n",
              "\n",
              "        async function convertToInteractive(key) {\n",
              "          const element = document.querySelector('#df-6450a203-f4aa-4a07-b6a0-17f55759d7cd');\n",
              "          const dataTable =\n",
              "            await google.colab.kernel.invokeFunction('convertToInteractive',\n",
              "                                                     [key], {});\n",
              "          if (!dataTable) return;\n",
              "\n",
              "          const docLinkHtml = 'Like what you see? Visit the ' +\n",
              "            '<a target=\"_blank\" href=https://colab.research.google.com/notebooks/data_table.ipynb>data table notebook</a>'\n",
              "            + ' to learn more about interactive tables.';\n",
              "          element.innerHTML = '';\n",
              "          dataTable['output_type'] = 'display_data';\n",
              "          await google.colab.output.renderOutput(dataTable, element);\n",
              "          const docLink = document.createElement('div');\n",
              "          docLink.innerHTML = docLinkHtml;\n",
              "          element.appendChild(docLink);\n",
              "        }\n",
              "      </script>\n",
              "    </div>\n",
              "  </div>\n",
              "  "
            ]
          },
          "metadata": {},
          "execution_count": 16
        }
      ],
      "source": [
        "frequency_matrix=pd.DataFrame(x_train.toarray(),columns=tfidf.get_feature_names_out())\n",
        "frequency_matrix"
      ]
    },
    {
      "cell_type": "markdown",
      "metadata": {
        "id": "jWQny_dWf9_c"
      },
      "source": [
        "## TF-IDF exemple\n"
      ]
    },
    {
      "cell_type": "code",
      "execution_count": null,
      "metadata": {
        "colab": {
          "base_uri": "https://localhost:8080/"
        },
        "id": "rE3zcTblgGoR",
        "outputId": "b3c2af8c-3613-4a8e-a9b1-23f7430162de"
      },
      "outputs": [
        {
          "output_type": "execute_result",
          "data": {
            "text/plain": [
              "array(['سعرها', 'غالي', 'مقبول'], dtype=object)"
            ]
          },
          "metadata": {},
          "execution_count": 17
        }
      ],
      "source": [
        "documents = ['سعرها مقبول',\n",
        "                'سعرها غالي']\n",
        "\n",
        "\n",
        "tf = TfidfVectorizer()\n",
        "tf.fit(documents)\n",
        "tf.get_feature_names_out()"
      ]
    },
    {
      "cell_type": "code",
      "execution_count": null,
      "metadata": {
        "colab": {
          "base_uri": "https://localhost:8080/"
        },
        "id": "a211ZEGMg0es",
        "outputId": "4ceb76e9-7566-42f1-aace-89a16fd2e8da"
      },
      "outputs": [
        {
          "output_type": "execute_result",
          "data": {
            "text/plain": [
              "array([[0.57973867, 0.        , 0.81480247],\n",
              "       [0.57973867, 0.81480247, 0.        ]])"
            ]
          },
          "metadata": {},
          "execution_count": 18
        }
      ],
      "source": [
        "doc_array=tf.transform(documents)\n",
        "doc_array.toarray()"
      ]
    },
    {
      "cell_type": "code",
      "execution_count": null,
      "metadata": {
        "id": "Z9WEzLwDhIsW"
      },
      "outputs": [],
      "source": [
        "frequency_matrix=pd.DataFrame(doc_array.toarray(),columns=tf.get_feature_names_out())"
      ]
    },
    {
      "cell_type": "code",
      "execution_count": null,
      "metadata": {
        "colab": {
          "base_uri": "https://localhost:8080/"
        },
        "id": "KO1-rNrAi70V",
        "outputId": "3a3bfe87-53f8-4d91-90ac-a69df246581a"
      },
      "outputs": [
        {
          "output_type": "execute_result",
          "data": {
            "text/plain": [
              "      سعرها      غالي     مقبول\n",
              "0  0.579739  0.000000  0.814802\n",
              "1  0.579739  0.814802  0.000000"
            ],
            "text/html": [
              "\n",
              "  <div id=\"df-05d75af4-ce77-453c-8f35-4ea3502e64e5\">\n",
              "    <div class=\"colab-df-container\">\n",
              "      <div>\n",
              "<style scoped>\n",
              "    .dataframe tbody tr th:only-of-type {\n",
              "        vertical-align: middle;\n",
              "    }\n",
              "\n",
              "    .dataframe tbody tr th {\n",
              "        vertical-align: top;\n",
              "    }\n",
              "\n",
              "    .dataframe thead th {\n",
              "        text-align: right;\n",
              "    }\n",
              "</style>\n",
              "<table border=\"1\" class=\"dataframe\">\n",
              "  <thead>\n",
              "    <tr style=\"text-align: right;\">\n",
              "      <th></th>\n",
              "      <th>سعرها</th>\n",
              "      <th>غالي</th>\n",
              "      <th>مقبول</th>\n",
              "    </tr>\n",
              "  </thead>\n",
              "  <tbody>\n",
              "    <tr>\n",
              "      <th>0</th>\n",
              "      <td>0.579739</td>\n",
              "      <td>0.000000</td>\n",
              "      <td>0.814802</td>\n",
              "    </tr>\n",
              "    <tr>\n",
              "      <th>1</th>\n",
              "      <td>0.579739</td>\n",
              "      <td>0.814802</td>\n",
              "      <td>0.000000</td>\n",
              "    </tr>\n",
              "  </tbody>\n",
              "</table>\n",
              "</div>\n",
              "      <button class=\"colab-df-convert\" onclick=\"convertToInteractive('df-05d75af4-ce77-453c-8f35-4ea3502e64e5')\"\n",
              "              title=\"Convert this dataframe to an interactive table.\"\n",
              "              style=\"display:none;\">\n",
              "        \n",
              "  <svg xmlns=\"http://www.w3.org/2000/svg\" height=\"24px\"viewBox=\"0 0 24 24\"\n",
              "       width=\"24px\">\n",
              "    <path d=\"M0 0h24v24H0V0z\" fill=\"none\"/>\n",
              "    <path d=\"M18.56 5.44l.94 2.06.94-2.06 2.06-.94-2.06-.94-.94-2.06-.94 2.06-2.06.94zm-11 1L8.5 8.5l.94-2.06 2.06-.94-2.06-.94L8.5 2.5l-.94 2.06-2.06.94zm10 10l.94 2.06.94-2.06 2.06-.94-2.06-.94-.94-2.06-.94 2.06-2.06.94z\"/><path d=\"M17.41 7.96l-1.37-1.37c-.4-.4-.92-.59-1.43-.59-.52 0-1.04.2-1.43.59L10.3 9.45l-7.72 7.72c-.78.78-.78 2.05 0 2.83L4 21.41c.39.39.9.59 1.41.59.51 0 1.02-.2 1.41-.59l7.78-7.78 2.81-2.81c.8-.78.8-2.07 0-2.86zM5.41 20L4 18.59l7.72-7.72 1.47 1.35L5.41 20z\"/>\n",
              "  </svg>\n",
              "      </button>\n",
              "      \n",
              "  <style>\n",
              "    .colab-df-container {\n",
              "      display:flex;\n",
              "      flex-wrap:wrap;\n",
              "      gap: 12px;\n",
              "    }\n",
              "\n",
              "    .colab-df-convert {\n",
              "      background-color: #E8F0FE;\n",
              "      border: none;\n",
              "      border-radius: 50%;\n",
              "      cursor: pointer;\n",
              "      display: none;\n",
              "      fill: #1967D2;\n",
              "      height: 32px;\n",
              "      padding: 0 0 0 0;\n",
              "      width: 32px;\n",
              "    }\n",
              "\n",
              "    .colab-df-convert:hover {\n",
              "      background-color: #E2EBFA;\n",
              "      box-shadow: 0px 1px 2px rgba(60, 64, 67, 0.3), 0px 1px 3px 1px rgba(60, 64, 67, 0.15);\n",
              "      fill: #174EA6;\n",
              "    }\n",
              "\n",
              "    [theme=dark] .colab-df-convert {\n",
              "      background-color: #3B4455;\n",
              "      fill: #D2E3FC;\n",
              "    }\n",
              "\n",
              "    [theme=dark] .colab-df-convert:hover {\n",
              "      background-color: #434B5C;\n",
              "      box-shadow: 0px 1px 3px 1px rgba(0, 0, 0, 0.15);\n",
              "      filter: drop-shadow(0px 1px 2px rgba(0, 0, 0, 0.3));\n",
              "      fill: #FFFFFF;\n",
              "    }\n",
              "  </style>\n",
              "\n",
              "      <script>\n",
              "        const buttonEl =\n",
              "          document.querySelector('#df-05d75af4-ce77-453c-8f35-4ea3502e64e5 button.colab-df-convert');\n",
              "        buttonEl.style.display =\n",
              "          google.colab.kernel.accessAllowed ? 'block' : 'none';\n",
              "\n",
              "        async function convertToInteractive(key) {\n",
              "          const element = document.querySelector('#df-05d75af4-ce77-453c-8f35-4ea3502e64e5');\n",
              "          const dataTable =\n",
              "            await google.colab.kernel.invokeFunction('convertToInteractive',\n",
              "                                                     [key], {});\n",
              "          if (!dataTable) return;\n",
              "\n",
              "          const docLinkHtml = 'Like what you see? Visit the ' +\n",
              "            '<a target=\"_blank\" href=https://colab.research.google.com/notebooks/data_table.ipynb>data table notebook</a>'\n",
              "            + ' to learn more about interactive tables.';\n",
              "          element.innerHTML = '';\n",
              "          dataTable['output_type'] = 'display_data';\n",
              "          await google.colab.output.renderOutput(dataTable, element);\n",
              "          const docLink = document.createElement('div');\n",
              "          docLink.innerHTML = docLinkHtml;\n",
              "          element.appendChild(docLink);\n",
              "        }\n",
              "      </script>\n",
              "    </div>\n",
              "  </div>\n",
              "  "
            ]
          },
          "metadata": {},
          "execution_count": 20
        }
      ],
      "source": [
        "frequency_matrix"
      ]
    },
    {
      "cell_type": "code",
      "source": [
        "from sklearn.feature_extraction.text import CountVectorizer"
      ],
      "metadata": {
        "id": "PSejZ67Im8UA"
      },
      "execution_count": null,
      "outputs": []
    },
    {
      "cell_type": "code",
      "source": [
        "tf = CountVectorizer()\n",
        "tf.fit(documents)\n",
        "tf.get_feature_names_out()"
      ],
      "metadata": {
        "colab": {
          "base_uri": "https://localhost:8080/"
        },
        "id": "YIHr0OrVnEs3",
        "outputId": "b04fee19-9cdc-420b-a8d1-613c8804c42a"
      },
      "execution_count": null,
      "outputs": [
        {
          "output_type": "execute_result",
          "data": {
            "text/plain": [
              "array(['سعرها', 'غالي', 'مقبول'], dtype=object)"
            ]
          },
          "metadata": {},
          "execution_count": 22
        }
      ]
    },
    {
      "cell_type": "code",
      "execution_count": null,
      "metadata": {
        "colab": {
          "base_uri": "https://localhost:8080/"
        },
        "outputId": "806e5177-c39e-46b8-c48a-7da3316d6c8d",
        "id": "jG-zBfVynLqV"
      },
      "outputs": [
        {
          "output_type": "execute_result",
          "data": {
            "text/plain": [
              "array([[1, 0, 1],\n",
              "       [1, 1, 0]])"
            ]
          },
          "metadata": {},
          "execution_count": 23
        }
      ],
      "source": [
        "doc_array=tf.transform(documents)\n",
        "doc_array.toarray()"
      ]
    },
    {
      "cell_type": "code",
      "execution_count": null,
      "metadata": {
        "id": "pUCslmhfnLqW"
      },
      "outputs": [],
      "source": [
        "frequency_matrix=pd.DataFrame(doc_array.toarray(),columns=tf.get_feature_names_out())"
      ]
    },
    {
      "cell_type": "code",
      "execution_count": null,
      "metadata": {
        "colab": {
          "base_uri": "https://localhost:8080/"
        },
        "outputId": "f17a00c9-4f71-4db6-c6b5-5c41e8f4c25c",
        "id": "Zng_FY48nLqW"
      },
      "outputs": [
        {
          "output_type": "execute_result",
          "data": {
            "text/plain": [
              "   سعرها  غالي  مقبول\n",
              "0      1     0      1\n",
              "1      1     1      0"
            ],
            "text/html": [
              "\n",
              "  <div id=\"df-daf51d20-c994-4471-aa74-76ce1d479cb0\">\n",
              "    <div class=\"colab-df-container\">\n",
              "      <div>\n",
              "<style scoped>\n",
              "    .dataframe tbody tr th:only-of-type {\n",
              "        vertical-align: middle;\n",
              "    }\n",
              "\n",
              "    .dataframe tbody tr th {\n",
              "        vertical-align: top;\n",
              "    }\n",
              "\n",
              "    .dataframe thead th {\n",
              "        text-align: right;\n",
              "    }\n",
              "</style>\n",
              "<table border=\"1\" class=\"dataframe\">\n",
              "  <thead>\n",
              "    <tr style=\"text-align: right;\">\n",
              "      <th></th>\n",
              "      <th>سعرها</th>\n",
              "      <th>غالي</th>\n",
              "      <th>مقبول</th>\n",
              "    </tr>\n",
              "  </thead>\n",
              "  <tbody>\n",
              "    <tr>\n",
              "      <th>0</th>\n",
              "      <td>1</td>\n",
              "      <td>0</td>\n",
              "      <td>1</td>\n",
              "    </tr>\n",
              "    <tr>\n",
              "      <th>1</th>\n",
              "      <td>1</td>\n",
              "      <td>1</td>\n",
              "      <td>0</td>\n",
              "    </tr>\n",
              "  </tbody>\n",
              "</table>\n",
              "</div>\n",
              "      <button class=\"colab-df-convert\" onclick=\"convertToInteractive('df-daf51d20-c994-4471-aa74-76ce1d479cb0')\"\n",
              "              title=\"Convert this dataframe to an interactive table.\"\n",
              "              style=\"display:none;\">\n",
              "        \n",
              "  <svg xmlns=\"http://www.w3.org/2000/svg\" height=\"24px\"viewBox=\"0 0 24 24\"\n",
              "       width=\"24px\">\n",
              "    <path d=\"M0 0h24v24H0V0z\" fill=\"none\"/>\n",
              "    <path d=\"M18.56 5.44l.94 2.06.94-2.06 2.06-.94-2.06-.94-.94-2.06-.94 2.06-2.06.94zm-11 1L8.5 8.5l.94-2.06 2.06-.94-2.06-.94L8.5 2.5l-.94 2.06-2.06.94zm10 10l.94 2.06.94-2.06 2.06-.94-2.06-.94-.94-2.06-.94 2.06-2.06.94z\"/><path d=\"M17.41 7.96l-1.37-1.37c-.4-.4-.92-.59-1.43-.59-.52 0-1.04.2-1.43.59L10.3 9.45l-7.72 7.72c-.78.78-.78 2.05 0 2.83L4 21.41c.39.39.9.59 1.41.59.51 0 1.02-.2 1.41-.59l7.78-7.78 2.81-2.81c.8-.78.8-2.07 0-2.86zM5.41 20L4 18.59l7.72-7.72 1.47 1.35L5.41 20z\"/>\n",
              "  </svg>\n",
              "      </button>\n",
              "      \n",
              "  <style>\n",
              "    .colab-df-container {\n",
              "      display:flex;\n",
              "      flex-wrap:wrap;\n",
              "      gap: 12px;\n",
              "    }\n",
              "\n",
              "    .colab-df-convert {\n",
              "      background-color: #E8F0FE;\n",
              "      border: none;\n",
              "      border-radius: 50%;\n",
              "      cursor: pointer;\n",
              "      display: none;\n",
              "      fill: #1967D2;\n",
              "      height: 32px;\n",
              "      padding: 0 0 0 0;\n",
              "      width: 32px;\n",
              "    }\n",
              "\n",
              "    .colab-df-convert:hover {\n",
              "      background-color: #E2EBFA;\n",
              "      box-shadow: 0px 1px 2px rgba(60, 64, 67, 0.3), 0px 1px 3px 1px rgba(60, 64, 67, 0.15);\n",
              "      fill: #174EA6;\n",
              "    }\n",
              "\n",
              "    [theme=dark] .colab-df-convert {\n",
              "      background-color: #3B4455;\n",
              "      fill: #D2E3FC;\n",
              "    }\n",
              "\n",
              "    [theme=dark] .colab-df-convert:hover {\n",
              "      background-color: #434B5C;\n",
              "      box-shadow: 0px 1px 3px 1px rgba(0, 0, 0, 0.15);\n",
              "      filter: drop-shadow(0px 1px 2px rgba(0, 0, 0, 0.3));\n",
              "      fill: #FFFFFF;\n",
              "    }\n",
              "  </style>\n",
              "\n",
              "      <script>\n",
              "        const buttonEl =\n",
              "          document.querySelector('#df-daf51d20-c994-4471-aa74-76ce1d479cb0 button.colab-df-convert');\n",
              "        buttonEl.style.display =\n",
              "          google.colab.kernel.accessAllowed ? 'block' : 'none';\n",
              "\n",
              "        async function convertToInteractive(key) {\n",
              "          const element = document.querySelector('#df-daf51d20-c994-4471-aa74-76ce1d479cb0');\n",
              "          const dataTable =\n",
              "            await google.colab.kernel.invokeFunction('convertToInteractive',\n",
              "                                                     [key], {});\n",
              "          if (!dataTable) return;\n",
              "\n",
              "          const docLinkHtml = 'Like what you see? Visit the ' +\n",
              "            '<a target=\"_blank\" href=https://colab.research.google.com/notebooks/data_table.ipynb>data table notebook</a>'\n",
              "            + ' to learn more about interactive tables.';\n",
              "          element.innerHTML = '';\n",
              "          dataTable['output_type'] = 'display_data';\n",
              "          await google.colab.output.renderOutput(dataTable, element);\n",
              "          const docLink = document.createElement('div');\n",
              "          docLink.innerHTML = docLinkHtml;\n",
              "          element.appendChild(docLink);\n",
              "        }\n",
              "      </script>\n",
              "    </div>\n",
              "  </div>\n",
              "  "
            ]
          },
          "metadata": {},
          "execution_count": 25
        }
      ],
      "source": [
        "frequency_matrix"
      ]
    },
    {
      "cell_type": "markdown",
      "metadata": {
        "id": "L0Zolh9oxIKx"
      },
      "source": [
        "# Machine learning"
      ]
    },
    {
      "cell_type": "code",
      "execution_count": null,
      "metadata": {
        "id": "ueRS0mZHqDI4"
      },
      "outputs": [],
      "source": [
        "models=[]\n",
        "class_names=[\"negative\",\"neutral\",\"positive\"]\n",
        "\n",
        "def show_confusion_matrix(confusion_matrix):\n",
        "  hmap = sns.heatmap(confusion_matrix, annot=True, fmt=\"d\", cmap=\"Blues\")\n",
        "  hmap.yaxis.set_ticklabels(hmap.yaxis.get_ticklabels(), rotation=0, ha='right')\n",
        "  hmap.xaxis.set_ticklabels(hmap.xaxis.get_ticklabels(), rotation=30, ha='right')\n",
        "  plt.ylabel('True sentiment')\n",
        "  plt.xlabel('Predicted sentiment')"
      ]
    },
    {
      "cell_type": "markdown",
      "source": [
        "## SVM"
      ],
      "metadata": {
        "id": "qiT8RpEqgAaH"
      }
    },
    {
      "cell_type": "code",
      "execution_count": null,
      "metadata": {
        "colab": {
          "base_uri": "https://localhost:8080/"
        },
        "id": "QmXqmDXfxGK6",
        "outputId": "c2ba0da9-2d34-4479-de49-d6a76a954f91"
      },
      "outputs": [
        {
          "output_type": "stream",
          "name": "stdout",
          "text": [
            "svm accuracy:  0.7482080924855491\n",
            "svm f1:  0.7495061826547166\n"
          ]
        }
      ],
      "source": [
        "svm = SVC(kernel='linear')\n",
        "svm.fit(x_train, y_train)\n",
        "pred=svm.predict(x_test)\n",
        "print(\"svm accuracy: \",accuracy_score(y_test, pred))\n",
        "print(\"svm f1: \",f1_score(y_test, pred, average='weighted'))\n",
        "\n",
        "with open('svm.pkl', 'wb') as file:\n",
        "    pickle.dump(svm, file)\n",
        "\n",
        "models.append('svm.pkl')"
      ]
    },
    {
      "cell_type": "code",
      "source": [
        "print(\"svm classification report\")\n",
        "print(classification_report(y_test, pred))"
      ],
      "metadata": {
        "colab": {
          "base_uri": "https://localhost:8080/"
        },
        "id": "Ih1BCPuDf60k",
        "outputId": "2dc6516f-6d86-487a-a176-ac01f64412f3"
      },
      "execution_count": null,
      "outputs": [
        {
          "output_type": "stream",
          "name": "stdout",
          "text": [
            "svm classification report\n",
            "              precision    recall  f1-score   support\n",
            "\n",
            "           0       0.75      0.79      0.77      1479\n",
            "           1       0.66      0.70      0.68      1427\n",
            "           2       0.85      0.76      0.80      1419\n",
            "\n",
            "    accuracy                           0.75      4325\n",
            "   macro avg       0.75      0.75      0.75      4325\n",
            "weighted avg       0.75      0.75      0.75      4325\n",
            "\n"
          ]
        }
      ]
    },
    {
      "cell_type": "code",
      "source": [
        "print(\"svm confusion matrix\")\n",
        "cm = confusion_matrix(y_test, pred)\n",
        "df_cm = pd.DataFrame(cm, index=class_names, columns=class_names)\n",
        "show_confusion_matrix(df_cm)"
      ],
      "metadata": {
        "colab": {
          "base_uri": "https://localhost:8080/"
        },
        "id": "YCUbBDVxf-RT",
        "outputId": "7ff83643-6396-4efc-a0a0-91dd8d0a1bbb"
      },
      "execution_count": null,
      "outputs": [
        {
          "output_type": "stream",
          "name": "stdout",
          "text": [
            "svm confusion matrix\n"
          ]
        },
        {
          "output_type": "display_data",
          "data": {
            "text/plain": [
              "<Figure size 640x480 with 2 Axes>"
            ],
            "image/png": "[encoded data removed]"
          },
          "metadata": {}
        }
      ]
    },
    {
      "cell_type": "markdown",
      "source": [
        "## Naive Bayes"
      ],
      "metadata": {
        "id": "ThJoOjdhgE_P"
      }
    },
    {
      "cell_type": "code",
      "execution_count": null,
      "metadata": {
        "colab": {
          "base_uri": "https://localhost:8080/"
        },
        "outputId": "db52fa3a-a2ec-4524-96c8-04ea9be514e6",
        "id": "eaSXLWDbhedB"
      },
      "outputs": [
        {
          "output_type": "stream",
          "name": "stdout",
          "text": [
            "mnb accuracy:  0.7347976878612716\n",
            "mnb f1:  0.7320749957592524\n"
          ]
        }
      ],
      "source": [
        "mnb = MultinomialNB()\n",
        "mnb.fit(x_train, y_train)\n",
        "pred=mnb.predict(x_test)\n",
        "print(\"mnb accuracy: \",accuracy_score(y_test, pred))\n",
        "print(\"mnb f1: \",f1_score(y_test, pred, average='weighted'))\n",
        "\n",
        "with open('mnb.pkl', 'wb') as file:\n",
        "    pickle.dump(mnb, file)\n",
        "\n",
        "models.append('mnb.pkl')"
      ]
    },
    {
      "cell_type": "code",
      "source": [
        "print(\"mnb classification report\")\n",
        "print(classification_report(y_test, pred))"
      ],
      "metadata": {
        "colab": {
          "base_uri": "https://localhost:8080/"
        },
        "outputId": "139b4d51-2995-4bb4-8f54-61e5bd7c5e7e",
        "id": "0L4xjBarhedB"
      },
      "execution_count": null,
      "outputs": [
        {
          "output_type": "stream",
          "name": "stdout",
          "text": [
            "mnb classification report\n",
            "              precision    recall  f1-score   support\n",
            "\n",
            "           0       0.68      0.86      0.76      1479\n",
            "           1       0.70      0.58      0.63      1427\n",
            "           2       0.85      0.76      0.81      1419\n",
            "\n",
            "    accuracy                           0.73      4325\n",
            "   macro avg       0.74      0.73      0.73      4325\n",
            "weighted avg       0.74      0.73      0.73      4325\n",
            "\n"
          ]
        }
      ]
    },
    {
      "cell_type": "code",
      "source": [
        "print(\"mnb confusion matrix\")\n",
        "cm = confusion_matrix(y_test, pred)\n",
        "df_cm = pd.DataFrame(cm, index=class_names, columns=class_names)\n",
        "show_confusion_matrix(df_cm)"
      ],
      "metadata": {
        "colab": {
          "base_uri": "https://localhost:8080/"
        },
        "outputId": "ddbe1651-52b3-4e73-cbe6-88c51bac61f7",
        "id": "N4UyXHNuhedC"
      },
      "execution_count": null,
      "outputs": [
        {
          "output_type": "stream",
          "name": "stdout",
          "text": [
            "mnb confusion matrix\n"
          ]
        },
        {
          "output_type": "display_data",
          "data": {
            "text/plain": [
              "<Figure size 640x480 with 2 Axes>"
            ],
            "image/png": "[encoded data removed]"
          },
          "metadata": {}
        }
      ]
    },
    {
      "cell_type": "markdown",
      "metadata": {
        "id": "QoZAF6LJnnbY"
      },
      "source": [
        "## test Machine Learning\n",
        "\n"
      ]
    },
    {
      "cell_type": "code",
      "execution_count": null,
      "metadata": {
        "id": "oqF9RnDAnsCt",
        "colab": {
          "base_uri": "https://localhost:8080/"
        },
        "outputId": "0b552ece-f4e5-4b56-dcc9-08df07ef5989"
      },
      "outputs": [
        {
          "output_type": "stream",
          "name": "stdout",
          "text": [
            "##########\n",
            " testing with svm.pkl\n",
            "Sentence: عجبني هايل\n",
            "Predicted label: 2\n",
            "\n",
            "Sentence: شحال ؟\n",
            "Predicted label: 1\n",
            "\n",
            "Sentence: ثقيل ريزو\n",
            "Predicted label: 1\n",
            "\n",
            "##########\n",
            " testing with mnb.pkl\n",
            "Sentence: عجبني هايل\n",
            "Predicted label: 2\n",
            "\n",
            "Sentence: شحال ؟\n",
            "Predicted label: 1\n",
            "\n",
            "Sentence: ثقيل ريزو\n",
            "Predicted label: 1\n",
            "\n"
          ]
        }
      ],
      "source": [
        "for model in models:\n",
        "  print(\"##########\")\n",
        "  print(\" testing with\",model)\n",
        "  with open(model, 'rb') as file:\n",
        "    loaded_model = pickle.load(file)\n",
        "\n",
        "    # Perform manual testing\n",
        "    test_sentences = [\"عجبني هايل\", \"شحال ؟\", \"ثقل ريزو\"]\n",
        "    test_features = tfidf.transform(test_sentences)\n",
        "    predicted_labels = loaded_model.predict(test_features)\n",
        "\n",
        "    # Print the results\n",
        "    for sentence, label in zip(test_sentences, predicted_labels):\n",
        "      print(f\"Sentence: {sentence}\")\n",
        "      print(f\"Predicted label: {label}\")\n",
        "      print(\"\")"
      ]
    },
    {
      "cell_type": "markdown",
      "source": [
        "# Deep Learning with three labels"
      ],
      "metadata": {
        "id": "qDfNkvqDYXJb"
      }
    },
    {
      "cell_type": "code",
      "execution_count": null,
      "metadata": {
        "id": "_JE6gBNrkBx_"
      },
      "outputs": [],
      "source": [
        "tokenizer = Tokenizer()\n",
        "tokenizer.fit_on_texts(df['text'])\n",
        "sequences = tokenizer.texts_to_sequences(df['text'])"
      ]
    },
    {
      "cell_type": "code",
      "execution_count": null,
      "metadata": {
        "colab": {
          "base_uri": "https://localhost:8080/"
        },
        "outputId": "8117e868-19b3-4bb1-a031-9636150e3fb3",
        "id": "m40blGBnkByA"
      },
      "outputs": [
        {
          "output_type": "execute_result",
          "data": {
            "text/plain": [
              "27510"
            ]
          },
          "metadata": {},
          "execution_count": 35
        }
      ],
      "source": [
        "len(tokenizer.word_index) + 1"
      ]
    },
    {
      "cell_type": "code",
      "execution_count": null,
      "metadata": {
        "id": "RNte2yHkkByA"
      },
      "outputs": [],
      "source": [
        "max_sequence_length = max([len(sequence) for sequence in sequences])\n",
        "X = pad_sequences(sequences, maxlen=max_sequence_length)\n",
        "y = np.array(df.sentiment.values)"
      ]
    },
    {
      "cell_type": "code",
      "execution_count": null,
      "metadata": {
        "colab": {
          "base_uri": "https://localhost:8080/"
        },
        "outputId": "40ffc65f-1671-4283-bec1-274dcb13642e",
        "id": "o2HXNTE0kByA"
      },
      "outputs": [
        {
          "output_type": "execute_result",
          "data": {
            "text/plain": [
              "265"
            ]
          },
          "metadata": {},
          "execution_count": 37
        }
      ],
      "source": [
        "max_sequence_length"
      ]
    },
    {
      "cell_type": "code",
      "execution_count": null,
      "metadata": {
        "colab": {
          "base_uri": "https://localhost:8080/"
        },
        "outputId": "8c19e2cf-9d28-447b-ed9e-77bfc5331d73",
        "id": "ntG3j2bvkByB"
      },
      "outputs": [
        {
          "output_type": "execute_result",
          "data": {
            "text/plain": [
              "array([[0., 0., 1.],\n",
              "       [0., 0., 1.],\n",
              "       [0., 0., 1.],\n",
              "       ...,\n",
              "       [0., 1., 0.],\n",
              "       [0., 1., 0.],\n",
              "       [0., 1., 0.]])"
            ]
          },
          "metadata": {},
          "execution_count": 38
        }
      ],
      "source": [
        "y = np.eye(len(label_mapping))[y]\n",
        "y"
      ]
    },
    {
      "cell_type": "code",
      "source": [
        "x_train, x_test, y_train, y_test = train_test_split(X, y, test_size=0.2,random_state=21)\n",
        "x_train, x_val, y_train, y_val = train_test_split(x_train, y_train, test_size=0.25, random_state=21)"
      ],
      "metadata": {
        "id": "uwIjQeEzjXDc"
      },
      "execution_count": null,
      "outputs": []
    },
    {
      "cell_type": "code",
      "source": [
        "def build_model(hp):\n",
        "  learning_rate = hp.Choice('learning_rate', values=[1e-2, 1e-3, 1e-4, 1e-5])\n",
        "  dropout_rate = hp.Float('dropout_rate', 0.1, 0.5, step=0.1)\n",
        "\n",
        "  model = Sequential()\n",
        "  model.add(Embedding(len(tokenizer.word_index) + 1,\n",
        "                             output_dim=256,\n",
        "                             input_length=max_sequence_length))\n",
        "  model.add(Bidirectional(LSTM(256, dropout=dropout_rate,\n",
        "                                             recurrent_dropout=dropout_rate,\n",
        "                                             return_sequences=True)))\n",
        "  model.add(GlobalMaxPool1D())\n",
        "  model.add(Dense(128, activation='relu'))\n",
        "  model.add(Dropout(dropout_rate))\n",
        "  model.add(Dense(64, activation='relu'))\n",
        "  model.add(Dropout(dropout_rate))\n",
        "  model.add(Dense(32, activation='relu'))\n",
        "  model.add(Dropout(dropout_rate))\n",
        "  model.add(Dense(3, activation='softmax'))\n",
        "\n",
        "  # Compile the model\n",
        "  optimizer = Adam(learning_rate=learning_rate)\n",
        "\n",
        "  model.compile(optimizer=optimizer,\n",
        "                loss='categorical_crossentropy',\n",
        "                metrics=[\"accuracy\"])\n",
        "\n",
        "  return model"
      ],
      "metadata": {
        "id": "yk1yxwVrYmuB"
      },
      "execution_count": null,
      "outputs": []
    },
    {
      "cell_type": "code",
      "source": [
        "# Define the Hyperband tuner\n",
        "tuner = Hyperband(build_model,\n",
        "                  objective=\"val_accuracy\",\n",
        "                  max_epochs=3,\n",
        "                  factor=3,\n",
        "                  directory='/content/drive/MyDrive/Colab Notebooks/PFE/tfidf_hyper_3',\n",
        "                  project_name='sentiment_analysis')"
      ],
      "metadata": {
        "id": "By1Yv6KaiBcx"
      },
      "execution_count": null,
      "outputs": []
    },
    {
      "cell_type": "code",
      "source": [
        "tuner.search(x_train, y_train, validation_data=(x_val, y_val), epochs=15)"
      ],
      "metadata": {
        "id": "iJmHyxTqiNdr"
      },
      "execution_count": null,
      "outputs": []
    },
    {
      "cell_type": "code",
      "source": [
        "best_hps = tuner.get_best_hyperparameters(1)[0]"
      ],
      "metadata": {
        "id": "Oo_r099yignH"
      },
      "execution_count": null,
      "outputs": []
    },
    {
      "cell_type": "code",
      "source": [
        "print(best_hps.values)"
      ],
      "metadata": {
        "colab": {
          "base_uri": "https://localhost:8080/"
        },
        "id": "W7srMDUnHYtp",
        "outputId": "7a8d790e-316b-405f-d102-3eb1b6bde6db"
      },
      "execution_count": null,
      "outputs": [
        {
          "output_type": "stream",
          "name": "stdout",
          "text": [
            "{'learning_rate': 0.001, 'dropout_rate': 0.1, 'batch_size': 16, 'tuner/epochs': 1, 'tuner/initial_epoch': 0, 'tuner/bracket': 1, 'tuner/round': 0}\n"
          ]
        }
      ]
    },
    {
      "cell_type": "code",
      "source": [
        "final_model = tuner.hypermodel.build(best_hps)\n",
        "final_model.summary()"
      ],
      "metadata": {
        "id": "YUbFPdVfipW7",
        "colab": {
          "base_uri": "https://localhost:8080/"
        },
        "outputId": "216ea264-10ba-4367-a46f-fceb1c932e2e"
      },
      "execution_count": null,
      "outputs": [
        {
          "output_type": "stream",
          "name": "stderr",
          "text": [
            "WARNING:tensorflow:Layer lstm will not use cuDNN kernels since it doesn't meet the criteria. It will use a generic GPU kernel as fallback when running on GPU.\n",
            "WARNING:tensorflow:Layer lstm will not use cuDNN kernels since it doesn't meet the criteria. It will use a generic GPU kernel as fallback when running on GPU.\n",
            "WARNING:tensorflow:Layer lstm will not use cuDNN kernels since it doesn't meet the criteria. It will use a generic GPU kernel as fallback when running on GPU.\n"
          ]
        },
        {
          "output_type": "stream",
          "name": "stdout",
          "text": [
            "Model: \"sequential\"\n",
            "_________________________________________________________________\n",
            " Layer (type)                Output Shape              Param #   \n",
            "=================================================================\n",
            " embedding (Embedding)       (None, 265, 256)          7042560   \n",
            "                                                                 \n",
            " bidirectional (Bidirectiona  (None, 265, 512)         1050624   \n",
            " l)                                                              \n",
            "                                                                 \n",
            " global_max_pooling1d (Globa  (None, 512)              0         \n",
            " lMaxPooling1D)                                                  \n",
            "                                                                 \n",
            " dense (Dense)               (None, 128)               65664     \n",
            "                                                                 \n",
            " dropout (Dropout)           (None, 128)               0         \n",
            "                                                                 \n",
            " dense_1 (Dense)             (None, 64)                8256      \n",
            "                                                                 \n",
            " dropout_1 (Dropout)         (None, 64)                0         \n",
            "                                                                 \n",
            " dense_2 (Dense)             (None, 32)                2080      \n",
            "                                                                 \n",
            " dropout_2 (Dropout)         (None, 32)                0         \n",
            "                                                                 \n",
            " dense_3 (Dense)             (None, 3)                 99        \n",
            "                                                                 \n",
            "=================================================================\n",
            "Total params: 8,169,283\n",
            "Trainable params: 8,169,283\n",
            "Non-trainable params: 0\n",
            "_________________________________________________________________\n"
          ]
        }
      ]
    },
    {
      "cell_type": "code",
      "source": [
        "early_stopping = EarlyStopping(monitor='val_accuracy', patience=5, restore_best_weights=True)\n",
        "history = final_model.fit(x_train, y_train, validation_data=(x_val, y_val), epochs=15, callbacks=[early_stopping])"
      ],
      "metadata": {
        "id": "fu9S8Y15ixca",
        "colab": {
          "base_uri": "https://localhost:8080/"
        },
        "outputId": "14eb38ad-4057-4374-d2d7-0182c3d58a58"
      },
      "execution_count": null,
      "outputs": [
        {
          "output_type": "stream",
          "name": "stdout",
          "text": [
            "Epoch 1/15\n",
            "406/406 [==============================] - 1062s 3s/step - loss: 0.7181 - accuracy: 0.6826 - val_loss: 0.5834 - val_accuracy: 0.7595\n",
            "Epoch 2/15\n",
            "406/406 [==============================] - 1003s 2s/step - loss: 0.3968 - accuracy: 0.8556 - val_loss: 0.6216 - val_accuracy: 0.7644\n",
            "Epoch 3/15\n",
            "406/406 [==============================] - 978s 2s/step - loss: 0.2196 - accuracy: 0.9245 - val_loss: 0.8355 - val_accuracy: 0.7461\n",
            "Epoch 4/15\n",
            "406/406 [==============================] - 978s 2s/step - loss: 0.1301 - accuracy: 0.9576 - val_loss: 0.8838 - val_accuracy: 0.7360\n",
            "Epoch 5/15\n",
            "406/406 [==============================] - 976s 2s/step - loss: 0.0867 - accuracy: 0.9713 - val_loss: 1.0855 - val_accuracy: 0.7140\n",
            "Epoch 6/15\n",
            "406/406 [==============================] - 978s 2s/step - loss: 0.0667 - accuracy: 0.9791 - val_loss: 1.4046 - val_accuracy: 0.7135\n",
            "Epoch 7/15\n",
            "406/406 [==============================] - 973s 2s/step - loss: 0.0497 - accuracy: 0.9834 - val_loss: 1.2613 - val_accuracy: 0.7232\n"
          ]
        }
      ]
    },
    {
      "cell_type": "code",
      "source": [
        "final_model.save('/content/drive/MyDrive/Colab Notebooks/PFE/bilstm_3.h5')"
      ],
      "metadata": {
        "id": "GLBQ8JHCsQPG"
      },
      "execution_count": null,
      "outputs": []
    },
    {
      "cell_type": "code",
      "source": [
        "model = load_model('/content/drive/MyDrive/Colab Notebooks/PFE/bilstm_3.h5')"
      ],
      "metadata": {
        "id": "e0pvXc-3JA0a",
        "colab": {
          "base_uri": "https://localhost:8080/"
        },
        "outputId": "d900d1ea-ccf7-4413-b260-d8028733a4e9"
      },
      "execution_count": null,
      "outputs": [
        {
          "output_type": "stream",
          "name": "stderr",
          "text": [
            "WARNING:tensorflow:Layer lstm will not use cuDNN kernels since it doesn't meet the criteria. It will use a generic GPU kernel as fallback when running on GPU.\n",
            "WARNING:tensorflow:Layer lstm will not use cuDNN kernels since it doesn't meet the criteria. It will use a generic GPU kernel as fallback when running on GPU.\n",
            "WARNING:tensorflow:Layer lstm will not use cuDNN kernels since it doesn't meet the criteria. It will use a generic GPU kernel as fallback when running on GPU.\n"
          ]
        }
      ]
    },
    {
      "cell_type": "code",
      "source": [
        "# Evaluate the final model\n",
        "loss, accuracy = model.evaluate(x_test, y_test)\n",
        "print('Test Loss:', loss)\n",
        "print('Test Accuracy:', accuracy)"
      ],
      "metadata": {
        "id": "gbKNI-f2jMKH",
        "colab": {
          "base_uri": "https://localhost:8080/"
        },
        "outputId": "7f85cb74-e8c2-46a2-9ad7-a1a2ad1bb6e0"
      },
      "execution_count": null,
      "outputs": [
        {
          "output_type": "stream",
          "name": "stdout",
          "text": [
            "136/136 [==============================] - 34s 218ms/step - loss: 0.6121 - accuracy: 0.7630\n",
            "Test Loss: 0.61207515001297\n",
            "Test Accuracy: 0.763005793094635\n"
          ]
        }
      ]
    },
    {
      "cell_type": "code",
      "source": [
        "pred = model.predict(x_test)"
      ],
      "metadata": {
        "id": "rZpMHkMGrqEb",
        "colab": {
          "base_uri": "https://localhost:8080/"
        },
        "outputId": "aa809b34-0e0c-4eac-c8b7-9c925d72f52d"
      },
      "execution_count": null,
      "outputs": [
        {
          "output_type": "stream",
          "name": "stdout",
          "text": [
            "136/136 [==============================] - 20s 146ms/step\n"
          ]
        }
      ]
    },
    {
      "cell_type": "code",
      "source": [
        "pred = np.argmax(pred, axis=1)"
      ],
      "metadata": {
        "id": "oyhxZM9XMRhF"
      },
      "execution_count": null,
      "outputs": []
    },
    {
      "cell_type": "code",
      "source": [
        "y_test_original=np.argmax(y_test, axis=1)"
      ],
      "metadata": {
        "id": "I1FIcen4Md_F"
      },
      "execution_count": null,
      "outputs": []
    },
    {
      "cell_type": "code",
      "source": [
        "print(\"deep learning classification report\")\n",
        "print(classification_report(y_test_original, pred))"
      ],
      "metadata": {
        "id": "z3WjuVFjrLPF",
        "colab": {
          "base_uri": "https://localhost:8080/"
        },
        "outputId": "52574d3f-e295-4ad0-d414-efc185721f14"
      },
      "execution_count": null,
      "outputs": [
        {
          "output_type": "stream",
          "name": "stdout",
          "text": [
            "deep learning classification report\n",
            "              precision    recall  f1-score   support\n",
            "\n",
            "           0       0.74      0.88      0.81      1479\n",
            "           1       0.73      0.62      0.67      1427\n",
            "           2       0.81      0.79      0.80      1419\n",
            "\n",
            "    accuracy                           0.76      4325\n",
            "   macro avg       0.76      0.76      0.76      4325\n",
            "weighted avg       0.76      0.76      0.76      4325\n",
            "\n"
          ]
        }
      ]
    },
    {
      "cell_type": "code",
      "source": [
        "print(\"deep learning confusion matrix\")\n",
        "cm = confusion_matrix(y_test_original, pred)\n",
        "df_cm = pd.DataFrame(cm, index=class_names, columns=class_names)\n",
        "show_confusion_matrix(df_cm)"
      ],
      "metadata": {
        "id": "Df3dnh0SrLPO",
        "colab": {
          "base_uri": "https://localhost:8080/",
          "height": 495
        },
        "outputId": "b2b2959f-8be3-4e9e-f7f1-945623129600"
      },
      "execution_count": null,
      "outputs": [
        {
          "output_type": "stream",
          "name": "stdout",
          "text": [
            "deep learning confusion matrix\n"
          ]
        },
        {
          "output_type": "display_data",
          "data": {
            "text/plain": [
              "<Figure size 640x480 with 2 Axes>"
            ],
            "image/png": "[encoded data removed]"
          },
          "metadata": {}
        }
      ]
    },
    {
      "cell_type": "markdown",
      "source": [
        "## Test"
      ],
      "metadata": {
        "id": "3XsHJWdhsqco"
      }
    },
    {
      "cell_type": "code",
      "execution_count": null,
      "metadata": {
        "id": "780jBMF9aGwJ",
        "colab": {
          "base_uri": "https://localhost:8080/"
        },
        "outputId": "00fa72cf-0e43-41ea-dce8-2bd8bf9869be"
      },
      "outputs": [
        {
          "output_type": "stream",
          "name": "stdout",
          "text": [
            "1/1 [==============================] - 0s 167ms/step\n",
            "Predictions: [[0.9592379  0.03322202 0.00754012]\n",
            " [0.00434248 0.99033254 0.00532495]\n",
            " [0.0073769  0.16732362 0.8252995 ]]\n",
            "predicted_labels: [0 1 2]\n",
            "predicted_sentiments: ['negative', 'neutral', 'positive']\n"
          ]
        }
      ],
      "source": [
        "new_texts = [\"حرام غال بزاف خل صد \", \"شحال دير ؟\", \"بارك الله فيك\"]\n",
        "new_sequences = tokenizer.texts_to_sequences(new_texts)\n",
        "new_X = pad_sequences(new_sequences, maxlen=max_sequence_length)\n",
        "predictions = model.predict(new_X)\n",
        "predicted_labels = np.argmax(predictions, axis=1)\n",
        "predicted_sentiments = []\n",
        "for label in predicted_labels:\n",
        "    sentiment = [key for key, value in label_mapping.items() if value == label][0]\n",
        "    predicted_sentiments.append(sentiment)\n",
        "print(\"Predictions:\", predictions)\n",
        "print(\"predicted_labels:\", predicted_labels)\n",
        "print('predicted_sentiments:',predicted_sentiments)"
      ]
    },
    {
      "cell_type": "markdown",
      "metadata": {
        "id": "1cpWLSGxlwFb"
      },
      "source": [
        "# LSTM with two labels"
      ]
    },
    {
      "cell_type": "code",
      "source": [
        "tokenizer = Tokenizer()\n",
        "tokenizer.fit_on_texts(df['text'])\n",
        "sequences = tokenizer.texts_to_sequences(df['text'])"
      ],
      "metadata": {
        "id": "auZ_LvhObuyr"
      },
      "execution_count": null,
      "outputs": []
    },
    {
      "cell_type": "code",
      "source": [
        "len(tokenizer.word_index) + 1"
      ],
      "metadata": {
        "colab": {
          "base_uri": "https://localhost:8080/"
        },
        "id": "JZZige6qb4g0",
        "outputId": "e8e782c4-267d-468e-893f-b738b9a47d52"
      },
      "execution_count": null,
      "outputs": [
        {
          "output_type": "execute_result",
          "data": {
            "text/plain": [
              "27510"
            ]
          },
          "metadata": {},
          "execution_count": 15
        }
      ]
    },
    {
      "cell_type": "code",
      "source": [
        "max_sequence_length = max([len(sequence) for sequence in sequences])\n",
        "X = pad_sequences(sequences, maxlen=max_sequence_length)"
      ],
      "metadata": {
        "id": "EkwOISWKb2Iw"
      },
      "execution_count": null,
      "outputs": []
    },
    {
      "cell_type": "code",
      "source": [
        "max_sequence_length"
      ],
      "metadata": {
        "colab": {
          "base_uri": "https://localhost:8080/"
        },
        "id": "HFy2Hdypb8Vv",
        "outputId": "9f2408b3-cadb-479f-c6df-180c4985cc91"
      },
      "execution_count": null,
      "outputs": [
        {
          "output_type": "execute_result",
          "data": {
            "text/plain": [
              "265"
            ]
          },
          "metadata": {},
          "execution_count": 17
        }
      ]
    },
    {
      "cell_type": "code",
      "source": [
        "y = np.array(df.sentiment.values)"
      ],
      "metadata": {
        "id": "CCQJBLbldfrG"
      },
      "execution_count": null,
      "outputs": []
    },
    {
      "cell_type": "code",
      "source": [
        "x_train, x_test, y_train, y_test = train_test_split(X, y, test_size=0.2, random_state=21)"
      ],
      "metadata": {
        "id": "RDkfDh00h0Fz"
      },
      "execution_count": null,
      "outputs": []
    },
    {
      "cell_type": "code",
      "source": [
        "x_new = np.empty((0, x_train.shape[1]), x_train.dtype)\n",
        "y_new = np.empty((0,), y_train.dtype)\n",
        "for i in range(len(y_train)):\n",
        "  if y_train[i] != 1:\n",
        "    #x_train_binary.append(x_train[i])\n",
        "    x_new = np.vstack((x_new, x_train[i]))\n",
        "    y_new = np.append(y_new, y_train[i])\n",
        "    #y_train_binary.append(y_train[i])"
      ],
      "metadata": {
        "id": "or0jrM4wdrCc"
      },
      "execution_count": null,
      "outputs": []
    },
    {
      "cell_type": "code",
      "source": [
        "for i in range(len(y_new)):\n",
        "    if y_new[i] == 2:\n",
        "        y_new[i] = 1"
      ],
      "metadata": {
        "id": "johHsQowqwj1"
      },
      "execution_count": null,
      "outputs": []
    },
    {
      "cell_type": "code",
      "source": [
        "x_train, x_val, y_train, y_val = train_test_split(x_new, y_new, test_size=0.25, random_state=21)"
      ],
      "metadata": {
        "id": "9v9PFdQBCUQJ"
      },
      "execution_count": null,
      "outputs": []
    },
    {
      "cell_type": "code",
      "source": [
        "def build_model(hp):\n",
        "  learning_rate = hp.Choice('learning_rate', values=[1e-2, 1e-3, 1e-4, 1e-5])\n",
        "  dropout_rate = hp.Float('dropout_rate', 0.1, 0.5, step=0.1)\n",
        "\n",
        "  model = Sequential()\n",
        "  model.add(Embedding(len(tokenizer.word_index) + 1,\n",
        "                             output_dim=256,\n",
        "                             input_length=max_sequence_length))\n",
        "  model.add(Bidirectional(LSTM(256, dropout=dropout_rate,\n",
        "                                             recurrent_dropout=dropout_rate,\n",
        "                                             return_sequences=True)))\n",
        "  model.add(GlobalMaxPool1D())\n",
        "  model.add(Dense(128, activation='relu'))\n",
        "  model.add(Dropout(dropout_rate))\n",
        "  model.add(Dense(64, activation='relu'))\n",
        "  model.add(Dropout(dropout_rate))\n",
        "  model.add(Dense(32, activation='relu'))\n",
        "  model.add(Dropout(dropout_rate))\n",
        "  model.add(Dense(1, activation='sigmoid'))\n",
        "\n",
        "  # Compile the model\n",
        "  optimizer = Adam(learning_rate=learning_rate)\n",
        "\n",
        "  model.compile(optimizer=optimizer,\n",
        "                loss='binary_crossentropy',\n",
        "                metrics=['accuracy'])\n",
        "\n",
        "  return model"
      ],
      "metadata": {
        "id": "m7HYTKfnvUaW"
      },
      "execution_count": null,
      "outputs": []
    },
    {
      "cell_type": "code",
      "source": [
        "# Define the Hyperband tuner\n",
        "tuner = Hyperband(build_model,\n",
        "                  objective='val_accuracy',\n",
        "                  max_epochs=3,\n",
        "                  factor=3,\n",
        "                  directory='/content/drive/MyDrive/Colab Notebooks/PFE/tfidf_hyper_3',\n",
        "                  project_name='sentiment_analysis')"
      ],
      "metadata": {
        "id": "fPRyA_lTvUaW"
      },
      "execution_count": null,
      "outputs": []
    },
    {
      "cell_type": "code",
      "source": [
        "#tuner.search(x_train, y_train, validation_data=(x_val, y_val), epochs=15)"
      ],
      "metadata": {
        "id": "NWjsjGjKvUaW"
      },
      "execution_count": null,
      "outputs": []
    },
    {
      "cell_type": "code",
      "source": [
        "best_hps = tuner.get_best_hyperparameters(1)[0]"
      ],
      "metadata": {
        "id": "I1DRNljHvUaX"
      },
      "execution_count": null,
      "outputs": []
    },
    {
      "cell_type": "code",
      "source": [
        "print(best_hps.values)"
      ],
      "metadata": {
        "id": "_nePm06mwRaz",
        "colab": {
          "base_uri": "https://localhost:8080/"
        },
        "outputId": "430a2169-df1b-4fe4-9423-2e0ff3d6fa60"
      },
      "execution_count": null,
      "outputs": [
        {
          "output_type": "stream",
          "name": "stdout",
          "text": [
            "{'learning_rate': 0.001, 'dropout_rate': 0.1, 'batch_size': 16, 'tuner/epochs': 1, 'tuner/initial_epoch': 0, 'tuner/bracket': 1, 'tuner/round': 0}\n"
          ]
        }
      ]
    },
    {
      "cell_type": "code",
      "source": [
        "final_model = tuner.hypermodel.build(best_hps)\n",
        "final_model.summary()"
      ],
      "metadata": {
        "id": "9iX5UxThvUaX",
        "colab": {
          "base_uri": "https://localhost:8080/"
        },
        "outputId": "531fc43c-584b-4d73-822e-b3b5dd900a4d"
      },
      "execution_count": null,
      "outputs": [
        {
          "output_type": "stream",
          "name": "stderr",
          "text": [
            "WARNING:tensorflow:Layer lstm will not use cuDNN kernels since it doesn't meet the criteria. It will use a generic GPU kernel as fallback when running on GPU.\n",
            "WARNING:tensorflow:Layer lstm will not use cuDNN kernels since it doesn't meet the criteria. It will use a generic GPU kernel as fallback when running on GPU.\n",
            "WARNING:tensorflow:Layer lstm will not use cuDNN kernels since it doesn't meet the criteria. It will use a generic GPU kernel as fallback when running on GPU.\n"
          ]
        },
        {
          "output_type": "stream",
          "name": "stdout",
          "text": [
            "Model: \"sequential\"\n",
            "_________________________________________________________________\n",
            " Layer (type)                Output Shape              Param #   \n",
            "=================================================================\n",
            " embedding (Embedding)       (None, 265, 256)          7042560   \n",
            "                                                                 \n",
            " bidirectional (Bidirectiona  (None, 265, 512)         1050624   \n",
            " l)                                                              \n",
            "                                                                 \n",
            " global_max_pooling1d (Globa  (None, 512)              0         \n",
            " lMaxPooling1D)                                                  \n",
            "                                                                 \n",
            " dense (Dense)               (None, 128)               65664     \n",
            "                                                                 \n",
            " dropout (Dropout)           (None, 128)               0         \n",
            "                                                                 \n",
            " dense_1 (Dense)             (None, 64)                8256      \n",
            "                                                                 \n",
            " dropout_1 (Dropout)         (None, 64)                0         \n",
            "                                                                 \n",
            " dense_2 (Dense)             (None, 32)                2080      \n",
            "                                                                 \n",
            " dropout_2 (Dropout)         (None, 32)                0         \n",
            "                                                                 \n",
            " dense_3 (Dense)             (None, 1)                 33        \n",
            "                                                                 \n",
            "=================================================================\n",
            "Total params: 8,169,217\n",
            "Trainable params: 8,169,217\n",
            "Non-trainable params: 0\n",
            "_________________________________________________________________\n"
          ]
        }
      ]
    },
    {
      "cell_type": "code",
      "source": [
        "early_stopping = EarlyStopping(monitor='val_accuracy', patience=5, restore_best_weights=True)\n",
        "history = final_model.fit(x_train, y_train, validation_data=(x_val, y_val), epochs=15, callbacks=[early_stopping])"
      ],
      "metadata": {
        "id": "k0oEZf53vUaX",
        "colab": {
          "base_uri": "https://localhost:8080/"
        },
        "outputId": "906ef028-be02-4e2f-8f95-40c347143cad"
      },
      "execution_count": null,
      "outputs": [
        {
          "output_type": "stream",
          "name": "stdout",
          "text": [
            "Epoch 1/15\n",
            "269/269 [==============================] - 685s 3s/step - loss: 0.0423 - accuracy: 0.9875 - val_loss: 0.3409 - val_accuracy: 0.9166\n",
            "Epoch 2/15\n",
            "269/269 [==============================] - 657s 2s/step - loss: 0.0159 - accuracy: 0.9958 - val_loss: 0.5155 - val_accuracy: 0.9047\n",
            "Epoch 3/15\n",
            "269/269 [==============================] - 658s 2s/step - loss: 0.0074 - accuracy: 0.9981 - val_loss: 0.5806 - val_accuracy: 0.9078\n",
            "Epoch 4/15\n",
            "269/269 [==============================] - 657s 2s/step - loss: 0.0046 - accuracy: 0.9991 - val_loss: 0.4931 - val_accuracy: 0.9117\n",
            "Epoch 5/15\n",
            "269/269 [==============================] - 652s 2s/step - loss: 0.0037 - accuracy: 0.9988 - val_loss: 0.5599 - val_accuracy: 0.9099\n",
            "Epoch 6/15\n",
            "269/269 [==============================] - 647s 2s/step - loss: 0.0020 - accuracy: 0.9995 - val_loss: 0.6382 - val_accuracy: 0.9029\n"
          ]
        }
      ]
    },
    {
      "cell_type": "code",
      "source": [
        "final_model.save('/content/drive/MyDrive/Colab Notebooks/PFE/bilstm_2.h5')"
      ],
      "metadata": {
        "id": "JZfquiAdvUaX"
      },
      "execution_count": null,
      "outputs": []
    },
    {
      "cell_type": "code",
      "source": [
        "model = load_model('/content/drive/MyDrive/Colab Notebooks/PFE/bilstm_2.h5')"
      ],
      "metadata": {
        "colab": {
          "base_uri": "https://localhost:8080/"
        },
        "id": "71rOENFle-sx",
        "outputId": "0cf0d8d8-e29b-4547-eb70-dd1385a1694b"
      },
      "execution_count": null,
      "outputs": [
        {
          "output_type": "stream",
          "name": "stderr",
          "text": [
            "WARNING:tensorflow:Layer lstm will not use cuDNN kernels since it doesn't meet the criteria. It will use a generic GPU kernel as fallback when running on GPU.\n",
            "WARNING:tensorflow:Layer lstm will not use cuDNN kernels since it doesn't meet the criteria. It will use a generic GPU kernel as fallback when running on GPU.\n",
            "WARNING:tensorflow:Layer lstm will not use cuDNN kernels since it doesn't meet the criteria. It will use a generic GPU kernel as fallback when running on GPU.\n"
          ]
        }
      ]
    },
    {
      "cell_type": "code",
      "source": [
        "predictions = model.predict(x_test)"
      ],
      "metadata": {
        "id": "HEazhYxvm4Vi",
        "colab": {
          "base_uri": "https://localhost:8080/"
        },
        "outputId": "7d37a7df-5215-431c-f5e6-09a26788f676"
      },
      "execution_count": null,
      "outputs": [
        {
          "output_type": "stream",
          "name": "stdout",
          "text": [
            "136/136 [==============================] - 24s 146ms/step\n"
          ]
        }
      ]
    },
    {
      "cell_type": "code",
      "source": [
        "predicted_labels = []\n",
        "for prob in predictions:\n",
        "    if prob < 0.33:\n",
        "        predicted_labels.append(0)\n",
        "    elif prob > 0.66:\n",
        "        predicted_labels.append(2)\n",
        "    else:\n",
        "        predicted_labels.append(1)"
      ],
      "metadata": {
        "id": "O9-N2dB0pcwb"
      },
      "execution_count": null,
      "outputs": []
    },
    {
      "cell_type": "code",
      "source": [
        "predicted_labels"
      ],
      "metadata": {
        "id": "xDxLrv-st5UU"
      },
      "execution_count": null,
      "outputs": []
    },
    {
      "cell_type": "code",
      "source": [
        "print(\"svm accuracy: \",accuracy_score(y_test, predicted_labels))\n",
        "print(\"svm f1: \",f1_score(y_test, predicted_labels, average='weighted'))"
      ],
      "metadata": {
        "id": "mXGQl_kJpkVQ",
        "colab": {
          "base_uri": "https://localhost:8080/"
        },
        "outputId": "ee5d3c7a-b719-4f5c-d9c8-2d6ffbf907d0"
      },
      "execution_count": null,
      "outputs": [
        {
          "output_type": "stream",
          "name": "stdout",
          "text": [
            "svm accuracy:  0.6289017341040463\n",
            "svm f1:  0.5438718928161743\n"
          ]
        }
      ]
    },
    {
      "cell_type": "code",
      "source": [
        "print(\"mnb classification report\")\n",
        "print(classification_report(y_test, predicted_labels))"
      ],
      "metadata": {
        "id": "t0i_pu-guVJZ",
        "colab": {
          "base_uri": "https://localhost:8080/"
        },
        "outputId": "9f825e31-9b6c-47bf-ac4d-3271d787aa97"
      },
      "execution_count": null,
      "outputs": [
        {
          "output_type": "stream",
          "name": "stdout",
          "text": [
            "mnb classification report\n",
            "              precision    recall  f1-score   support\n",
            "\n",
            "           0       0.61      0.94      0.74      1479\n",
            "           1       0.67      0.08      0.15      1427\n",
            "           2       0.65      0.85      0.74      1419\n",
            "\n",
            "    accuracy                           0.63      4325\n",
            "   macro avg       0.64      0.63      0.54      4325\n",
            "weighted avg       0.64      0.63      0.54      4325\n",
            "\n"
          ]
        }
      ]
    },
    {
      "cell_type": "code",
      "source": [
        "print(\"mnb confusion matrix\")\n",
        "cm = confusion_matrix(y_test, predicted_labels)\n",
        "df_cm = pd.DataFrame(cm, index=class_names, columns=class_names)\n",
        "show_confusion_matrix(df_cm)"
      ],
      "metadata": {
        "id": "7-SIpja2umaM",
        "colab": {
          "base_uri": "https://localhost:8080/",
          "height": 495
        },
        "outputId": "33eac271-3bad-424c-8e3f-bb52fd4f0f8b"
      },
      "execution_count": null,
      "outputs": [
        {
          "output_type": "stream",
          "name": "stdout",
          "text": [
            "mnb confusion matrix\n"
          ]
        },
        {
          "output_type": "display_data",
          "data": {
            "text/plain": [
              "<Figure size 640x480 with 2 Axes>"
            ],
            "image/png": "[encoded data removed]"
          },
          "metadata": {}
        }
      ]
    }
  ],
  "metadata": {
    "colab": {
      "collapsed_sections": [
        "g0-UiSIraXzL",
        "9W2MxyJzarjI",
        "x51dtGrWtYa_",
        "jWQny_dWf9_c",
        "L0Zolh9oxIKx",
        "qiT8RpEqgAaH",
        "ThJoOjdhgE_P",
        "QoZAF6LJnnbY",
        "1cpWLSGxlwFb"
      ],
      "provenance": [],
      "gpuType": "T4"
    },
    "kernelspec": {
      "display_name": "Python 3",
      "name": "python3"
    },
    "language_info": {
      "name": "python"
    },
    "accelerator": "GPU"
  },
  "nbformat": 4,
  "nbformat_minor": 0
}